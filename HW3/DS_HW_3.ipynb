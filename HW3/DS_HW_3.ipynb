{
 "cells": [
  {
   "cell_type": "markdown",
   "source": [
    "Дане домашнє завдання буде повністю пов'язане з лінійною регресією та її реалізацією. Отож розіб'ємо наше домашнє завдання на декілька частин:\n",
    "\n",
    "    - напишіть функцію гіпотези лінійної регресії у векторному вигляді;\n",
    "    - створіть функцію для обчислення функції втрат у векторному вигляді;\n",
    "    - реалізуйте один крок градієнтного спуску;\n",
    "    - знайдіть найкращі параметри $\\vec{w}$ для датасету прогнозуючу ціну на будинок залежно від площі, кількості ванних кімнат та кількості спалень;\n",
    "    - знайдіть ці ж параметри за допомогою аналітичного рішення;\n",
    "    - порівняйте отримані результати.\n",
    "\n"
   ],
   "metadata": {
    "collapsed": false
   },
   "id": "b3cf6809649ef524"
  },
  {
   "cell_type": "code",
   "execution_count": null,
   "outputs": [],
   "source": [
    "import numpy as np\n",
    "import pandas as pd\n",
    "import matplotlib.pyplot as plt"
   ],
   "metadata": {
    "collapsed": false
   },
   "id": "64a0840d221725ee"
  },
  {
   "cell_type": "code",
   "execution_count": null,
   "outputs": [],
   "source": [
    "data = pd.read_csv(\"data/Housing.csv\", delimiter=\",\")"
   ],
   "metadata": {
    "collapsed": false
   },
   "id": "ea43b1d21bafce04"
  },
  {
   "cell_type": "code",
   "execution_count": null,
   "outputs": [],
   "source": [
    "data.head()"
   ],
   "metadata": {
    "collapsed": false
   },
   "id": "883a5c76466e55fd"
  },
  {
   "cell_type": "markdown",
   "source": [
    "Визначення ознак"
   ],
   "metadata": {
    "collapsed": false
   },
   "id": "41e8d9cc696b10a9"
  },
  {
   "cell_type": "code",
   "execution_count": null,
   "outputs": [],
   "source": [
    "# X = data[['square_meters', 'bathrooms', 'bedrooms']].values\n",
    "# y = data['price'].values\n",
    "# X = data[:, :-1]\n",
    "# y = data[:, -1]\n",
    "# learning_rate = 0.01\n",
    "# iterations = 1000"
   ],
   "metadata": {
    "collapsed": false
   },
   "id": "5af9d9557bb30b55"
  },
  {
   "cell_type": "code",
   "execution_count": null,
   "outputs": [],
   "source": [
    "# w = np.random.randn(X.shape[1])"
   ],
   "metadata": {
    "collapsed": false
   },
   "id": "a8f517cfddbaaa6f"
  },
  {
   "cell_type": "code",
   "execution_count": null,
   "outputs": [],
   "source": [
    "def hypothesis(X, w):\n",
    "    \"\"\"\n",
    "    Linear regression hypothesis in vector form.\n",
    "    Parameters:\n",
    "    :param X: matrix\n",
    "    :param w: vector (weights)\n",
    "    :return: Vector of predictions for each example\n",
    "    \"\"\"\n",
    "    return np.dot(X, w)"
   ],
   "metadata": {
    "collapsed": false
   },
   "id": "a2f0a2c5184cd7fd"
  },
  {
   "cell_type": "code",
   "execution_count": null,
   "outputs": [],
   "source": [
    "def loss(X, w, y):\n",
    "    \"\"\"\n",
    "    Calculation of the loss function in vector form.\n",
    "    Parameters:\n",
    "    :param x: matrix\n",
    "    :param y: vector values\n",
    "    :param w: vector (weights) \n",
    "    :return: The value of the loss function\n",
    "    \"\"\"\n",
    "    m = len(y)\n",
    "    return (1/(2*m)) * np.sum((hypothesis(X, w) - y)**2)"
   ],
   "metadata": {
    "collapsed": false
   },
   "id": "e6cacc35cde0a46a"
  },
  {
   "cell_type": "code",
   "execution_count": null,
   "id": "initial_id",
   "metadata": {
    "collapsed": true
   },
   "outputs": [],
   "source": [
    "def gradient_descent_step(X, y, w, learning_rate):\n",
    "    \"\"\"\n",
    "    One step of gradient descent.\n",
    "    \n",
    "    :param X: matrix\n",
    "    :param y: vector of target values\n",
    "    :param w: vector of parameters (weights)\n",
    "    :param learning_rate: learning rate\n",
    "    :return: Updated parameters w\n",
    "    \"\"\"\n",
    "    m = len(y)\n",
    "    predictions = hypothesis(X, w)\n",
    "    errors = predictions - y\n",
    "    gradient = (1/m) * np.dot(X.T, errors)\n",
    "    w = w - learning_rate * gradient\n",
    "    return w"
   ]
  },
  {
   "cell_type": "code",
   "execution_count": null,
   "outputs": [],
   "source": [
    "def gradient_descent(X, y, w, learning_rate, iterations):\n",
    "    \"\"\"\n",
    "    Gradient descent\n",
    "    :param X: \n",
    "    :param y: \n",
    "    :param w: \n",
    "    :param learning_rate: \n",
    "    :param iterations: \n",
    "    :return: \n",
    "    \"\"\"\n",
    "    costs = []\n",
    "    for i in range(iterations):\n",
    "        w = gradient_descent_step(X, y, w, learning_rate)\n",
    "        cost = loss(X, y, w)\n",
    "        costs.append(cost)\n",
    "        if i % 100 == 0:\n",
    "            print(f\"Iteration {i}, Cost: {cost}\")\n",
    "    return w, costs"
   ],
   "metadata": {
    "collapsed": false
   },
   "id": "a956738bbdb8a047"
  },
  {
   "cell_type": "code",
   "execution_count": null,
   "outputs": [],
   "source": [
    "def analytical_solution(x, y):\n",
    "    return np.linalg.inv(x.T @ x) @ x.T @ y"
   ],
   "metadata": {
    "collapsed": false
   },
   "id": "7eeabd4a48870ba7"
  },
  {
   "cell_type": "code",
   "execution_count": null,
   "outputs": [],
   "source": [
    "X = data[['square_meters', 'bathrooms', 'bedrooms']].values\n",
    "y = data['price'].values\n",
    "\n",
    "X = np.c_[np.ones(X.shape[0]), X]\n",
    "\n",
    "w = np.random.randn(X.shape[1])\n",
    "\n",
    "learning_rate = 0.01\n",
    "iterations = 1000\n",
    "\n",
    "optimized_w, costs = gradient_descent(X, y, w, learning_rate, iterations)\n",
    "\n",
    "analytical_w = analytical_solution(X, y)\n",
    "\n",
    "print(\"Parameters from Gradient Descent:\", optimized_w)\n",
    "print(\"Parameters from Analytical Solution:\", analytical_w)"
   ],
   "metadata": {
    "collapsed": false
   },
   "id": "7e798efc1499beb7"
  }
 ],
 "metadata": {
  "kernelspec": {
   "display_name": "Python 3",
   "language": "python",
   "name": "python3"
  },
  "language_info": {
   "codemirror_mode": {
    "name": "ipython",
    "version": 2
   },
   "file_extension": ".py",
   "mimetype": "text/x-python",
   "name": "python",
   "nbconvert_exporter": "python",
   "pygments_lexer": "ipython2",
   "version": "2.7.6"
  }
 },
 "nbformat": 4,
 "nbformat_minor": 5
}
