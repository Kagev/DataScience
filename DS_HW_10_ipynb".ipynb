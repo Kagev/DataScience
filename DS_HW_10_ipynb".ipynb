{
  "nbformat": 4,
  "nbformat_minor": 0,
  "metadata": {
    "colab": {
      "provenance": [],
      "authorship_tag": "ABX9TyOxfLxqn/Z63FCaSZ3nJlZR",
      "include_colab_link": true
    },
    "kernelspec": {
      "name": "python3",
      "display_name": "Python 3"
    },
    "language_info": {
      "name": "python"
    }
  },
  "cells": [
    {
      "cell_type": "markdown",
      "metadata": {
        "id": "view-in-github",
        "colab_type": "text"
      },
      "source": [
        "<a href=\"https://colab.research.google.com/github/Kagev/DataScience/blob/main/DS_HW_10_ipynb%22.ipynb\" target=\"_parent\"><img src=\"https://colab.research.google.com/assets/colab-badge.svg\" alt=\"Open In Colab\"/></a>"
      ]
    },
    {
      "cell_type": "markdown",
      "source": [
        "\n",
        "**Завдання**\n",
        "На цьому тижні ми вивчили як працюють рекомендаційні системи. Пропонуємо вам познайомитись з бібліотекою surprise, котра якраз є по суті додатком до знайомої нам бібліотеки scikit-learn для тренування моделей рекомендаційних систем.\n",
        "\n",
        "Візьміть датасет movielens і побудуйте модель матричної факторизації. У даній бібліотеці він має назву SVD. Підберіть найкращі параметри за допомогою крос-валідації, також поекспериментуйте з іншими алгоритмами розрахунків (SVD++, NMF) і оберіть той, який буде оптимальним.\n",
        "\n",
        "Підказки як саме побудувати дану модель ви знайдете в документації до даної бібліотеки.\n",
        "\n",
        " **Додаткове завдання з зірочкою**\n",
        "Для більшого заглиблення в роботу алгоритму, пропонуємо реалізувати алгоритм колабораційної фільтрації з нуля. Для цього ми можемо скористатись нашою домашньою роботою з 3-ого модуля. Якщо ми модифікуємо функцію втрат та розрахунок градієнтів, то зможемо побудувати алгоритм матричної факторизації.\n",
        "\n",
        "Тут ви можете побачити формули та завантаження датасету. А ось посилання на назви фільмів та на рейтинги.\n",
        "\n",
        "Вдалої роботи!"
      ],
      "metadata": {
        "id": "_LqRYxfLHQ9t"
      }
    },
    {
      "cell_type": "code",
      "source": [
        "!pip install scikit-surprise"
      ],
      "metadata": {
        "colab": {
          "base_uri": "https://localhost:8080/"
        },
        "id": "eayQ0FTUutov",
        "outputId": "acd62b9e-84b1-4033-8035-a0ff03161484"
      },
      "execution_count": 14,
      "outputs": [
        {
          "output_type": "stream",
          "name": "stdout",
          "text": [
            "Requirement already satisfied: scikit-surprise in /usr/local/lib/python3.10/dist-packages (1.1.4)\n",
            "Requirement already satisfied: joblib>=1.2.0 in /usr/local/lib/python3.10/dist-packages (from scikit-surprise) (1.4.2)\n",
            "Requirement already satisfied: numpy>=1.19.5 in /usr/local/lib/python3.10/dist-packages (from scikit-surprise) (1.26.4)\n",
            "Requirement already satisfied: scipy>=1.6.0 in /usr/local/lib/python3.10/dist-packages (from scikit-surprise) (1.13.1)\n"
          ]
        }
      ]
    },
    {
      "cell_type": "code",
      "source": [
        "import numpy as np\n",
        "from surprise import Dataset, SVD, SVDpp, NMF\n",
        "from surprise.model_selection import cross_validate\n",
        "from surprise.model_selection import GridSearchCV\n"
      ],
      "metadata": {
        "id": "tEGiuzO0wSzW"
      },
      "execution_count": 15,
      "outputs": []
    },
    {
      "cell_type": "code",
      "execution_count": 13,
      "metadata": {
        "colab": {
          "base_uri": "https://localhost:8080/"
        },
        "id": "E6NccbFhHPch",
        "outputId": "3960e9bc-03d7-4c1a-eb4f-64d95e469094"
      },
      "outputs": [
        {
          "output_type": "stream",
          "name": "stdout",
          "text": [
            "Крос-валідація для SVD:\n",
            "Evaluating RMSE, MAE of algorithm SVD on 5 split(s).\n",
            "\n",
            "                  Fold 1  Fold 2  Fold 3  Fold 4  Fold 5  Mean    Std     \n",
            "RMSE (testset)    0.9455  0.9356  0.9280  0.9371  0.9362  0.9365  0.0056  \n",
            "MAE (testset)     0.7427  0.7379  0.7321  0.7373  0.7372  0.7374  0.0034  \n",
            "Fit time          0.78    1.12    0.80    0.76    0.80    0.85    0.14    \n",
            "Test time         0.08    0.24    0.08    0.15    0.07    0.12    0.07    \n",
            "\n",
            "Крос-валідація для SVD++:\n",
            "Evaluating RMSE, MAE of algorithm SVDpp on 5 split(s).\n",
            "\n",
            "                  Fold 1  Fold 2  Fold 3  Fold 4  Fold 5  Mean    Std     \n",
            "RMSE (testset)    0.9201  0.9200  0.9144  0.9181  0.9304  0.9206  0.0053  \n",
            "MAE (testset)     0.7224  0.7207  0.7171  0.7214  0.7280  0.7219  0.0035  \n",
            "Fit time          24.40   23.91   25.82   25.78   24.33   24.85   0.80    \n",
            "Test time         3.50    4.13    3.58    3.75    3.45    3.68    0.25    \n",
            "\n",
            "Крос-валідація для NMF:\n",
            "Evaluating RMSE, MAE of algorithm NMF on 5 split(s).\n",
            "\n",
            "                  Fold 1  Fold 2  Fold 3  Fold 4  Fold 5  Mean    Std     \n",
            "RMSE (testset)    0.9606  0.9613  0.9659  0.9648  0.9621  0.9629  0.0020  \n",
            "MAE (testset)     0.7563  0.7561  0.7595  0.7581  0.7576  0.7575  0.0012  \n",
            "Fit time          1.57    1.07    1.30    1.00    1.30    1.25    0.20    \n",
            "Test time         0.24    0.06    0.15    0.06    0.15    0.13    0.07    \n"
          ]
        },
        {
          "output_type": "execute_result",
          "data": {
            "text/plain": [
              "{'test_rmse': array([0.96064089, 0.96131195, 0.96590162, 0.96477016, 0.96206602]),\n",
              " 'test_mae': array([0.75625319, 0.75612647, 0.75949207, 0.75805923, 0.75759337]),\n",
              " 'fit_time': (1.5674197673797607,\n",
              "  1.069087266921997,\n",
              "  1.2971439361572266,\n",
              "  0.9964685440063477,\n",
              "  1.2960810661315918),\n",
              " 'test_time': (0.2428891658782959,\n",
              "  0.06467008590698242,\n",
              "  0.15397429466247559,\n",
              "  0.06362271308898926,\n",
              "  0.14857745170593262)}"
            ]
          },
          "metadata": {},
          "execution_count": 13
        }
      ],
      "source": [
        "\n",
        "\n",
        "# Завантажуємо вбудований датасет MovieLens (ml-100k)\n",
        "data = Dataset.load_builtin('ml-100k')\n",
        "\n",
        "# Створюємо модель на основі SVD\n",
        "algo_svd = SVD()\n",
        "\n",
        "# Використовуємо крос-валідацію для оцінки моделі\n",
        "print(\"Крос-валідація для SVD:\")\n",
        "cross_validate(algo_svd, data, measures=['RMSE', 'MAE'], cv=5, verbose=True)\n",
        "\n",
        "# Створюємо модель на основі SVD++\n",
        "algo_svdpp = SVDpp()\n",
        "\n",
        "print(\"\\nКрос-валідація для SVD++:\")\n",
        "cross_validate(algo_svdpp, data, measures=['RMSE', 'MAE'], cv=5, verbose=True)\n",
        "\n",
        "# Створюємо модель на основі NMF\n",
        "algo_nmf = NMF()\n",
        "\n",
        "print(\"\\nКрос-валідація для NMF:\")\n",
        "cross_validate(algo_nmf, data, measures=['RMSE', 'MAE'], cv=5, verbose=True)\n"
      ]
    },
    {
      "cell_type": "code",
      "source": [
        "\n",
        "# Підбір параметрів для SVD\n",
        "param_grid = {'n_epochs': [5, 10, 20], 'lr_all': [0.002, 0.005, 0.01], 'reg_all': [0.2, 0.4, 0.6]}\n",
        "gs = GridSearchCV(SVD, param_grid, measures=['rmse', 'mae'], cv=3)\n",
        "\n",
        "# Тренуємо модель\n",
        "gs.fit(data)\n",
        "\n",
        "# Виводимо найкращі результати\n",
        "print(\"Найкращі параметри для SVD:\")\n",
        "print(gs.best_params['rmse'])\n",
        "\n",
        "# Те саме можна зробити для інших моделей, таких як SVD++ та NMF\n"
      ],
      "metadata": {
        "colab": {
          "base_uri": "https://localhost:8080/"
        },
        "id": "TH8NuHInKbMU",
        "outputId": "18dd28c8-617e-4d96-c0df-a91728868810"
      },
      "execution_count": 16,
      "outputs": [
        {
          "output_type": "stream",
          "name": "stdout",
          "text": [
            "Найкращі параметри для SVD:\n",
            "{'n_epochs': 20, 'lr_all': 0.01, 'reg_all': 0.2}\n"
          ]
        }
      ]
    },
    {
      "cell_type": "markdown",
      "source": [
        "Додаткове завдання: Реалізація алгоритму колабораційної фільтрації з нуля"
      ],
      "metadata": {
        "id": "x0uAdA4GwM1x"
      }
    },
    {
      "cell_type": "code",
      "source": [
        "# Ініціалізуємо дані (спрощена версія)\n",
        "# Припустимо, що у нас є 5 користувачів і 4 фільми\n",
        "R = np.array([\n",
        "    [5, 3, 0, 1],\n",
        "    [4, 0, 0, 1],\n",
        "    [1, 1, 0, 5],\n",
        "    [1, 0, 0, 4],\n",
        "    [0, 1, 5, 4],\n",
        "])\n",
        "\n",
        "# Ініціалізуємо кількість факторів\n",
        "num_users, num_items = R.shape\n",
        "num_factors = 3\n",
        "\n",
        "# Ініціалізуємо матриці U (користувачі) і V (фільми)\n",
        "U = np.random.normal(scale=1./num_factors, size=(num_users, num_factors))\n",
        "V = np.random.normal(scale=1./num_factors, size=(num_items, num_factors))\n",
        "\n",
        "# Гіперпараметри\n",
        "learning_rate = 0.01\n",
        "regularization = 0.1\n",
        "num_epochs = 5000\n",
        "\n",
        "# Функція для обчислення помилки\n",
        "def compute_loss(R, U, V, regularization):\n",
        "    loss = 0\n",
        "    for i in range(num_users):\n",
        "        for j in range(num_items):\n",
        "            if R[i, j] > 0:\n",
        "                loss += (R[i, j] - np.dot(U[i, :], V[j, :])) ** 2\n",
        "                for k in range(num_factors):\n",
        "                    loss += (regularization / 2) * (U[i, k] ** 2 + V[j, k] ** 2)\n",
        "    return loss\n",
        "\n",
        "# Градієнтний спуск для оновлення матриць U і V\n",
        "for epoch in range(num_epochs):\n",
        "    for i in range(num_users):\n",
        "        for j in range(num_items):\n",
        "            if R[i, j] > 0:\n",
        "                # Обчислюємо помилку\n",
        "                error = R[i, j] - np.dot(U[i, :], V[j, :])\n",
        "                # Оновлюємо матриці\n",
        "                U[i, :] += learning_rate * (error * V[j, :] - regularization * U[i, :])\n",
        "                V[j, :] += learning_rate * (error * U[i, :] - regularization * V[j, :])\n",
        "    # Виводимо втрату кожні 1000 епох\n",
        "    if epoch % 1000 == 0:\n",
        "        print(f\"Епоха {epoch}: Втрата = {compute_loss(R, U, V, regularization)}\")\n",
        "\n",
        "# Передбачення\n",
        "predicted_ratings = np.dot(U, V.T)\n",
        "print(\"Передбачені рейтинги:\")\n",
        "print(predicted_ratings)\n"
      ],
      "metadata": {
        "colab": {
          "base_uri": "https://localhost:8080/"
        },
        "id": "BJTAp7B1wNwM",
        "outputId": "71cde87c-0f04-4d73-cd8f-b53b643e0467"
      },
      "execution_count": 17,
      "outputs": [
        {
          "output_type": "stream",
          "name": "stdout",
          "text": [
            "Епоха 0: Втрата = 135.20819452969795\n",
            "Епоха 1000: Втрата = 5.528641077943098\n",
            "Епоха 2000: Втрата = 5.525465232187784\n",
            "Епоха 3000: Втрата = 5.524250992849268\n",
            "Епоха 4000: Втрата = 5.523723848517307\n",
            "Передбачені рейтинги:\n",
            "[[4.76691827 2.83751951 1.71970169 1.01504162]\n",
            " [3.82259287 2.29077319 1.5966771  0.99460474]\n",
            " [1.007505   0.98271082 5.79133775 4.71617996]\n",
            " [0.99082287 0.89856846 4.73330523 3.84041945]\n",
            " [1.13336109 0.98826172 4.85907533 3.92602512]]\n"
          ]
        }
      ]
    }
  ]
}