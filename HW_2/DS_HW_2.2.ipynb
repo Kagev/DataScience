{
  "nbformat": 4,
  "nbformat_minor": 0,
  "metadata": {
    "colab": {
      "provenance": [],
      "toc_visible": true,
      "mount_file_id": "1zu5XLnJs7rwFSpKFmBZ2XOjLvwI7vfSV",
      "authorship_tag": "ABX9TyPDRrWRsyhI9FunLTqLg2sT",
      "include_colab_link": true
    },
    "kernelspec": {
      "name": "python3",
      "display_name": "Python 3"
    },
    "language_info": {
      "name": "python"
    }
  },
  "cells": [
    {
      "cell_type": "markdown",
      "metadata": {
        "id": "view-in-github",
        "colab_type": "text"
      },
      "source": [
        "<a href=\"https://colab.research.google.com/github/Kagev/DataScience/blob/main/HW_2/DS_HW_2.2.ipynb\" target=\"_parent\"><img src=\"https://colab.research.google.com/assets/colab-badge.svg\" alt=\"Open In Colab\"/></a>"
      ]
    },
    {
      "cell_type": "markdown",
      "source": [
        "# DataScience - Homework 2 - part 2"
      ],
      "metadata": {
        "id": "zA5zcgKAPTEv"
      }
    },
    {
      "cell_type": "markdown",
      "source": [
        "Частина друга: Аналіз файлів\n",
        "\n",
        "Проведіть аналіз файлу 2017_jun_final.csv. Файл містить результати опитування розробників у червні 2017 року."
      ],
      "metadata": {
        "id": "Ev1lHUMMSQ1G"
      }
    },
    {
      "cell_type": "code",
      "source": [
        "import pandas as pd"
      ],
      "metadata": {
        "id": "0emENq-SSUqj"
      },
      "execution_count": null,
      "outputs": []
    },
    {
      "cell_type": "code",
      "source": [
        "# Прочитайте файл 2017_jun_final.csv за допомогою методу read_csv\n",
        "file_path = '/content/drive/MyDrive/Особисте/Навчання/GoIT/Colab Notebooks/2017_jun_final - 2017_jun_final.csv'\n",
        "data = pd.read_csv(file_path)"
      ],
      "metadata": {
        "id": "MNo3CErxTRvO"
      },
      "execution_count": null,
      "outputs": []
    },
    {
      "cell_type": "code",
      "source": [
        "# Прочитайте отриману таблицю, використовуючи метод head\n",
        "data_head = data.head()\n",
        "print(data_head)"
      ],
      "metadata": {
        "id": "V6ciEQR_TfhY",
        "colab": {
          "base_uri": "https://localhost:8080/"
        },
        "collapsed": true,
        "outputId": "4a419848-10c5-4b7e-bf47-bf595a26fa97"
      },
      "execution_count": null,
      "outputs": [
        {
          "output_type": "stream",
          "name": "stdout",
          "text": [
            "   N                    Посада Мова програмування Спеціалізація  \\\n",
            "0  1        Junior QA engineer                NaN     Manual QA   \n",
            "1  2        Junior QA engineer                NaN     Manual QA   \n",
            "2  3         Software Engineer            C#/.NET           NaN   \n",
            "3  4         Software Engineer         JavaScript           NaN   \n",
            "4  5  Senior Software Engineer         JavaScript           NaN   \n",
            "\n",
            "  Загальний досвід роботи Досвід роботи на поточному місці  \\\n",
            "0                     0.5                              0.5   \n",
            "1         менше 3 місяців                  менше 3 місяців   \n",
            "2                       4                                1   \n",
            "3                       5                                4   \n",
            "4       10 і більше років                              0.5   \n",
            "\n",
            "   Зарплата на місяць  Зміна зарплати за 12 місяців   Місто   Розмір компанії  \\\n",
            "0                 400                             0  Харків        до 10 осіб   \n",
            "1                 430                           130  Харків  більше 1000 осіб   \n",
            "2                2500                           800    Київ      до 1000 осіб   \n",
            "3                2000                           400   Одеса       до 200 осіб   \n",
            "4                4500                           500    Інше        до 10 осіб   \n",
            "\n",
            "   ... Ще студент                    Рівень англійської  \\\n",
            "0  ...       True    Pre-intermediate (нище середнього)   \n",
            "1  ...       True  Upper-Intermediate (вище середнього)   \n",
            "2  ...      False               Intermediate (середній)   \n",
            "3  ...      False    Pre-intermediate (нище середнього)   \n",
            "4  ...      False               Intermediate (середній)   \n",
            "\n",
            "                   Предметна область      Дата заповнення  \\\n",
            "0                      iOS,eCommerce  12/06/2017 12:38:08   \n",
            "1                       Веб-розробка  12/06/2017 12:42:51   \n",
            "2  Веб-розробка,Корпоративні системи  12/06/2017 13:02:47   \n",
            "3  Desktop Applications,Веб-розробка  12/06/2017 13:03:01   \n",
            "4  Desktop Applications,Веб-розробка  12/06/2017 13:03:47   \n",
            "\n",
            "                                          User.Agent   exp current_job_exp  \\\n",
            "0  Mozilla/5.0 (Windows NT 10.0; Win64; x64) Appl...   0.5             0.5   \n",
            "1  Mozilla/5.0 (iPad; CPU OS 10_2_1 like Mac OS X...   0.0             0.0   \n",
            "2  Mozilla/5.0 (Windows NT 10.0; Win64; x64) Appl...   4.0             1.0   \n",
            "3  Mozilla/5.0 (Windows NT 6.1; Win64; x64) Apple...   5.0             4.0   \n",
            "4  Mozilla/5.0 (iPhone; CPU iPhone OS 10_3_2 like...  10.0             0.5   \n",
            "\n",
            "  salary Валюта  cls  \n",
            "0    400    NaN   QA  \n",
            "1    430    NaN   QA  \n",
            "2   2500    NaN  DEV  \n",
            "3   2000    NaN  DEV  \n",
            "4   4500    NaN  DEV  \n",
            "\n",
            "[5 rows x 25 columns]\n"
          ]
        }
      ]
    },
    {
      "cell_type": "code",
      "source": [
        "# Визначте розмір таблиці за допомогою методу shape\n",
        "data_shape = data.shape\n",
        "print(data_shape)"
      ],
      "metadata": {
        "colab": {
          "base_uri": "https://localhost:8080/"
        },
        "id": "3lPByhCUVBk0",
        "outputId": "dc24facb-0f57-4886-d40c-81e468373db9"
      },
      "execution_count": null,
      "outputs": [
        {
          "output_type": "stream",
          "name": "stdout",
          "text": [
            "(8704, 25)\n"
          ]
        }
      ]
    },
    {
      "cell_type": "code",
      "source": [
        "# Визначте типи всіх стовпців за допомогою dataframe.dtypes\n",
        "data_types = data.dtypes\n",
        "print(data_types)"
      ],
      "metadata": {
        "colab": {
          "base_uri": "https://localhost:8080/"
        },
        "id": "04FUbl-YVMxn",
        "outputId": "2df8dc85-5373-49db-c243-4633d1be75f5"
      },
      "execution_count": null,
      "outputs": [
        {
          "output_type": "stream",
          "name": "stdout",
          "text": [
            "N                                     int64\n",
            "Посада                               object\n",
            "Мова програмування                   object\n",
            "Спеціалізація                        object\n",
            "Загальний досвід роботи              object\n",
            "Досвід роботи на поточному місці     object\n",
            "Зарплата на місяць                    int64\n",
            "Зміна зарплати за 12 місяців          int64\n",
            "Місто                                object\n",
            "Розмір компанії                      object\n",
            "Тип компанії                         object\n",
            "Стать                                object\n",
            "Вік                                   int64\n",
            "Освіта                               object\n",
            "Університет                          object\n",
            "Ще студент                             bool\n",
            "Рівень англійської                   object\n",
            "Предметна область                    object\n",
            "Дата заповнення                      object\n",
            "User.Agent                           object\n",
            "exp                                 float64\n",
            "current_job_exp                     float64\n",
            "salary                                int64\n",
            "Валюта                               object\n",
            "cls                                  object\n",
            "dtype: object\n"
          ]
        }
      ]
    },
    {
      "cell_type": "code",
      "source": [
        "# Порахуйте, яка частка пропусків міститься в кожній колонці (використовуйте методи isnull та sum)\n",
        "missing_values = data.isnull().sum() / data.shape[0] * 100\n",
        "print(missing_values)"
      ],
      "metadata": {
        "colab": {
          "base_uri": "https://localhost:8080/"
        },
        "id": "rTGbqJWuVVAf",
        "outputId": "9d4c8e77-dc75-4471-bba3-2e33881109e1"
      },
      "execution_count": null,
      "outputs": [
        {
          "output_type": "stream",
          "name": "stdout",
          "text": [
            "N                                    0.000000\n",
            "Посада                               0.000000\n",
            "Мова програмування                  44.232537\n",
            "Спеціалізація                       82.938879\n",
            "Загальний досвід роботи              0.000000\n",
            "Досвід роботи на поточному місці     0.000000\n",
            "Зарплата на місяць                   0.000000\n",
            "Зміна зарплати за 12 місяців         0.000000\n",
            "Місто                                0.000000\n",
            "Розмір компанії                      0.000000\n",
            "Тип компанії                         0.000000\n",
            "Стать                                0.000000\n",
            "Вік                                  0.000000\n",
            "Освіта                               0.000000\n",
            "Університет                          4.113051\n",
            "Ще студент                           0.000000\n",
            "Рівень англійської                   0.000000\n",
            "Предметна область                    2.562040\n",
            "Дата заповнення                      0.000000\n",
            "User.Agent                           0.000000\n",
            "exp                                  0.000000\n",
            "current_job_exp                      0.000000\n",
            "salary                               0.000000\n",
            "Валюта                              99.885110\n",
            "cls                                 18.083640\n",
            "dtype: float64\n"
          ]
        }
      ]
    },
    {
      "cell_type": "code",
      "source": [
        "# Видаліть усі стовпці з пропусками, крім стовпця \"Мова програмування\"\n",
        "# Переглянемо список усіх стовпців, щоб знайти точну назву стовпця\n",
        "\n",
        "\n",
        "columns_to_del = ['Мова програмування']\n",
        "data_cleaned = data.dropna(axis=1, how='any').join(data[columns_to_del])\n"
      ],
      "metadata": {
        "collapsed": true,
        "id": "5lYY-EFcVZfp"
      },
      "execution_count": null,
      "outputs": []
    },
    {
      "cell_type": "code",
      "source": [
        "# Знову порахуйте, яка частка пропусків міститься в кожній колонці і переконайтеся, що залишився тільки стовпець \"Мова.програмування\"\n",
        "missing_values = data.isnull().sum() / data.shape[0] * 100\n",
        "print(missing_values)"
      ],
      "metadata": {
        "colab": {
          "base_uri": "https://localhost:8080/"
        },
        "id": "-rwLo5swVcPM",
        "outputId": "1f7a44f1-8835-47d7-8f02-7c0feabb1a06"
      },
      "execution_count": null,
      "outputs": [
        {
          "output_type": "stream",
          "name": "stdout",
          "text": [
            "N                                    0.000000\n",
            "Посада                               0.000000\n",
            "Мова програмування                  44.232537\n",
            "Спеціалізація                       82.938879\n",
            "Загальний досвід роботи              0.000000\n",
            "Досвід роботи на поточному місці     0.000000\n",
            "Зарплата на місяць                   0.000000\n",
            "Зміна зарплати за 12 місяців         0.000000\n",
            "Місто                                0.000000\n",
            "Розмір компанії                      0.000000\n",
            "Тип компанії                         0.000000\n",
            "Стать                                0.000000\n",
            "Вік                                  0.000000\n",
            "Освіта                               0.000000\n",
            "Університет                          4.113051\n",
            "Ще студент                           0.000000\n",
            "Рівень англійської                   0.000000\n",
            "Предметна область                    2.562040\n",
            "Дата заповнення                      0.000000\n",
            "User.Agent                           0.000000\n",
            "exp                                  0.000000\n",
            "current_job_exp                      0.000000\n",
            "salary                               0.000000\n",
            "Валюта                              99.885110\n",
            "cls                                 18.083640\n",
            "dtype: float64\n"
          ]
        }
      ]
    },
    {
      "cell_type": "code",
      "source": [
        "# Видаліть усі рядки у вихідній таблиці за допомогою методу dropna\n",
        "data_cleaned = data_cleaned.dropna()\n",
        "print(data_cleaned)"
      ],
      "metadata": {
        "colab": {
          "base_uri": "https://localhost:8080/"
        },
        "id": "rQh0CugJVexD",
        "outputId": "72198eef-bfb6-480c-a02f-202443b56615"
      },
      "execution_count": null,
      "outputs": [
        {
          "output_type": "stream",
          "name": "stdout",
          "text": [
            "         N                    Посада Загальний досвід роботи  \\\n",
            "2        3         Software Engineer                       4   \n",
            "3        4         Software Engineer                       5   \n",
            "4        5  Senior Software Engineer       10 і більше років   \n",
            "6        7  Junior Software Engineer                       1   \n",
            "7        8  Senior Software Engineer                       6   \n",
            "...    ...                       ...                     ...   \n",
            "8692  8693         Software Engineer                       5   \n",
            "8694  8695  Junior Software Engineer                       1   \n",
            "8695  8696         Software Engineer                       1   \n",
            "8701  8702  Junior Software Engineer                       1   \n",
            "8703  8704  Senior Software Engineer                       7   \n",
            "\n",
            "     Досвід роботи на поточному місці  Зарплата на місяць  \\\n",
            "2                                   1                2500   \n",
            "3                                   4                2000   \n",
            "4                                 0.5                4500   \n",
            "6                     менше 3 місяців                 600   \n",
            "7                                   1                3300   \n",
            "...                               ...                 ...   \n",
            "8692                                1                3500   \n",
            "8694                                1                 550   \n",
            "8695                              0.5                1500   \n",
            "8701                              0.5                 800   \n",
            "8703                                2                5000   \n",
            "\n",
            "      Зміна зарплати за 12 місяців         Місто Розмір компанії  \\\n",
            "2                              800          Київ    до 1000 осіб   \n",
            "3                              400         Одеса     до 200 осіб   \n",
            "4                              500          Інше      до 10 осіб   \n",
            "6                              100  Хмельницький      до 50 осіб   \n",
            "7                              500          Київ      до 10 осіб   \n",
            "...                            ...           ...             ...   \n",
            "8692                           650     Віддалено     до 200 осіб   \n",
            "8694                           550        Харків     до 200 осіб   \n",
            "8695                          1000          Київ      до 10 осіб   \n",
            "8701                           500         Львів      до 10 осіб   \n",
            "8703                           800         Одеса    до 1000 осіб   \n",
            "\n",
            "       Тип компанії     Стать  Вік             Освіта  Ще студент  \\\n",
            "2     Аутсорсингова  чоловіча   26               Вища       False   \n",
            "3        Продуктова  чоловіча   30            Середня       False   \n",
            "4        Продуктова  чоловіча   30  Технікум / Коледж       False   \n",
            "6     Аутсорсингова  чоловіча   23               Вища       False   \n",
            "7        Продуктова  чоловіча   28               Вища       False   \n",
            "...             ...       ...  ...                ...         ...   \n",
            "8692  Аутсорсингова    жіноча   28               Вища       False   \n",
            "8694  Аутсорсингова  чоловіча   23               Вища       False   \n",
            "8695        Стартап  чоловіча   29               Вища       False   \n",
            "8701  Аутстафінгова  чоловіча   30       Неповна Вища       False   \n",
            "8703     Продуктова  чоловіча   28               Вища       False   \n",
            "\n",
            "                        Рівень англійської      Дата заповнення  \\\n",
            "2                  Intermediate (середній)  12/06/2017 13:02:47   \n",
            "3       Pre-intermediate (нище середнього)  12/06/2017 13:03:01   \n",
            "4                  Intermediate (середній)  12/06/2017 13:03:47   \n",
            "6       Pre-intermediate (нище середнього)  12/06/2017 13:04:26   \n",
            "7     Upper-Intermediate (вище середнього)  12/06/2017 13:04:27   \n",
            "...                                    ...                  ...   \n",
            "8692               Intermediate (середній)  12/07/2017 13:26:49   \n",
            "8694    Pre-intermediate (нище середнього)  12/07/2017 14:14:33   \n",
            "8695               Intermediate (середній)  12/07/2017 14:39:21   \n",
            "8701  Upper-Intermediate (вище середнього)  12/07/2017 17:32:26   \n",
            "8703  Upper-Intermediate (вище середнього)  12/07/2017 21:28:57   \n",
            "\n",
            "                                             User.Agent   exp  \\\n",
            "2     Mozilla/5.0 (Windows NT 10.0; Win64; x64) Appl...   4.0   \n",
            "3     Mozilla/5.0 (Windows NT 6.1; Win64; x64) Apple...   5.0   \n",
            "4     Mozilla/5.0 (iPhone; CPU iPhone OS 10_3_2 like...  10.0   \n",
            "6     Mozilla/5.0 (Windows NT 10.0; Win64; x64) Appl...   1.0   \n",
            "7     Mozilla/5.0 (X11; Ubuntu; Linux x86_64; rv:53....   6.0   \n",
            "...                                                 ...   ...   \n",
            "8692  Mozilla/5.0 (Macintosh; Intel Mac OS X 10_12_5...   5.0   \n",
            "8694  Mozilla/5.0 (Windows NT 10.0; WOW64; rv:54.0) ...   1.0   \n",
            "8695  Mozilla/5.0 (X11; Linux x86_64) AppleWebKit/53...   1.0   \n",
            "8701  Mozilla/5.0 (X11; Linux x86_64) AppleWebKit/53...   1.0   \n",
            "8703  Mozilla/5.0 (iPad; CPU OS 10_3_2 like Mac OS X...   7.0   \n",
            "\n",
            "      current_job_exp  salary Мова програмування  \n",
            "2                 1.0    2500            C#/.NET  \n",
            "3                 4.0    2000         JavaScript  \n",
            "4                 0.5    4500         JavaScript  \n",
            "6                 0.0     600            C#/.NET  \n",
            "7                 1.0    3300                C++  \n",
            "...               ...     ...                ...  \n",
            "8692              1.0    3500               Java  \n",
            "8694              1.0     550            C#/.NET  \n",
            "8695              0.5    1500             Python  \n",
            "8701              0.5     800         Ruby/Rails  \n",
            "8703              2.0    5000               Java  \n",
            "\n",
            "[4854 rows x 20 columns]\n"
          ]
        }
      ]
    },
    {
      "cell_type": "code",
      "source": [
        "# Визначте новий розмір таблиці за допомогою методу shape\n",
        "new_shape = data_cleaned.shape\n",
        "print (new_shape)"
      ],
      "metadata": {
        "colab": {
          "base_uri": "https://localhost:8080/"
        },
        "id": "tmHejslJVheM",
        "outputId": "a1c19e22-2e18-4bb6-c065-c9bb39723606"
      },
      "execution_count": null,
      "outputs": [
        {
          "output_type": "stream",
          "name": "stdout",
          "text": [
            "(4854, 20)\n"
          ]
        }
      ]
    },
    {
      "cell_type": "code",
      "source": [
        "# Створіть нову таблицю python_data, в якій будуть тільки рядки зі спеціалістами, які вказали мову програмування Python\n",
        "python_data = data_cleaned[data_cleaned['Мова програмування'] == 'Python']\n",
        "print(python_data)"
      ],
      "metadata": {
        "colab": {
          "base_uri": "https://localhost:8080/"
        },
        "id": "ToPQwdR8Vkpe",
        "outputId": "a8ae9395-32d5-43ef-fadd-2473c546a699"
      },
      "execution_count": null,
      "outputs": [
        {
          "output_type": "stream",
          "name": "stdout",
          "text": [
            "         N                    Посада Загальний досвід роботи  \\\n",
            "12      13         Software Engineer                       1   \n",
            "68      69         Software Engineer                     1.5   \n",
            "87      88  Junior Software Engineer                     0.5   \n",
            "114    115  Junior Software Engineer                     1.5   \n",
            "143    144  Junior Software Engineer                       1   \n",
            "...    ...                       ...                     ...   \n",
            "8546  8547         Software Engineer                       5   \n",
            "8625  8626         Software Engineer                       4   \n",
            "8635  8636  Senior Software Engineer       10 і більше років   \n",
            "8673  8674  Junior Software Engineer                     0.5   \n",
            "8695  8696         Software Engineer                       1   \n",
            "\n",
            "     Досвід роботи на поточному місці  Зарплата на місяць  \\\n",
            "12                    менше 3 місяців                 800   \n",
            "68                                0.5                 900   \n",
            "87                                0.5                 600   \n",
            "114                               0.5                 685   \n",
            "143                                 1                 750   \n",
            "...                               ...                 ...   \n",
            "8546                                1                2000   \n",
            "8625                                1                1750   \n",
            "8635                  менше 3 місяців                4000   \n",
            "8673                              0.5                 350   \n",
            "8695                              0.5                1500   \n",
            "\n",
            "      Зміна зарплати за 12 місяців      Місто   Розмір компанії  \\\n",
            "12                             200       Київ        до 50 осіб   \n",
            "68                             900       Київ        до 10 осіб   \n",
            "87                               0       Київ        до 10 осіб   \n",
            "114                            250       Київ      до 1000 осіб   \n",
            "143                            250       Київ        до 10 осіб   \n",
            "...                            ...        ...               ...   \n",
            "8546                           800  Запоріжжя        до 50 осіб   \n",
            "8625                             0       Київ  більше 1000 осіб   \n",
            "8635                          1300  Віддалено        до 10 осіб   \n",
            "8673                            50       Київ        до 50 осіб   \n",
            "8695                          1000       Київ        до 10 осіб   \n",
            "\n",
            "       Тип компанії     Стать  Вік        Освіта  Ще студент  \\\n",
            "12    Аутсорсингова  чоловіча   26          Вища       False   \n",
            "68          Стартап  чоловіча   21  Неповна Вища        True   \n",
            "87    Аутсорсингова  чоловіча   19  Неповна Вища        True   \n",
            "114   Аутсорсингова  чоловіча   21  Неповна Вища       False   \n",
            "143   Аутсорсингова  чоловіча   21  Неповна Вища        True   \n",
            "...             ...       ...  ...           ...         ...   \n",
            "8546  Аутсорсингова  чоловіча   22  Неповна Вища       False   \n",
            "8625  Аутсорсингова  чоловіча   28       Середня       False   \n",
            "8635        Стартап  чоловіча   33          Вища       False   \n",
            "8673  Аутсорсингова  чоловіча   22          Вища       False   \n",
            "8695        Стартап  чоловіча   29          Вища       False   \n",
            "\n",
            "                        Рівень англійської      Дата заповнення  \\\n",
            "12      Pre-intermediate (нище середнього)  12/06/2017 13:05:54   \n",
            "68    Upper-Intermediate (вище середнього)  12/06/2017 13:11:17   \n",
            "87    Upper-Intermediate (вище середнього)  12/06/2017 13:12:25   \n",
            "114                Intermediate (середній)  12/06/2017 13:14:52   \n",
            "143   Upper-Intermediate (вище середнього)  12/06/2017 13:19:10   \n",
            "...                                    ...                  ...   \n",
            "8546               Intermediate (середній)  10/07/2017 14:11:26   \n",
            "8625               Intermediate (середній)  11/07/2017 16:15:40   \n",
            "8635  Upper-Intermediate (вище середнього)  11/07/2017 17:51:36   \n",
            "8673               Intermediate (середній)   12/07/2017 9:37:16   \n",
            "8695               Intermediate (середній)  12/07/2017 14:39:21   \n",
            "\n",
            "                                             User.Agent   exp  \\\n",
            "12    Mozilla/5.0 (Windows NT 6.1; Win64; x64) Apple...   1.0   \n",
            "68    Mozilla/5.0 (Windows NT 10.0; Win64; x64) Appl...   1.5   \n",
            "87    Mozilla/5.0 (X11; Linux x86_64) AppleWebKit/53...   0.5   \n",
            "114   Mozilla/5.0 (X11; Linux x86_64) AppleWebKit/53...   1.5   \n",
            "143   Mozilla/5.0 (X11; Linux x86_64) AppleWebKit/53...   1.0   \n",
            "...                                                 ...   ...   \n",
            "8546  Mozilla/5.0 (Macintosh; Intel Mac OS X 10_12_5...   5.0   \n",
            "8625  Mozilla/5.0 (X11; Ubuntu; Linux x86_64; rv:54....   4.0   \n",
            "8635  Mozilla/5.0 (X11; Linux x86_64) AppleWebKit/53...  10.0   \n",
            "8673  Mozilla/5.0 (X11; Ubuntu; Linux x86_64; rv:54....   0.5   \n",
            "8695  Mozilla/5.0 (X11; Linux x86_64) AppleWebKit/53...   1.0   \n",
            "\n",
            "      current_job_exp  salary Мова програмування  \n",
            "12                0.0     800             Python  \n",
            "68                0.5     900             Python  \n",
            "87                0.5     600             Python  \n",
            "114               0.5     685             Python  \n",
            "143               1.0     750             Python  \n",
            "...               ...     ...                ...  \n",
            "8546              1.0    2000             Python  \n",
            "8625              1.0    1750             Python  \n",
            "8635              0.0    4000             Python  \n",
            "8673              0.5     350             Python  \n",
            "8695              0.5    1500             Python  \n",
            "\n",
            "[207 rows x 20 columns]\n"
          ]
        }
      ]
    },
    {
      "cell_type": "code",
      "source": [
        "# Визначте розмір таблиці python_data за допомогою методу shape\n",
        "data_shape =python_data.shape\n",
        "print(data_shape)"
      ],
      "metadata": {
        "colab": {
          "base_uri": "https://localhost:8080/"
        },
        "id": "Z7mc5F5rVmpa",
        "outputId": "c59547d7-204a-4fff-cd90-b71136ca5481"
      },
      "execution_count": null,
      "outputs": [
        {
          "output_type": "stream",
          "name": "stdout",
          "text": [
            "(207, 20)\n"
          ]
        }
      ]
    },
    {
      "cell_type": "code",
      "source": [
        "# Використовуючи метод groupby, виконайте групування за стовпчиком \"Посада\"\n",
        "print(python_data.columns)\n",
        "grouped_data = python_data.groupby('Посада')['Зарплата на місяць'].mean()\n",
        "print(grouped_data)"
      ],
      "metadata": {
        "colab": {
          "base_uri": "https://localhost:8080/"
        },
        "id": "6pPQr2F1VqnP",
        "outputId": "c410f590-b5ca-46f1-ae8c-8dd181a09a5b"
      },
      "execution_count": null,
      "outputs": [
        {
          "output_type": "stream",
          "name": "stdout",
          "text": [
            "Index(['N', 'Посада', 'Загальний досвід роботи',\n",
            "       'Досвід роботи на поточному місці', 'Зарплата на місяць',\n",
            "       'Зміна зарплати за 12 місяців', 'Місто', 'Розмір компанії',\n",
            "       'Тип компанії', 'Стать', 'Вік', 'Освіта', 'Ще студент',\n",
            "       'Рівень англійської', 'Дата заповнення', 'User.Agent', 'exp',\n",
            "       'current_job_exp', 'salary', 'Мова програмування'],\n",
            "      dtype='object')\n",
            "Посада\n",
            "Junior Software Engineer     560.841270\n",
            "Senior Software Engineer    3387.096774\n",
            "Software Engineer           1799.070000\n",
            "System Architect            4000.000000\n",
            "Technical Lead              3165.909091\n",
            "Name: Зарплата на місяць, dtype: float64\n"
          ]
        }
      ]
    },
    {
      "cell_type": "code",
      "source": [
        "# Створіть новий DataFrame, де для згрупованих даних за стовпчиком \"Посада\", виконайте агрегацію даних за допомогою методу agg і знайдіть мінімальне та максимальне значення у стовпчику \"Зарплата.в.місяць\"\n",
        "min_and_max_data = python_data.groupby('Посада').agg({'Зарплата на місяць': ['min', 'max']})\n",
        "min_and_max_data.columns = ['min', 'max']\n",
        "print(min_and_max_data)"
      ],
      "metadata": {
        "colab": {
          "base_uri": "https://localhost:8080/"
        },
        "id": "6npdmZEdVtEq",
        "outputId": "e64a7d9c-676d-4b2f-b3a5-97fee8bc23fa"
      },
      "execution_count": null,
      "outputs": [
        {
          "output_type": "stream",
          "name": "stdout",
          "text": [
            "                           min   max\n",
            "Посада                              \n",
            "Junior Software Engineer   100  1250\n",
            "Senior Software Engineer  1300  9200\n",
            "Software Engineer          500  5400\n",
            "System Architect          3000  5000\n",
            "Technical Lead            1425  6200\n"
          ]
        }
      ]
    },
    {
      "cell_type": "code",
      "source": [
        "# Створіть функцію fill_avg_salary, яка повертатиме середнє значення заробітної плати на місяць. Використовуйте її для методу apply та створіть новий стовпчик \"avg\"\n",
        "\n",
        "def fill_avg_salary(row):\n",
        "    return (row['min'] + row['max']) / 2\n",
        "\n",
        "min_and_max_data['avg'] = min_and_max_data.apply(fill_avg_salary, axis=1)"
      ],
      "metadata": {
        "id": "rl7cuJoIVvCS"
      },
      "execution_count": null,
      "outputs": []
    },
    {
      "cell_type": "code",
      "source": [
        "# Створіть описову статистику за допомогою методу describe для нового стовпчика.\n",
        "print(min_and_max_data['avg'].describe())"
      ],
      "metadata": {
        "id": "FXCG_38qVxbK",
        "colab": {
          "base_uri": "https://localhost:8080/"
        },
        "outputId": "be449fb1-85f3-40ba-8cd4-50215be7a0f3"
      },
      "execution_count": null,
      "outputs": [
        {
          "output_type": "stream",
          "name": "stdout",
          "text": [
            "count       5.000000\n",
            "mean     3337.500000\n",
            "std      1700.091909\n",
            "min       675.000000\n",
            "25%      2950.000000\n",
            "50%      3812.500000\n",
            "75%      4000.000000\n",
            "max      5250.000000\n",
            "Name: avg, dtype: float64\n"
          ]
        }
      ]
    },
    {
      "cell_type": "code",
      "source": [
        "# Збережіть отриману таблицю в CSV файл\n",
        "min_and_max_data.to_csv('/content/drive/MyDrive/Особисте/Навчання/GoIT/Colab Notebooks/finally_data .csv')"
      ],
      "metadata": {
        "id": "7wDRu5YBVzXO"
      },
      "execution_count": null,
      "outputs": []
    }
  ]
}