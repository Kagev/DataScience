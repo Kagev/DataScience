{
  "nbformat": 4,
  "nbformat_minor": 0,
  "metadata": {
    "colab": {
      "provenance": [],
      "toc_visible": true,
      "mount_file_id": "1zu5XLnJs7rwFSpKFmBZ2XOjLvwI7vfSV",
      "authorship_tag": "ABX9TyOE6DfolwchVe9FugE1QO/5",
      "include_colab_link": true
    },
    "kernelspec": {
      "name": "python3",
      "display_name": "Python 3"
    },
    "language_info": {
      "name": "python"
    }
  },
  "cells": [
    {
      "cell_type": "markdown",
      "metadata": {
        "id": "view-in-github",
        "colab_type": "text"
      },
      "source": [
        "<a href=\"https://colab.research.google.com/github/Kagev/DataScience/blob/main/HW_2/DS_HW_2.1.ipynb\" target=\"_parent\"><img src=\"https://colab.research.google.com/assets/colab-badge.svg\" alt=\"Open In Colab\"/></a>"
      ]
    },
    {
      "cell_type": "markdown",
      "source": [
        "Прочитайте дані за допомогою методу read_html з таблиці \"Коефіцієнт народжуваності в регіонах України (1950—2019)\" посилання"
      ],
      "metadata": {
        "id": "FV4ZNsIhoCF1"
      }
    },
    {
      "cell_type": "markdown",
      "source": [
        "# DataScience - Homework 2 - part 1\n"
      ],
      "metadata": {
        "id": "Ja81wjvhO_jy"
      }
    },
    {
      "cell_type": "code",
      "execution_count": null,
      "metadata": {
        "colab": {
          "base_uri": "https://localhost:8080/"
        },
        "id": "4PXwFq9mfnvT",
        "outputId": "3bdf226f-1a72-46f5-c424-aa9f541d6fef"
      },
      "outputs": [
        {
          "output_type": "stream",
          "name": "stdout",
          "text": [
            "[               Регіон   1950   1960   1970  1990  2000  2012 2014 2019\n",
            "0                Крим  230.0  206.0  160.0   130    73   126    —    —\n",
            "1           Вінницька  224.0  192.0  142.0   124    84   112  109   76\n",
            "2           Волинська  247.0  250.0  179.0   153   112   148  141  101\n",
            "3    Дніпропетровська  204.0  204.0  151.0   123    71   112  111   71\n",
            "4            Донецька  271.0  214.0  140.0   109    61    98   82    —\n",
            "5         Житомирська  261.0  223.0  159.0   129    89   122  120   79\n",
            "6        Закарпатська  314.0  273.0  207.0   168   115   151  146  104\n",
            "7          Запорізька  219.0  197.0  150.0   124    71   106  106   68\n",
            "8   Івано-Франківська  243.0  248.0  182.0   155   103   124  122   88\n",
            "9            Київська  204.0  189.0  156.0   123    73   122  121   80\n",
            "10     Кіровоградська  216.0  171.0  145.0   126    79   110  108   68\n",
            "11          Луганська  262.0  235.0  144.0   116    62    96   51    —\n",
            "12          Львівська  234.0  240.0  171.0   140    91   119  119   87\n",
            "13       Миколаївська  211.0  194.0  155.0   137    80   115  112   71\n",
            "14            Одеська  241.0  192.0  148.0   126    80   127  123   88\n",
            "15         Полтавська  186.0  163.0  131.0   118    70    99  100   65\n",
            "16         Рівненська  269.0  267.0  193.0   158   118   159  148  107\n",
            "17            Сумська  216.0  184.0  132.0   115    70    97   92   60\n",
            "18      Тернопільська  213.0  216.0  157.0   142    92   113  109   76\n",
            "19         Харківська  197.0  173.0  140.0   114    68    99  101   68\n",
            "20         Херсонська  208.0  214.0  166.0   143    85   117  115   81\n",
            "21        Хмельницька  234.0  198.0  148.0   129    85   113  112   79\n",
            "22          Черкаська  205.0  179.0  144.0   123    75   100   98   64\n",
            "23        Чернівецька  247.0  218.0  170.0   148   101   128  129   92\n",
            "24       Чернігівська  220.0  183.0  127.0   108    69    94   90   61\n",
            "25               Київ    NaN  174.0  159.0   120    73   120  121  110\n",
            "26        Севастополь    NaN    NaN    NaN   125    70   120    —    —\n",
            "27            Україна  228.0  205.0  152.0   126    78   114  111   81]\n"
          ]
        }
      ],
      "source": [
        "import matplotlib.pyplot as plt\n",
        "import pandas as pd\n",
        "import numpy as np\n",
        "import seaborn as sns\n",
        "\n",
        "\n",
        "# data = sns.load_dataset(\"mpg\")\n",
        "url = 'https://uk.wikipedia.org/wiki/%D0%9D%D0%B0%D1%81%D0%B5%D0%BB%D0%B5%D0%BD%D0%BD%D1%8F_%D0%A3%D0%BA%D1%80%D0%B0%D1%97%D0%BD%D0%B8'\n",
        "\n",
        "tables = pd.read_html(url, match='Коефіцієнт народжуваності в регіонах України')\n",
        "print(tables)\n",
        "\n",
        "\n",
        "\n",
        "\n"
      ]
    },
    {
      "cell_type": "markdown",
      "source": [
        "\n",
        "\n",
        "*   Вивести перші рядки таблиці за допомогою методу head\n",
        "\n"
      ],
      "metadata": {
        "id": "fLPHLSHHoJ9l"
      }
    },
    {
      "cell_type": "code",
      "source": [
        "data = tables[0]\n",
        "print(data.head())\n"
      ],
      "metadata": {
        "colab": {
          "base_uri": "https://localhost:8080/"
        },
        "id": "UEyOuaTLoA7k",
        "outputId": "cefb62a2-022a-4339-8903-d496316ece3b"
      },
      "execution_count": null,
      "outputs": [
        {
          "output_type": "stream",
          "name": "stdout",
          "text": [
            "             Регіон   1950   1960   1970  1990  2000  2012 2014 2019\n",
            "0              Крим  230.0  206.0  160.0   130    73   126    —    —\n",
            "1         Вінницька  224.0  192.0  142.0   124    84   112  109   76\n",
            "2         Волинська  247.0  250.0  179.0   153   112   148  141  101\n",
            "3  Дніпропетровська  204.0  204.0  151.0   123    71   112  111   71\n",
            "4          Донецька  271.0  214.0  140.0   109    61    98   82    —\n"
          ]
        }
      ]
    },
    {
      "cell_type": "markdown",
      "source": [
        "\n",
        "\n",
        "*   Визначте кількість рядків та стовпців у датафреймі (атрибут shape)\n",
        "\n"
      ],
      "metadata": {
        "id": "EXKG2OIHoR0D"
      }
    },
    {
      "cell_type": "code",
      "source": [
        "print(data.shape)"
      ],
      "metadata": {
        "colab": {
          "base_uri": "https://localhost:8080/"
        },
        "id": "WQ4KvuTan0kh",
        "outputId": "0cf1c7c9-e426-47ea-80e2-710b868a4912"
      },
      "execution_count": null,
      "outputs": [
        {
          "output_type": "stream",
          "name": "stdout",
          "text": [
            "(28, 9)\n"
          ]
        }
      ]
    },
    {
      "cell_type": "markdown",
      "source": [
        "\n",
        "\n",
        "*   Замініть у таблиці значення \"—\" на значення NaN\n",
        "\n"
      ],
      "metadata": {
        "id": "qK80FbKhoags"
      }
    },
    {
      "cell_type": "code",
      "source": [
        "data.replace('—', np.nan, inplace=True)\n",
        "print(data)"
      ],
      "metadata": {
        "colab": {
          "base_uri": "https://localhost:8080/"
        },
        "id": "j895ejtGofQz",
        "outputId": "90621c42-1dc1-423c-b0f9-33c16ffd9228"
      },
      "execution_count": null,
      "outputs": [
        {
          "output_type": "stream",
          "name": "stdout",
          "text": [
            "               Регіон   1950   1960   1970  1990  2000  2012 2014 2019\n",
            "0                Крим  230.0  206.0  160.0   130    73   126  NaN  NaN\n",
            "1           Вінницька  224.0  192.0  142.0   124    84   112  109   76\n",
            "2           Волинська  247.0  250.0  179.0   153   112   148  141  101\n",
            "3    Дніпропетровська  204.0  204.0  151.0   123    71   112  111   71\n",
            "4            Донецька  271.0  214.0  140.0   109    61    98   82  NaN\n",
            "5         Житомирська  261.0  223.0  159.0   129    89   122  120   79\n",
            "6        Закарпатська  314.0  273.0  207.0   168   115   151  146  104\n",
            "7          Запорізька  219.0  197.0  150.0   124    71   106  106   68\n",
            "8   Івано-Франківська  243.0  248.0  182.0   155   103   124  122   88\n",
            "9            Київська  204.0  189.0  156.0   123    73   122  121   80\n",
            "10     Кіровоградська  216.0  171.0  145.0   126    79   110  108   68\n",
            "11          Луганська  262.0  235.0  144.0   116    62    96   51  NaN\n",
            "12          Львівська  234.0  240.0  171.0   140    91   119  119   87\n",
            "13       Миколаївська  211.0  194.0  155.0   137    80   115  112   71\n",
            "14            Одеська  241.0  192.0  148.0   126    80   127  123   88\n",
            "15         Полтавська  186.0  163.0  131.0   118    70    99  100   65\n",
            "16         Рівненська  269.0  267.0  193.0   158   118   159  148  107\n",
            "17            Сумська  216.0  184.0  132.0   115    70    97   92   60\n",
            "18      Тернопільська  213.0  216.0  157.0   142    92   113  109   76\n",
            "19         Харківська  197.0  173.0  140.0   114    68    99  101   68\n",
            "20         Херсонська  208.0  214.0  166.0   143    85   117  115   81\n",
            "21        Хмельницька  234.0  198.0  148.0   129    85   113  112   79\n",
            "22          Черкаська  205.0  179.0  144.0   123    75   100   98   64\n",
            "23        Чернівецька  247.0  218.0  170.0   148   101   128  129   92\n",
            "24       Чернігівська  220.0  183.0  127.0   108    69    94   90   61\n",
            "25               Київ    NaN  174.0  159.0   120    73   120  121  110\n",
            "26        Севастополь    NaN    NaN    NaN   125    70   120  NaN  NaN\n",
            "27            Україна  228.0  205.0  152.0   126    78   114  111   81\n"
          ]
        }
      ]
    },
    {
      "cell_type": "markdown",
      "source": [
        "\n",
        "*   Визначте типи всіх стовпців за допомогою dataframe.dtypes\n"
      ],
      "metadata": {
        "id": "UcorNG8tpKFr"
      }
    },
    {
      "cell_type": "code",
      "source": [
        "print(data.dtypes)"
      ],
      "metadata": {
        "colab": {
          "base_uri": "https://localhost:8080/"
        },
        "id": "JDOuz5NgpfLU",
        "outputId": "2177ca2a-774c-45b2-d410-745e309bd210"
      },
      "execution_count": null,
      "outputs": [
        {
          "output_type": "stream",
          "name": "stdout",
          "text": [
            "Регіон     object\n",
            "1950      float64\n",
            "1960      float64\n",
            "1970      float64\n",
            "1990        int64\n",
            "2000        int64\n",
            "2012        int64\n",
            "2014       object\n",
            "2019       object\n",
            "dtype: object\n"
          ]
        }
      ]
    },
    {
      "cell_type": "markdown",
      "source": [
        "\n",
        "*   Замініть типи нечислових колонок на числові. Підказка - це колонки, де знаходився символ \"—\"\n",
        "\n"
      ],
      "metadata": {
        "id": "20-X9n5HptCj"
      }
    },
    {
      "cell_type": "markdown",
      "source": [],
      "metadata": {
        "id": "_CDvq9b8r_OE"
      }
    },
    {
      "cell_type": "code",
      "source": [
        "data[data.columns[1:]] = data[data.columns[1:]].astype(float)\n",
        "data.fillna(0, inplace=True)  # Заповнити нулями\n",
        "print(data.dtypes)\n",
        "print(data)"
      ],
      "metadata": {
        "colab": {
          "base_uri": "https://localhost:8080/"
        },
        "id": "P0uS2EGKpw9j",
        "outputId": "ce8d5bc0-6010-429c-e6cf-b500c5c31bcb"
      },
      "execution_count": null,
      "outputs": [
        {
          "output_type": "stream",
          "name": "stdout",
          "text": [
            "Регіон     object\n",
            "1950      float64\n",
            "1960      float64\n",
            "1970      float64\n",
            "1990      float64\n",
            "2000      float64\n",
            "2012      float64\n",
            "2014      float64\n",
            "2019      float64\n",
            "dtype: object\n",
            "               Регіон   1950   1960   1970   1990   2000   2012   2014   2019\n",
            "0                Крим  230.0  206.0  160.0  130.0   73.0  126.0    0.0    0.0\n",
            "1           Вінницька  224.0  192.0  142.0  124.0   84.0  112.0  109.0   76.0\n",
            "2           Волинська  247.0  250.0  179.0  153.0  112.0  148.0  141.0  101.0\n",
            "3    Дніпропетровська  204.0  204.0  151.0  123.0   71.0  112.0  111.0   71.0\n",
            "4            Донецька  271.0  214.0  140.0  109.0   61.0   98.0   82.0    0.0\n",
            "5         Житомирська  261.0  223.0  159.0  129.0   89.0  122.0  120.0   79.0\n",
            "6        Закарпатська  314.0  273.0  207.0  168.0  115.0  151.0  146.0  104.0\n",
            "7          Запорізька  219.0  197.0  150.0  124.0   71.0  106.0  106.0   68.0\n",
            "8   Івано-Франківська  243.0  248.0  182.0  155.0  103.0  124.0  122.0   88.0\n",
            "9            Київська  204.0  189.0  156.0  123.0   73.0  122.0  121.0   80.0\n",
            "10     Кіровоградська  216.0  171.0  145.0  126.0   79.0  110.0  108.0   68.0\n",
            "11          Луганська  262.0  235.0  144.0  116.0   62.0   96.0   51.0    0.0\n",
            "12          Львівська  234.0  240.0  171.0  140.0   91.0  119.0  119.0   87.0\n",
            "13       Миколаївська  211.0  194.0  155.0  137.0   80.0  115.0  112.0   71.0\n",
            "14            Одеська  241.0  192.0  148.0  126.0   80.0  127.0  123.0   88.0\n",
            "15         Полтавська  186.0  163.0  131.0  118.0   70.0   99.0  100.0   65.0\n",
            "16         Рівненська  269.0  267.0  193.0  158.0  118.0  159.0  148.0  107.0\n",
            "17            Сумська  216.0  184.0  132.0  115.0   70.0   97.0   92.0   60.0\n",
            "18      Тернопільська  213.0  216.0  157.0  142.0   92.0  113.0  109.0   76.0\n",
            "19         Харківська  197.0  173.0  140.0  114.0   68.0   99.0  101.0   68.0\n",
            "20         Херсонська  208.0  214.0  166.0  143.0   85.0  117.0  115.0   81.0\n",
            "21        Хмельницька  234.0  198.0  148.0  129.0   85.0  113.0  112.0   79.0\n",
            "22          Черкаська  205.0  179.0  144.0  123.0   75.0  100.0   98.0   64.0\n",
            "23        Чернівецька  247.0  218.0  170.0  148.0  101.0  128.0  129.0   92.0\n",
            "24       Чернігівська  220.0  183.0  127.0  108.0   69.0   94.0   90.0   61.0\n",
            "25               Київ    0.0  174.0  159.0  120.0   73.0  120.0  121.0  110.0\n",
            "26        Севастополь    0.0    0.0    0.0  125.0   70.0  120.0    0.0    0.0\n",
            "27            Україна  228.0  205.0  152.0  126.0   78.0  114.0  111.0   81.0\n"
          ]
        }
      ]
    },
    {
      "cell_type": "code",
      "source": [
        "# # Заміна типів нечислових колонок на числові\n",
        "# non_numeric_columns = [col for col in table.columns if table[col].dtype == object]\n",
        "# table[non_numeric_columns] = table[non_numeric_columns].apply(pd.to_numeric, errors='coerce')\n",
        "# print(table[non_numeric_columns])"
      ],
      "metadata": {
        "id": "eFhv1QetseJQ"
      },
      "execution_count": null,
      "outputs": []
    },
    {
      "cell_type": "markdown",
      "source": [
        "\n",
        "\n",
        "*   Порахуйте, яка частка пропусків міститься в кожній колонці (використовуйте методи isnull та sum)\n",
        "\n"
      ],
      "metadata": {
        "id": "VwXh2AChtJEm"
      }
    },
    {
      "cell_type": "code",
      "source": [
        "print(data.isnull().sum())"
      ],
      "metadata": {
        "colab": {
          "base_uri": "https://localhost:8080/"
        },
        "id": "aQevGmyVs6AD",
        "outputId": "78dfa998-3eb5-4195-baae-3d7f5e26c458"
      },
      "execution_count": null,
      "outputs": [
        {
          "output_type": "stream",
          "name": "stdout",
          "text": [
            "Регіон    0\n",
            "1950      0\n",
            "1960      0\n",
            "1970      0\n",
            "1990      0\n",
            "2000      0\n",
            "2012      0\n",
            "2014      0\n",
            "2019      0\n",
            "dtype: int64\n"
          ]
        }
      ]
    },
    {
      "cell_type": "markdown",
      "source": [
        "\n",
        "\n",
        "*   Видаліть з таблиці дані по всій країні, останній рядок таблиці\n",
        "\n"
      ],
      "metadata": {
        "id": "ZnvDounrtYww"
      }
    },
    {
      "cell_type": "code",
      "source": [
        "table = data.drop(data.index[-1])\n",
        "print(table)\n",
        "#table.drop(table.index[-1])\n",
        "\n",
        "#print(table1)"
      ],
      "metadata": {
        "colab": {
          "base_uri": "https://localhost:8080/"
        },
        "id": "oOMMeFz9tbg1",
        "outputId": "8a34c4c1-abd3-44de-d1a1-a0e1426e1c17"
      },
      "execution_count": null,
      "outputs": [
        {
          "output_type": "stream",
          "name": "stdout",
          "text": [
            "               Регіон   1950   1960   1970   1990   2000   2012   2014   2019\n",
            "0                Крим  230.0  206.0  160.0  130.0   73.0  126.0    0.0    0.0\n",
            "1           Вінницька  224.0  192.0  142.0  124.0   84.0  112.0  109.0   76.0\n",
            "2           Волинська  247.0  250.0  179.0  153.0  112.0  148.0  141.0  101.0\n",
            "3    Дніпропетровська  204.0  204.0  151.0  123.0   71.0  112.0  111.0   71.0\n",
            "4            Донецька  271.0  214.0  140.0  109.0   61.0   98.0   82.0    0.0\n",
            "5         Житомирська  261.0  223.0  159.0  129.0   89.0  122.0  120.0   79.0\n",
            "6        Закарпатська  314.0  273.0  207.0  168.0  115.0  151.0  146.0  104.0\n",
            "7          Запорізька  219.0  197.0  150.0  124.0   71.0  106.0  106.0   68.0\n",
            "8   Івано-Франківська  243.0  248.0  182.0  155.0  103.0  124.0  122.0   88.0\n",
            "9            Київська  204.0  189.0  156.0  123.0   73.0  122.0  121.0   80.0\n",
            "10     Кіровоградська  216.0  171.0  145.0  126.0   79.0  110.0  108.0   68.0\n",
            "11          Луганська  262.0  235.0  144.0  116.0   62.0   96.0   51.0    0.0\n",
            "12          Львівська  234.0  240.0  171.0  140.0   91.0  119.0  119.0   87.0\n",
            "13       Миколаївська  211.0  194.0  155.0  137.0   80.0  115.0  112.0   71.0\n",
            "14            Одеська  241.0  192.0  148.0  126.0   80.0  127.0  123.0   88.0\n",
            "15         Полтавська  186.0  163.0  131.0  118.0   70.0   99.0  100.0   65.0\n",
            "16         Рівненська  269.0  267.0  193.0  158.0  118.0  159.0  148.0  107.0\n",
            "17            Сумська  216.0  184.0  132.0  115.0   70.0   97.0   92.0   60.0\n",
            "18      Тернопільська  213.0  216.0  157.0  142.0   92.0  113.0  109.0   76.0\n",
            "19         Харківська  197.0  173.0  140.0  114.0   68.0   99.0  101.0   68.0\n",
            "20         Херсонська  208.0  214.0  166.0  143.0   85.0  117.0  115.0   81.0\n",
            "21        Хмельницька  234.0  198.0  148.0  129.0   85.0  113.0  112.0   79.0\n",
            "22          Черкаська  205.0  179.0  144.0  123.0   75.0  100.0   98.0   64.0\n",
            "23        Чернівецька  247.0  218.0  170.0  148.0  101.0  128.0  129.0   92.0\n",
            "24       Чернігівська  220.0  183.0  127.0  108.0   69.0   94.0   90.0   61.0\n",
            "25               Київ    0.0  174.0  159.0  120.0   73.0  120.0  121.0  110.0\n",
            "26        Севастополь    0.0    0.0    0.0  125.0   70.0  120.0    0.0    0.0\n"
          ]
        }
      ]
    },
    {
      "cell_type": "markdown",
      "source": [
        "\n",
        "\n",
        "*   Замініть відсутні дані в стовпцях середніми значеннями цих стовпців (метод fillna)"
      ],
      "metadata": {
        "id": "0xVNL8d0t03f"
      }
    },
    {
      "cell_type": "code",
      "source": [
        "#table.fillna(table.mean(numeric_only=True))\n",
        "table.fillna(table.mean(numeric_only=True), inplace=True)\n",
        "\n",
        "print(table)"
      ],
      "metadata": {
        "colab": {
          "base_uri": "https://localhost:8080/"
        },
        "id": "CxizxbQYt6vb",
        "outputId": "963517d5-fed7-4c37-af09-ce9566da9f07"
      },
      "execution_count": null,
      "outputs": [
        {
          "output_type": "stream",
          "name": "stdout",
          "text": [
            "               Регіон   1950   1960   1970   1990   2000   2012   2014   2019\n",
            "0                Крим  230.0  206.0  160.0  130.0   73.0  126.0    0.0    0.0\n",
            "1           Вінницька  224.0  192.0  142.0  124.0   84.0  112.0  109.0   76.0\n",
            "2           Волинська  247.0  250.0  179.0  153.0  112.0  148.0  141.0  101.0\n",
            "3    Дніпропетровська  204.0  204.0  151.0  123.0   71.0  112.0  111.0   71.0\n",
            "4            Донецька  271.0  214.0  140.0  109.0   61.0   98.0   82.0    0.0\n",
            "5         Житомирська  261.0  223.0  159.0  129.0   89.0  122.0  120.0   79.0\n",
            "6        Закарпатська  314.0  273.0  207.0  168.0  115.0  151.0  146.0  104.0\n",
            "7          Запорізька  219.0  197.0  150.0  124.0   71.0  106.0  106.0   68.0\n",
            "8   Івано-Франківська  243.0  248.0  182.0  155.0  103.0  124.0  122.0   88.0\n",
            "9            Київська  204.0  189.0  156.0  123.0   73.0  122.0  121.0   80.0\n",
            "10     Кіровоградська  216.0  171.0  145.0  126.0   79.0  110.0  108.0   68.0\n",
            "11          Луганська  262.0  235.0  144.0  116.0   62.0   96.0   51.0    0.0\n",
            "12          Львівська  234.0  240.0  171.0  140.0   91.0  119.0  119.0   87.0\n",
            "13       Миколаївська  211.0  194.0  155.0  137.0   80.0  115.0  112.0   71.0\n",
            "14            Одеська  241.0  192.0  148.0  126.0   80.0  127.0  123.0   88.0\n",
            "15         Полтавська  186.0  163.0  131.0  118.0   70.0   99.0  100.0   65.0\n",
            "16         Рівненська  269.0  267.0  193.0  158.0  118.0  159.0  148.0  107.0\n",
            "17            Сумська  216.0  184.0  132.0  115.0   70.0   97.0   92.0   60.0\n",
            "18      Тернопільська  213.0  216.0  157.0  142.0   92.0  113.0  109.0   76.0\n",
            "19         Харківська  197.0  173.0  140.0  114.0   68.0   99.0  101.0   68.0\n",
            "20         Херсонська  208.0  214.0  166.0  143.0   85.0  117.0  115.0   81.0\n",
            "21        Хмельницька  234.0  198.0  148.0  129.0   85.0  113.0  112.0   79.0\n",
            "22          Черкаська  205.0  179.0  144.0  123.0   75.0  100.0   98.0   64.0\n",
            "23        Чернівецька  247.0  218.0  170.0  148.0  101.0  128.0  129.0   92.0\n",
            "24       Чернігівська  220.0  183.0  127.0  108.0   69.0   94.0   90.0   61.0\n",
            "25               Київ    0.0  174.0  159.0  120.0   73.0  120.0  121.0  110.0\n",
            "26        Севастополь    0.0    0.0    0.0  125.0   70.0  120.0    0.0    0.0\n"
          ]
        }
      ]
    },
    {
      "cell_type": "markdown",
      "source": [
        "\n",
        "\n",
        "*   Отримайте список регіонів, де рівень народжуваності у 2019 році був вищим за середній по Україні\n",
        "\n"
      ],
      "metadata": {
        "id": "GwR7D4MKu-uu"
      }
    },
    {
      "cell_type": "code",
      "source": [
        "if '2019' in table.columns:\n",
        "    higher_than_avg = table[table['2019'] > table['2019'].mean()]\n",
        "    if 'Регіон' in higher_than_avg.columns:\n",
        "        print(higher_than_avg['Регіон'])\n",
        "    else:\n",
        "        print(\"Стовпець 'Регіон' відсутній у вашому датафреймі.\")\n",
        "else:\n",
        "    print(\"Стовпець '2019' відсутній у вашому датафреймі.\")"
      ],
      "metadata": {
        "colab": {
          "base_uri": "https://localhost:8080/"
        },
        "id": "E7JjgNcrvLDE",
        "outputId": "82d4f9da-7e4d-494c-e3b3-6e9b2905b410"
      },
      "execution_count": null,
      "outputs": [
        {
          "output_type": "stream",
          "name": "stdout",
          "text": [
            "1             Вінницька\n",
            "2             Волинська\n",
            "3      Дніпропетровська\n",
            "5           Житомирська\n",
            "6          Закарпатська\n",
            "8     Івано-Франківська\n",
            "9              Київська\n",
            "12            Львівська\n",
            "13         Миколаївська\n",
            "14              Одеська\n",
            "16           Рівненська\n",
            "18        Тернопільська\n",
            "20           Херсонська\n",
            "21          Хмельницька\n",
            "23          Чернівецька\n",
            "25                 Київ\n",
            "Name: Регіон, dtype: object\n"
          ]
        }
      ]
    },
    {
      "cell_type": "markdown",
      "source": [
        "\n",
        "\n",
        "*   У якому регіоні була найвища народжуваність у 2014 році?\n",
        "\n"
      ],
      "metadata": {
        "id": "OlxwVYr-vB0i"
      }
    },
    {
      "cell_type": "code",
      "source": [
        "max_birth_2014 = table['Регіон'].iloc[table['2014'].idxmax()]\n",
        "print(max_birth_2014)"
      ],
      "metadata": {
        "colab": {
          "base_uri": "https://localhost:8080/"
        },
        "id": "OjSWwlNuvL0U",
        "outputId": "efc2f438-4435-4b32-ba88-ce89ada21793"
      },
      "execution_count": null,
      "outputs": [
        {
          "output_type": "stream",
          "name": "stdout",
          "text": [
            "Рівненська\n"
          ]
        }
      ]
    },
    {
      "cell_type": "markdown",
      "source": [
        "\n",
        "\n",
        "*   Побудуйте стовпчикову діаграму народжуваності по регіонах у 2019 році\n",
        "\n"
      ],
      "metadata": {
        "id": "Er1Yt6MMvFqe"
      }
    },
    {
      "cell_type": "code",
      "source": [
        "table.plot(x='Регіон', y='2019', kind='bar')"
      ],
      "metadata": {
        "colab": {
          "base_uri": "https://localhost:8080/",
          "height": 588
        },
        "id": "v20-mDmlvMaC",
        "outputId": "77495404-5ad0-4468-e508-95884a7aac09"
      },
      "execution_count": null,
      "outputs": [
        {
          "output_type": "execute_result",
          "data": {
            "text/plain": [
              "<Axes: xlabel='Регіон'>"
            ]
          },
          "metadata": {},
          "execution_count": 16
        },
        {
          "output_type": "display_data",
          "data": {
            "text/plain": [
              "<Figure size 640x480 with 1 Axes>"
            ],
            "image/png": "[encoded data removed]"
          },
          "metadata": {}
        }
      ]
    }
  ]
}