{
 "nbformat": 4,
 "nbformat_minor": 0,
 "metadata": {
  "colab": {
   "provenance": []
  },
  "kernelspec": {
   "name": "python3",
   "language": "python",
   "display_name": "Python 3 (ipykernel)"
  },
  "language_info": {
   "name": "python"
  }
 },
 "cells": [
  {
   "cell_type": "code",
   "source": [
    "import random\n",
    "import numpy as np"
   ],
   "metadata": {
    "id": "LrcfbMB2Eg3Z",
    "ExecuteTime": {
     "end_time": "2023-11-04T09:18:16.665758492Z",
     "start_time": "2023-11-04T09:18:16.074929639Z"
    }
   },
   "execution_count": 98,
   "outputs": []
  },
  {
   "cell_type": "markdown",
   "source": [
    "1. Створіть одновимірний масив (вектор) з першими 10-ма натуральними числами та виведіть його значення."
   ],
   "metadata": {
    "id": "SGzOzzNtBhzv"
   }
  },
  {
   "cell_type": "code",
   "execution_count": 99,
   "metadata": {
    "id": "hNXN97dAEUom",
    "ExecuteTime": {
     "end_time": "2023-11-04T09:18:16.771508009Z",
     "start_time": "2023-11-04T09:18:16.106553583Z"
    }
   },
   "outputs": [
    {
     "name": "stdout",
     "output_type": "stream",
     "text": [
      "[ 1  2  3  4  5  6  7  8  9 10]\n"
     ]
    }
   ],
   "source": [
    "vector1 = np.array((range(1,11)), dtype=int)\n",
    "print(vector1)"
   ]
  },
  {
   "cell_type": "markdown",
   "source": [
    "2. Створіть двовимірний масив (матрицю) розміром 3x3, заповніть його нулями та виведіть його значення."
   ],
   "metadata": {
    "id": "QdZ5ux0DByjL"
   }
  },
  {
   "cell_type": "code",
   "source": [
    "matrix2 = np.zeros((3,3), dtype=float)\n",
    "print(matrix2)"
   ],
   "metadata": {
    "id": "cJ8Ug-XjBiRU",
    "ExecuteTime": {
     "end_time": "2023-11-04T09:18:16.813045273Z",
     "start_time": "2023-11-04T09:18:16.192533054Z"
    }
   },
   "execution_count": 100,
   "outputs": [
    {
     "name": "stdout",
     "output_type": "stream",
     "text": [
      "[[0. 0. 0.]\n",
      " [0. 0. 0.]\n",
      " [0. 0. 0.]]\n"
     ]
    }
   ]
  },
  {
   "cell_type": "markdown",
   "source": [
    "3. Створіть масив розміром 5x5, заповніть його випадковими цілими числами в діапазоні від 1 до 10 та виведіть його значення."
   ],
   "metadata": {
    "id": "UDi-CL2nDALO"
   }
  },
  {
   "cell_type": "code",
   "source": [
    "matrix3 = np.random.randint(1, 11, size=(5, 5))\n",
    "print(matrix3)"
   ],
   "metadata": {
    "id": "I3UKBsj8ChpP",
    "ExecuteTime": {
     "end_time": "2023-11-04T09:18:16.859054934Z",
     "start_time": "2023-11-04T09:18:16.380527157Z"
    }
   },
   "execution_count": 101,
   "outputs": [
    {
     "name": "stdout",
     "output_type": "stream",
     "text": [
      "[[10 10  7  5  3]\n",
      " [ 9  2  5  7  4]\n",
      " [ 8  6  9  3 10]\n",
      " [ 4  5  9  9  2]\n",
      " [ 1  9  6  1  9]]\n"
     ]
    }
   ]
  },
  {
   "cell_type": "markdown",
   "source": [
    "4. Створіть масив розміром 4x4, заповніть його випадковими дійсними числами в діапазоні від 0 до 1 та виведіть його значення"
   ],
   "metadata": {
    "id": "HSTPcNBSuWSi"
   }
  },
  {
   "cell_type": "code",
   "source": [
    "matrix4 = np.random.rand(4, 4)\n",
    "print(matrix4)"
   ],
   "metadata": {
    "id": "2G0iiNMfuGu5",
    "ExecuteTime": {
     "end_time": "2023-11-04T09:18:16.861342492Z",
     "start_time": "2023-11-04T09:18:16.487896068Z"
    }
   },
   "execution_count": 102,
   "outputs": [
    {
     "name": "stdout",
     "output_type": "stream",
     "text": [
      "[[0.39035374 0.81008997 0.82445526 0.38307039]\n",
      " [0.62500133 0.28669017 0.72729487 0.37524529]\n",
      " [0.36549808 0.85567571 0.65725595 0.2138191 ]\n",
      " [0.54282095 0.64330565 0.61040418 0.22839714]]\n"
     ]
    }
   ]
  },
  {
   "cell_type": "markdown",
   "source": [
    "5. Створіть два одновимірних масиви розміром 5, заповніть їх випадковими цілими числами в діапазоні від 1 до 10 та виконайте на них поелементні операції додавання, віднімання та множення."
   ],
   "metadata": {
    "id": "xb3pRJupwV5r"
   }
  },
  {
   "cell_type": "code",
   "source": [
    "vector51 = np.array([random.randint(1,10) for k in range(5)])\n",
    "vector52 = np.array([random.randint(1,10) for m in range(5)])\n",
    "print(\"First vector:\", vector51)\n",
    "print(\"Second vector:\",vector52, \"\\n\")\n",
    "\n",
    "\n",
    "\n",
    "sum_result = vector51 + vector52\n",
    "sub_result = vector51 - vector52\n",
    "mult_result = vector51 * vector52\n",
    "\n",
    "print(\"Sum vector:\", sum_result)\n",
    "print(\"Sub vector:\",sub_result)\n",
    "print(\"Mul vector:\",mult_result)"
   ],
   "metadata": {
    "id": "2JcWOH4BvC_G",
    "ExecuteTime": {
     "end_time": "2023-11-04T09:18:16.994551477Z",
     "start_time": "2023-11-04T09:18:16.595073373Z"
    }
   },
   "execution_count": 103,
   "outputs": [
    {
     "name": "stdout",
     "output_type": "stream",
     "text": [
      "First vector: [6 1 6 5 7]\n",
      "Second vector: [5 8 6 6 5] \n",
      "\n",
      "Sum vector: [11  9 12 11 12]\n",
      "Sub vector: [ 1 -7  0 -1  2]\n",
      "Mul vector: [30  8 36 30 35]\n"
     ]
    }
   ]
  },
  {
   "cell_type": "markdown",
   "source": [
    "6. Створіть два вектори розміром 7, заповніть довільними числами та знайдіть їх скалярний добуток."
   ],
   "metadata": {
    "collapsed": false
   }
  },
  {
   "cell_type": "code",
   "execution_count": 104,
   "outputs": [
    {
     "name": "stdout",
     "output_type": "stream",
     "text": [
      "First v: [[0.24334954 0.34609132 0.20529148 0.401012   0.8437195  0.93592225\n",
      "  0.82858911]]\n",
      "Second v: [[0.4817614  0.91023592 0.05265219 0.80100923 0.57061281 0.84851434\n",
      "  0.42750429]] \n",
      "\n",
      "Dot: [[0.11723641 0.31502475 0.01080905 0.32121431 0.48143715 0.79414345\n",
      "  0.3542254 ]]\n"
     ]
    }
   ],
   "source": [
    "vector61 = np.random.rand(1,7)\n",
    "vector62 = np.random.rand(1,7)\n",
    "print(\"First v:\",vector61)\n",
    "print(\"Second v:\",vector62, \"\\n\")\n",
    "\n",
    "print(\"Dot:\",vector61 * vector62)"
   ],
   "metadata": {
    "collapsed": false,
    "ExecuteTime": {
     "end_time": "2023-11-04T09:18:17.030986496Z",
     "start_time": "2023-11-04T09:18:16.728576227Z"
    }
   }
  },
  {
   "cell_type": "markdown",
   "source": [
    "7. Створіть дві матриці розміром 2x2 та 2x3, заповніть їх випадковими цілими числами в діапазоні від 1 до 10 та перемножте їх між собою."
   ],
   "metadata": {
    "id": "OrTZDGnDy1PD"
   }
  },
  {
   "cell_type": "code",
   "source": [
    "matrix71 = np.random.randint(1, 11, size=(2, 2))\n",
    "matrix72 = np.random.randint(1, 11, size=(2, 3))\n",
    "dot_matrix = np.dot(matrix71,matrix72)\n",
    "print(\"matrix_1:\")\n",
    "print(matrix71)\n",
    "print(\"matrix_2:\")\n",
    "print(matrix72)\n",
    "print(\"\\n\", \"Dot matrix:\")\n",
    "print(dot_matrix)\n"
   ],
   "metadata": {
    "id": "aMJnFmgYy8e2",
    "ExecuteTime": {
     "end_time": "2023-11-04T09:18:17.049821538Z",
     "start_time": "2023-11-04T09:18:16.835202154Z"
    }
   },
   "execution_count": 105,
   "outputs": [
    {
     "name": "stdout",
     "output_type": "stream",
     "text": [
      "matrix_1:\n",
      "[[4 6]\n",
      " [3 8]]\n",
      "matrix_2:\n",
      "[[ 8  5 10]\n",
      " [ 3  8  5]]\n",
      "\n",
      " Dot matrix:\n",
      "[[50 68 70]\n",
      " [48 79 70]]\n"
     ]
    }
   ]
  },
  {
   "cell_type": "markdown",
   "source": [
    "8. Створіть матрицю розміром 3x3, заповніть її випадковими цілими числами в діапазоні від 1 до 10 та знайдіть її обернену матрицю."
   ],
   "metadata": {
    "id": "u2GXj6sxziH4"
   }
  },
  {
   "cell_type": "code",
   "source": [
    "matrix8 = np.random.randint(1, 11, size=(3, 3))\n",
    "print(matrix8)\n",
    "print(\"\\n\")\n",
    "a_inv = np.linalg.inv(matrix8)\n",
    "print(a_inv)"
   ],
   "metadata": {
    "colab": {
     "base_uri": "https://localhost:8080/"
    },
    "id": "PvpBqGPwzjkB",
    "outputId": "1cbd342d-34f0-4dc0-be3a-3b23eeac5203",
    "ExecuteTime": {
     "end_time": "2023-11-04T09:18:17.204117452Z",
     "start_time": "2023-11-04T09:18:16.991754386Z"
    }
   },
   "execution_count": 106,
   "outputs": [
    {
     "name": "stdout",
     "output_type": "stream",
     "text": [
      "[[9 1 6]\n",
      " [8 7 2]\n",
      " [2 4 6]]\n",
      "\n",
      "\n",
      "[[ 0.09189189  0.04864865 -0.10810811]\n",
      " [-0.11891892  0.11351351  0.08108108]\n",
      " [ 0.04864865 -0.09189189  0.14864865]]\n"
     ]
    }
   ]
  },
  {
   "cell_type": "markdown",
   "source": [
    "9. Створіть матрицю розміром 4x4, заповніть її випадковими дійсними числами в діапазоні від 0 до 1 та транспонуйте її."
   ],
   "metadata": {
    "collapsed": false
   }
  },
  {
   "cell_type": "code",
   "execution_count": 107,
   "outputs": [
    {
     "name": "stdout",
     "output_type": "stream",
     "text": [
      "[[0.98025782 0.72845711 0.43180074 0.03991835]\n",
      " [0.75057238 0.36479839 0.70588562 0.51044146]\n",
      " [0.84699199 0.36203571 0.95635052 0.38314196]\n",
      " [0.94763113 0.66828641 0.17584251 0.90074023]]\n",
      "\n",
      "\n",
      "[[0.98025782 0.75057238 0.84699199 0.94763113]\n",
      " [0.72845711 0.36479839 0.36203571 0.66828641]\n",
      " [0.43180074 0.70588562 0.95635052 0.17584251]\n",
      " [0.03991835 0.51044146 0.38314196 0.90074023]]\n"
     ]
    }
   ],
   "source": [
    "matrix9 = np.random.random((4, 4))\n",
    "print(matrix9)\n",
    "transpose_matrix = np.transpose(matrix9)\n",
    "print(\"\\n\")\n",
    "print(transpose_matrix)"
   ],
   "metadata": {
    "collapsed": false,
    "ExecuteTime": {
     "end_time": "2023-11-04T09:18:17.397283819Z",
     "start_time": "2023-11-04T09:18:17.175989820Z"
    }
   }
  },
  {
   "cell_type": "markdown",
   "source": [
    "10. Створіть матрицю розміром 3x4 та вектор розміром 4, заповніть їх випадковими цілими числами в діапазоні від 1 до 10 та перемножте матрицю на вектор."
   ],
   "metadata": {
    "collapsed": false
   }
  },
  {
   "cell_type": "code",
   "execution_count": 108,
   "outputs": [
    {
     "name": "stdout",
     "output_type": "stream",
     "text": [
      "[ 99 101 109]\n"
     ]
    }
   ],
   "source": [
    "vector10 = np.random.randint(1, 11, size=4)\n",
    "matrix10 = np.random.randint(1, 11, size=(3, 4))\n",
    "dot_vm = np.dot (vector10, matrix10.T)\n",
    "print(dot_vm)\n",
    "\n"
   ],
   "metadata": {
    "collapsed": false,
    "ExecuteTime": {
     "end_time": "2023-11-04T09:18:17.460739377Z",
     "start_time": "2023-11-04T09:18:17.357896993Z"
    }
   }
  },
  {
   "cell_type": "markdown",
   "source": [
    "11. Створіть матрицю розміром 2x3 та вектор розміром 3, заповніть їх випадковими дійсними числами в діапазоні від 0 до 1 та перемножте матрицю на вектор."
   ],
   "metadata": {
    "collapsed": false
   }
  },
  {
   "cell_type": "code",
   "execution_count": 109,
   "outputs": [
    {
     "name": "stdout",
     "output_type": "stream",
     "text": [
      "[0.96394522 0.90668954]\n"
     ]
    }
   ],
   "source": [
    "vector11 = np.random.random(size=3)\n",
    "matrix11 = np.random.random(size=(2, 3))\n",
    "# print(vector11)\n",
    "# print(matrix11)\n",
    "result = np.dot(vector11, matrix11.T)\n",
    "print(result)"
   ],
   "metadata": {
    "collapsed": false,
    "ExecuteTime": {
     "end_time": "2023-11-04T09:18:17.549572162Z",
     "start_time": "2023-11-04T09:18:17.437290657Z"
    }
   }
  },
  {
   "cell_type": "markdown",
   "source": [
    "12. Створіть дві матриці розміром 2x2, заповніть їх випадковими цілими числами в діапазоні від 1 до 10 та виконайте їхнє поелементне множення."
   ],
   "metadata": {
    "collapsed": false
   }
  },
  {
   "cell_type": "code",
   "execution_count": 110,
   "outputs": [
    {
     "name": "stdout",
     "output_type": "stream",
     "text": [
      "[[10 10]\n",
      " [20 12]]\n"
     ]
    }
   ],
   "source": [
    "matrix121 = np.random.randint(1,10, size=(2, 2))\n",
    "matrix122 = np.random.randint(1,10, size=(2, 2))\n",
    "result = matrix121 * matrix122\n",
    "print(result)"
   ],
   "metadata": {
    "collapsed": false,
    "ExecuteTime": {
     "end_time": "2023-11-04T09:18:17.676958542Z",
     "start_time": "2023-11-04T09:18:17.552447733Z"
    }
   }
  },
  {
   "cell_type": "markdown",
   "source": [
    "13. Створіть дві матриці розміром 2x2, заповніть їх випадковими цілими числами в діапазоні від 1 до 10 та знайдіть їх добуток."
   ],
   "metadata": {
    "collapsed": false
   }
  },
  {
   "cell_type": "code",
   "execution_count": 111,
   "outputs": [
    {
     "name": "stdout",
     "output_type": "stream",
     "text": [
      "[[11 23]\n",
      " [26 74]]\n"
     ]
    }
   ],
   "source": [
    "matrix131 = np.random.randint(1,10, size=(2, 2))\n",
    "matrix132 = np.random.randint(1,10, size=(2, 2))\n",
    "result = np.dot(matrix131, matrix132)\n",
    "print(result)"
   ],
   "metadata": {
    "collapsed": false,
    "ExecuteTime": {
     "end_time": "2023-11-04T09:18:17.833008458Z",
     "start_time": "2023-11-04T09:18:17.717807148Z"
    }
   }
  },
  {
   "cell_type": "markdown",
   "source": [
    "14. Створіть матрицю розміром 5x5, заповніть її випадковими цілими числами в діапазоні від 1 до 100 та знайдіть суму елементів матриці."
   ],
   "metadata": {
    "collapsed": false
   }
  },
  {
   "cell_type": "code",
   "execution_count": 112,
   "outputs": [
    {
     "name": "stdout",
     "output_type": "stream",
     "text": [
      "1532\n"
     ]
    }
   ],
   "source": [
    "matrix14 = np.random.randint(1,100, size=(5, 5))\n",
    "result = np.sum(matrix14)\n",
    "print(result)"
   ],
   "metadata": {
    "collapsed": false,
    "ExecuteTime": {
     "end_time": "2023-11-04T09:18:17.944909736Z",
     "start_time": "2023-11-04T09:18:17.823864354Z"
    }
   }
  },
  {
   "cell_type": "markdown",
   "source": [
    "15. Створіть дві матриці розміром 4x4, заповніть їх випадковими цілими числами в діапазоні від 1 до 10 та знайдіть їхню різницю."
   ],
   "metadata": {
    "collapsed": false
   }
  },
  {
   "cell_type": "code",
   "execution_count": 113,
   "outputs": [
    {
     "name": "stdout",
     "output_type": "stream",
     "text": [
      "[[-6 -2 -4  8]\n",
      " [-1  4  1  1]\n",
      " [ 0 -1 -1  0]\n",
      " [-3 -5  3  3]]\n"
     ]
    }
   ],
   "source": [
    "matrix151 = np.random.randint(1,10, size=(4, 4))\n",
    "matrix152 = np.random.randint(1,10, size=(4, 4))\n",
    "result = matrix151 - matrix152\n",
    "print(result)"
   ],
   "metadata": {
    "collapsed": false,
    "ExecuteTime": {
     "end_time": "2023-11-04T09:18:18.067591326Z",
     "start_time": "2023-11-04T09:18:17.949110790Z"
    }
   }
  },
  {
   "cell_type": "markdown",
   "source": [
    "16. Створіть матрицю розміром 3x3, заповніть її випадковими дійсними числами в діапазоні від 0 до 1 та знайдіть вектор-стовпчик, що містить суму елементів кожного рядка матриці."
   ],
   "metadata": {
    "collapsed": false
   }
  },
  {
   "cell_type": "code",
   "execution_count": 114,
   "outputs": [
    {
     "name": "stdout",
     "output_type": "stream",
     "text": [
      "[0.48844817 1.51972433 1.27534819]\n"
     ]
    }
   ],
   "source": [
    "matrix16 = np.random.random(size=(3, 3))\n",
    "\n",
    "result = np.sum(matrix16, axis=1)\n",
    "print(result)"
   ],
   "metadata": {
    "collapsed": false,
    "ExecuteTime": {
     "end_time": "2023-11-04T09:18:18.191236719Z",
     "start_time": "2023-11-04T09:18:18.110003200Z"
    }
   }
  },
  {
   "cell_type": "markdown",
   "source": [
    "17. Створіть матрицю розміром 3x4 з довільними цілими числами і створінь матрицю з квадратами цих чисел. "
   ],
   "metadata": {
    "collapsed": false
   }
  },
  {
   "cell_type": "code",
   "execution_count": 115,
   "outputs": [
    {
     "name": "stdout",
     "output_type": "stream",
     "text": [
      "[[39 75 13 37]\n",
      " [62 21 55 17]\n",
      " [38 16 53 71]]\n",
      "[[1521 5625  169 1369]\n",
      " [3844  441 3025  289]\n",
      " [1444  256 2809 5041]]\n"
     ]
    }
   ],
   "source": [
    "matrix17 = np.random.randint(1,100, size=(3, 4))\n",
    "result = np.square(matrix17)\n",
    "print(matrix17)\n",
    "print(result)"
   ],
   "metadata": {
    "collapsed": false,
    "ExecuteTime": {
     "end_time": "2023-11-04T09:18:18.315311265Z",
     "start_time": "2023-11-04T09:18:18.195358768Z"
    }
   }
  },
  {
   "cell_type": "markdown",
   "source": [
    "18. Створіть вектор розміром 4, заповніть його випадковими цілими числами в діапазоні від 1 до 50 та знайдіть вектор з квадратними коренями цих чисел."
   ],
   "metadata": {
    "collapsed": false
   }
  },
  {
   "cell_type": "code",
   "execution_count": 116,
   "outputs": [
    {
     "name": "stdout",
     "output_type": "stream",
     "text": [
      "[12 15 44]\n",
      "[ 144  225 1936]\n"
     ]
    }
   ],
   "source": [
    "vector18 = np.random.randint(1,50, size=3)\n",
    "result = np.square(vector18)\n",
    "print(vector18)\n",
    "print(result)\n"
   ],
   "metadata": {
    "collapsed": false,
    "ExecuteTime": {
     "end_time": "2023-11-04T09:18:18.470138431Z",
     "start_time": "2023-11-04T09:18:18.357889078Z"
    }
   }
  }
 ]
}
