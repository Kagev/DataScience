{
 "cells": [
  {
   "cell_type": "markdown",
   "source": [
    "Частина третя: Аналіз датасет c Kaggle.com\n",
    "\n",
    "У цій частині домашньої роботи ми ще більше заглибимося в бібліотеку pandas та розглянемо просунутіші функції.\n",
    "\n",
    "Для цієї вправи ми використовуємо дані за Топ-50 рейтингом книг, що найбільше продаються на Amazon за 11 років (з 2009 по 2019). Датасет знаходиться у відкритому доступі на Kaggle.com. Завантажте файл csv за посиланням і перемістіть його в ту саму директорію, де знаходиться ваш робочий ноутбук (для зручності). Після цього переходьте до завдання\n",
    "\n",
    "Для виконання цієї частини домашнього завдання потрібно буде не тільки написати код, а й відповісти на супутні запитання. Там, де ви побачите виділений жирним шрифтом напис відповідь: потрібно буде вставити питання у файл і відповідь на нього."
   ],
   "metadata": {
    "collapsed": false
   },
   "id": "6936c0c58e9c0da"
  },
  {
   "cell_type": "markdown",
   "source": [
    "1) Первинне дослідження даних"
   ],
   "metadata": {
    "collapsed": false
   },
   "id": "74a26120ceb86e71"
  },
  {
   "cell_type": "code",
   "execution_count": 73,
   "outputs": [],
   "source": [
    "import pandas as pd\n",
    "import matplotlib.pyplot as plt"
   ],
   "metadata": {
    "collapsed": false,
    "ExecuteTime": {
     "end_time": "2023-11-11T21:11:12.442455549Z",
     "start_time": "2023-11-11T21:11:11.763964955Z"
    }
   },
   "id": "95d958a17b660e84"
  },
  {
   "cell_type": "code",
   "execution_count": 74,
   "outputs": [
    {
     "name": "stdout",
     "output_type": "stream",
     "text": [
      "                                                name  \\\n",
      "0                      10-Day Green Smoothie Cleanse   \n",
      "1                                  11/22/63: A Novel   \n",
      "2            12 Rules for Life: An Antidote to Chaos   \n",
      "3                             1984 (Signet Classics)   \n",
      "4  5,000 Awesome Facts (About Everything!) (Natio...   \n",
      "\n",
      "                     author  user_rating  reviews  price  year        genre  \n",
      "0                  JJ Smith          4.7    17350      8  2016  Non Fiction  \n",
      "1              Stephen King          4.6     2052     22  2011      Fiction  \n",
      "2        Jordan B. Peterson          4.7    18979     15  2018  Non Fiction  \n",
      "3             George Orwell          4.7    21424      6  2017      Fiction  \n",
      "4  National Geographic Kids          4.8     7665     12  2019  Non Fiction  \n"
     ]
    }
   ],
   "source": [
    "file_path = 'data/bestsellers with categories.csv'\n",
    "df = pd.read_csv(file_path)\n",
    "df.columns = ['name', 'author', 'user_rating', 'reviews', 'price', 'year', 'genre']\n",
    "print(df.head())"
   ],
   "metadata": {
    "collapsed": false,
    "ExecuteTime": {
     "end_time": "2023-11-11T21:11:13.218343949Z",
     "start_time": "2023-11-11T21:11:11.782168847Z"
    }
   },
   "id": "59e8f31a70d70abe"
  },
  {
   "cell_type": "markdown",
   "source": [
    "- Перевірте, чи у всіх рядків вистачає даних: виведіть кількість пропусків (na) у кожному зі стовпців (використовуйте функції isna та sum)"
   ],
   "metadata": {
    "collapsed": false
   },
   "id": "4ca6af906874070"
  },
  {
   "cell_type": "code",
   "execution_count": 122,
   "outputs": [
    {
     "name": "stdout",
     "output_type": "stream",
     "text": [
      "Відсутні значення в кожному стовпці:\n"
     ]
    },
    {
     "data": {
      "text/plain": "name           0\nauthor         0\nuser_rating    0\nreviews        0\nprice          0\nyear           0\ngenre          0\ndtype: int64"
     },
     "execution_count": 122,
     "metadata": {},
     "output_type": "execute_result"
    }
   ],
   "source": [
    "missing_values = df.isna().sum()\n",
    "print(f\"Відсутні значення в кожному стовпці:\") \n",
    "missing_values\n"
   ],
   "metadata": {
    "collapsed": false,
    "ExecuteTime": {
     "end_time": "2023-11-12T11:01:03.269449438Z",
     "start_time": "2023-11-12T11:01:03.031508474Z"
    }
   },
   "id": "dfe47244c4b99e14"
  },
  {
   "cell_type": "markdown",
   "source": [
    "- Відповідь: Чи є в якихось змінних пропуски? (Так / ні)"
   ],
   "metadata": {
    "collapsed": false
   },
   "id": "73c9f105450a669"
  },
  {
   "cell_type": "code",
   "execution_count": 121,
   "outputs": [
    {
     "name": "stdout",
     "output_type": "stream",
     "text": [
      "Чи є в якихось змінних пропуски?:\n",
      " No\n"
     ]
    }
   ],
   "source": [
    "any_missing = any(missing_values > 0)\n",
    "print(f\"Чи є в якихось змінних пропуски?:\\n {'Yes' if any_missing else 'No'}\")"
   ],
   "metadata": {
    "collapsed": false,
    "ExecuteTime": {
     "end_time": "2023-11-12T11:00:43.190527674Z",
     "start_time": "2023-11-12T11:00:42.997401048Z"
    }
   },
   "id": "bc11c440a747da68"
  },
  {
   "cell_type": "markdown",
   "source": [
    "- Перевірте, які є унікальні значення в колонці genre (використовуйте функцію unique)"
   ],
   "metadata": {
    "collapsed": false
   },
   "id": "3efaaa30228ca5ab"
  },
  {
   "cell_type": "code",
   "execution_count": 77,
   "outputs": [],
   "source": [
    "unique_genres = df['genre'].unique()"
   ],
   "metadata": {
    "collapsed": false,
    "ExecuteTime": {
     "end_time": "2023-11-11T21:11:13.370367029Z",
     "start_time": "2023-11-11T21:11:12.365253701Z"
    }
   },
   "id": "e41a048a386c73af"
  },
  {
   "cell_type": "markdown",
   "source": [
    "- Відповідь: Які є унікальні жанри?"
   ],
   "metadata": {
    "collapsed": false
   },
   "id": "7ec1672cac3a54a2"
  },
  {
   "cell_type": "code",
   "execution_count": 78,
   "outputs": [
    {
     "name": "stdout",
     "output_type": "stream",
     "text": [
      "\n",
      "Unique genres: ['Non Fiction' 'Fiction']\n"
     ]
    }
   ],
   "source": [
    "unique_genres"
   ],
   "metadata": {
    "collapsed": false,
    "ExecuteTime": {
     "end_time": "2023-11-11T21:11:13.374320732Z",
     "start_time": "2023-11-11T21:11:12.485472224Z"
    }
   },
   "id": "fdf080b8b3d4f6b9"
  },
  {
   "cell_type": "markdown",
   "source": [
    "- Тепер подивіться на розподіл цін: побудуйте діаграму (використовуйте kind='hist')"
   ],
   "metadata": {
    "collapsed": false
   },
   "id": "61763c78923c5dd9"
  },
  {
   "cell_type": "code",
   "execution_count": 79,
   "outputs": [
    {
     "data": {
      "text/plain": "<Figure size 640x480 with 1 Axes>",
      "image/png": "[encoded data removed]"
     },
     "metadata": {},
     "output_type": "display_data"
    }
   ],
   "source": [
    "df['price'].plot(kind='hist', bins=20, edgecolor='black', grid=True, title='Distribution of Prices')\n",
    "plt.xlabel('Price')\n",
    "plt.ylabel('Frequency')\n",
    "plt.show()"
   ],
   "metadata": {
    "collapsed": false,
    "ExecuteTime": {
     "end_time": "2023-11-11T21:11:13.501406971Z",
     "start_time": "2023-11-11T21:11:12.639321215Z"
    }
   },
   "id": "909625b04e0dc419"
  },
  {
   "cell_type": "markdown",
   "source": [
    "- Визначте, яка ціна у нас максимальна, мінімальна, середня, медіанна (використовуйте функції max, min, mean, median)"
   ],
   "metadata": {
    "collapsed": false
   },
   "id": "abc2ca63a789b8a0"
  },
  {
   "cell_type": "code",
   "execution_count": 80,
   "outputs": [],
   "source": [
    "max_price = df['price'].max()\n",
    "min_price = df['price'].min()\n",
    "mean_price = df['price'].mean()\n",
    "median_price = df['price'].median()"
   ],
   "metadata": {
    "collapsed": false,
    "ExecuteTime": {
     "end_time": "2023-11-11T21:11:13.554824005Z",
     "start_time": "2023-11-11T21:11:13.176525909Z"
    }
   },
   "id": "190302742f00e9cc"
  },
  {
   "cell_type": "markdown",
   "source": [
    "- Відповідь: Максимальна ціна?"
   ],
   "metadata": {
    "collapsed": false
   },
   "id": "8cfcc8b53127f091"
  },
  {
   "cell_type": "code",
   "execution_count": 81,
   "outputs": [
    {
     "name": "stdout",
     "output_type": "stream",
     "text": [
      "\n",
      "Maximum price: 105\n"
     ]
    }
   ],
   "source": [
    "print(f\"\\nMaximum price: {max_price}\")"
   ],
   "metadata": {
    "collapsed": false,
    "ExecuteTime": {
     "end_time": "2023-11-11T21:11:13.555705624Z",
     "start_time": "2023-11-11T21:11:13.219419497Z"
    }
   },
   "id": "54688c14e192b6bd"
  },
  {
   "cell_type": "markdown",
   "source": [
    "- Відповідь: Мінімальна ціна?"
   ],
   "metadata": {
    "collapsed": false
   },
   "id": "29cf722835822392"
  },
  {
   "cell_type": "code",
   "execution_count": 82,
   "outputs": [
    {
     "name": "stdout",
     "output_type": "stream",
     "text": [
      "Minimum price: 0\n"
     ]
    }
   ],
   "source": [
    "print(f\"Minimum price: {min_price}\")"
   ],
   "metadata": {
    "collapsed": false,
    "ExecuteTime": {
     "end_time": "2023-11-11T21:11:13.621984886Z",
     "start_time": "2023-11-11T21:11:13.345582547Z"
    }
   },
   "id": "c6638d46159eb6d4"
  },
  {
   "cell_type": "markdown",
   "source": [
    "- Відповідь: Середня ціна?"
   ],
   "metadata": {
    "collapsed": false
   },
   "id": "74b2f170a559db77"
  },
  {
   "cell_type": "code",
   "execution_count": 83,
   "outputs": [
    {
     "name": "stdout",
     "output_type": "stream",
     "text": [
      "Mean price: 13.1\n"
     ]
    }
   ],
   "source": [
    "print(f\"Mean price: {mean_price}\")"
   ],
   "metadata": {
    "collapsed": false,
    "ExecuteTime": {
     "end_time": "2023-11-11T21:11:13.817880171Z",
     "start_time": "2023-11-11T21:11:13.467201559Z"
    }
   },
   "id": "1e93bcef66091147"
  },
  {
   "cell_type": "markdown",
   "source": [
    "- Відповідь: Медіанна ціна?"
   ],
   "metadata": {
    "collapsed": false
   },
   "id": "b88d1238782595d9"
  },
  {
   "cell_type": "code",
   "execution_count": 84,
   "outputs": [
    {
     "name": "stdout",
     "output_type": "stream",
     "text": [
      "Median price: 11.0\n"
     ]
    }
   ],
   "source": [
    "print(f\"Median price: {median_price}\")"
   ],
   "metadata": {
    "collapsed": false,
    "ExecuteTime": {
     "end_time": "2023-11-11T21:11:13.823017079Z",
     "start_time": "2023-11-11T21:11:13.566267927Z"
    }
   },
   "id": "3be1a4946aef3855"
  },
  {
   "cell_type": "markdown",
   "source": [
    "2) Пошук та сортування даних"
   ],
   "metadata": {
    "collapsed": false
   },
   "id": "ed22d40c2a3c272d"
  },
  {
   "cell_type": "markdown",
   "source": [
    "-     Відповідь: Який рейтинг у датасеті найвищий? Відповідь:"
   ],
   "metadata": {
    "collapsed": false
   },
   "id": "d86dce8f7a450d81"
  },
  {
   "cell_type": "code",
   "execution_count": 85,
   "outputs": [
    {
     "name": "stdout",
     "output_type": "stream",
     "text": [
      "Найвищий рейтинг у датасеті: 4.9\n"
     ]
    }
   ],
   "source": [
    "max_rating = df['user_rating'].max()\n",
    "print(f\"Найвищий рейтинг у датасеті: {max_rating}\")"
   ],
   "metadata": {
    "collapsed": false,
    "ExecuteTime": {
     "end_time": "2023-11-11T21:11:13.863266446Z",
     "start_time": "2023-11-11T21:11:13.674661539Z"
    }
   },
   "id": "8e230a3cc0bca0"
  },
  {
   "cell_type": "markdown",
   "source": [
    "-     Відповідь: Скільки книг мають такий рейтинг? Відповідь:"
   ],
   "metadata": {
    "collapsed": false
   },
   "id": "73f24ff6a290e9ad"
  },
  {
   "cell_type": "code",
   "execution_count": 86,
   "outputs": [
    {
     "name": "stdout",
     "output_type": "stream",
     "text": [
      "Кількість книг із найвищим рейтингом: 52\n"
     ]
    }
   ],
   "source": [
    "count_max_rating = df[df['user_rating'] == max_rating].shape[0]\n",
    "print(f\"Кількість книг із найвищим рейтингом: {count_max_rating}\")"
   ],
   "metadata": {
    "collapsed": false,
    "ExecuteTime": {
     "end_time": "2023-11-11T21:11:14.043548383Z",
     "start_time": "2023-11-11T21:11:13.782673836Z"
    }
   },
   "id": "c29db694c90d43e1"
  },
  {
   "cell_type": "markdown",
   "source": [
    "-     Відповідь: Яка книга має найбільше відгуків? Відповідь:"
   ],
   "metadata": {
    "collapsed": false
   },
   "id": "9b324c7edec4fb70"
  },
  {
   "cell_type": "code",
   "execution_count": 87,
   "outputs": [
    {
     "name": "stdout",
     "output_type": "stream",
     "text": [
      "Книга з найбільшою кількістю відгуків: Where the Crawdads Sing\n"
     ]
    }
   ],
   "source": [
    "max_reviews_book = df[df['reviews'] == df['reviews'].max()]['name'].values[0]\n",
    "print(f\"Книга з найбільшою кількістю відгуків: {max_reviews_book}\")"
   ],
   "metadata": {
    "collapsed": false,
    "ExecuteTime": {
     "end_time": "2023-11-11T21:11:14.047253459Z",
     "start_time": "2023-11-11T21:11:13.889947930Z"
    }
   },
   "id": "a049b4680608395e"
  },
  {
   "cell_type": "markdown",
   "source": [
    "-     Відповідь: З тих книг, що потрапили до Топ-50 у 2015 році, яка книга найдорожча (можна використати проміжний датафрейм)? Відповідь:"
   ],
   "metadata": {
    "collapsed": false
   },
   "id": "1f7c7c82e953fe69"
  },
  {
   "cell_type": "code",
   "execution_count": 88,
   "outputs": [
    {
     "name": "stdout",
     "output_type": "stream",
     "text": [
      "Найдорожча книга, що потрапила до Топ-50 у 2015 році: Publication Manual of the American Psychological Association, 6th Edition\n"
     ]
    }
   ],
   "source": [
    "df_2015 = df[df['year'] == 2015]\n",
    "most_expensive_2015 = df_2015[df_2015['price'] == df_2015['price'].max()]['name'].values[0]\n",
    "print(f\"Найдорожча книга, що потрапила до Топ-50 у 2015 році: {most_expensive_2015}\")"
   ],
   "metadata": {
    "collapsed": false,
    "ExecuteTime": {
     "end_time": "2023-11-11T21:11:14.212322802Z",
     "start_time": "2023-11-11T21:11:14.015739561Z"
    }
   },
   "id": "cdd1ca7d0775faa7"
  },
  {
   "cell_type": "markdown",
   "source": [
    "-     Відповідь: Скільки книг жанру Fiction потрапили до Топ-50 у 2010 році (використовуйте &)? Відповідь:"
   ],
   "metadata": {
    "collapsed": false
   },
   "id": "8cdee3b6addb694e"
  },
  {
   "cell_type": "code",
   "execution_count": 89,
   "outputs": [
    {
     "name": "stdout",
     "output_type": "stream",
     "text": [
      "Кількість книг жанру Fiction у Топ-50 у 2010 році: 20\n"
     ]
    }
   ],
   "source": [
    "count_fiction_2010 = df[(df['genre'] == 'Fiction') & (df['year'] == 2010)].shape[0]\n",
    "print(f\"Кількість книг жанру Fiction у Топ-50 у 2010 році: {count_fiction_2010}\")"
   ],
   "metadata": {
    "collapsed": false,
    "ExecuteTime": {
     "end_time": "2023-11-11T21:11:14.277034696Z",
     "start_time": "2023-11-11T21:11:14.133659303Z"
    }
   },
   "id": "619cb095ca0358a4"
  },
  {
   "cell_type": "markdown",
   "source": [
    "-     Відповідь: Скільки книг з рейтингом 4.9 потрапило до рейтингу у 2010 та 2011 роках (використовуйте | або функцію isin)? Відповідь:"
   ],
   "metadata": {
    "collapsed": false
   },
   "id": "e94de0779f29e86d"
  },
  {
   "cell_type": "code",
   "execution_count": 90,
   "outputs": [
    {
     "name": "stdout",
     "output_type": "stream",
     "text": [
      "Кількість книг з рейтингом 4.9 у Топ-50 у 2010 та 2011 роках: 1\n"
     ]
    }
   ],
   "source": [
    "count_high_rated_books = df[(df['user_rating'] == 4.9) & (df['year'].isin([2010, 2011]))].shape[0]\n",
    "print(f\"Кількість книг з рейтингом 4.9 у Топ-50 у 2010 та 2011 роках: {count_high_rated_books}\")"
   ],
   "metadata": {
    "collapsed": false,
    "ExecuteTime": {
     "end_time": "2023-11-11T21:11:14.417781357Z",
     "start_time": "2023-11-11T21:11:14.237994235Z"
    }
   },
   "id": "cda9a0e1c431cec8"
  },
  {
   "cell_type": "markdown",
   "source": [
    "-     І насамкінець, давайте відсортуємо за зростанням ціни всі книги, які потрапили до рейтингу в 2015 році і коштують дешевше за 8 доларів (використовуйте функцію sort_values)."
   ],
   "metadata": {
    "collapsed": false
   },
   "id": "7b141d5219a24a3f"
  },
  {
   "cell_type": "code",
   "execution_count": 91,
   "outputs": [
    {
     "name": "stdout",
     "output_type": "stream",
     "text": [
      "                                                  name              author  \\\n",
      "507                              To Kill a Mockingbird          Harper Lee   \n",
      "210                      Laugh-Out-Loud Jokes for Kids         Rob Elliott   \n",
      "206                         Knock-Knock Jokes for Kids         Rob Elliott   \n",
      "111                                    First 100 Words        Roger Priddy   \n",
      "123                               Giraffes Can't Dance       Giles Andreae   \n",
      "54   Creative Haven Creative Cats Coloring Book (Ad...     Marjorie Sarnat   \n",
      "63                      Dear Zoo: A Lift-the-Flap Book        Rod Campbell   \n",
      "89   Dover Creative Haven Art Nouveau Animal Design...         Marty Noble   \n",
      "478                        The Very Hungry Caterpillar          Eric Carle   \n",
      "201  Killing Reagan: The Violent Assault That Chang...       Bill O'Reilly   \n",
      "28                        Baby Touch and Feel: Animals                  DK   \n",
      "224                                   Love You Forever       Robert Munsch   \n",
      "55   Creative Haven Owls Coloring Book (Adult Color...     Marjorie Sarnat   \n",
      "17      Adult Coloring Book: Stress Relieving Patterns  Blue Star Coloring   \n",
      "376  The Four Agreements: A Practical Guide to Pers...     Don Miguel Ruiz   \n",
      "16   Adult Coloring Book: Stress Relieving Animal D...  Blue Star Coloring   \n",
      "253              Old School (Diary of a Wimpy Kid #10)         Jeff Kinney   \n",
      "\n",
      "     user_rating  reviews  price  year        genre  \n",
      "507          4.8    26234      0  2015      Fiction  \n",
      "210          4.6     6990      4  2015  Non Fiction  \n",
      "206          4.5     3673      4  2015  Non Fiction  \n",
      "111          4.7    17323      4  2015  Non Fiction  \n",
      "123          4.8    14038      4  2015      Fiction  \n",
      "54           4.8     4022      4  2015  Non Fiction  \n",
      "63           4.8    10922      5  2015      Fiction  \n",
      "89           4.6     2134      5  2015  Non Fiction  \n",
      "478          4.9    19546      5  2015      Fiction  \n",
      "201          4.6     5235      5  2015  Non Fiction  \n",
      "28           4.6     5360      5  2015  Non Fiction  \n",
      "224          4.8    18613      5  2015      Fiction  \n",
      "55           4.8     3871      5  2015  Non Fiction  \n",
      "17           4.4     2951      6  2015  Non Fiction  \n",
      "376          4.7    23308      6  2015  Non Fiction  \n",
      "16           4.6     2925      6  2015  Non Fiction  \n",
      "253          4.8     6169      7  2015      Fiction  \n"
     ]
    }
   ],
   "source": [
    "sorted_books = df[(df['year'] == 2015) & (df['price'] < 8)].sort_values(by='price')\n",
    "sorted_books"
   ],
   "metadata": {
    "collapsed": false,
    "ExecuteTime": {
     "end_time": "2023-11-11T21:11:14.526512098Z",
     "start_time": "2023-11-11T21:11:14.352457513Z"
    }
   },
   "id": "54c41e5ef58f8c62"
  },
  {
   "cell_type": "markdown",
   "source": [
    "-     Відповідь: Яка книга остання у відсортованому списку? Відповідь:\n"
   ],
   "metadata": {
    "collapsed": false
   },
   "id": "396a58d1a553f723"
  },
  {
   "cell_type": "code",
   "execution_count": 92,
   "outputs": [
    {
     "name": "stdout",
     "output_type": "stream",
     "text": [
      "Остання книга у відсортованому списку: Old School (Diary of a Wimpy Kid #10)\n"
     ]
    }
   ],
   "source": [
    "last_book = sorted_books.iloc[-1]['name']\n",
    "print(f\"Остання книга у відсортованому списку: {last_book}\")"
   ],
   "metadata": {
    "collapsed": false,
    "ExecuteTime": {
     "end_time": "2023-11-11T21:11:14.635822916Z",
     "start_time": "2023-11-11T21:11:14.499514544Z"
    }
   },
   "id": "1a8d3e12a4f5d5af"
  },
  {
   "cell_type": "markdown",
   "source": [
    "3)  Агрегування даних та з'єднання таблицьОстання секція цього домашнього завдання включає просунутіші функції. Але не хвилюйтеся, pandas робить усі операції простими та зрозумілими."
   ],
   "metadata": {
    "collapsed": false
   },
   "id": "310529f20c293d2"
  },
  {
   "cell_type": "markdown",
   "source": [
    "-       Для початку давайте подивимося на максимальну та мінімальну ціни для кожного з жанрів (використовуйте функції groupby та agg, для підрахунку мінімальних та максимальних значень використовуйте max та min). Не беріть усі стовпці, виберіть тільки потрібні ва"
   ],
   "metadata": {
    "collapsed": false
   },
   "id": "9235c36be9efa9a7"
  },
  {
   "cell_type": "code",
   "execution_count": 93,
   "outputs": [
    {
     "name": "stdout",
     "output_type": "stream",
     "text": [
      "            price    \n",
      "              max min\n",
      "genre                \n",
      "Fiction        82   0\n",
      "Non Fiction   105   0\n",
      "Максимальна ціна для жанру Fiction: 82\n",
      "Мінімальна ціна для жанру Fiction: 0\n",
      "Максимальна ціна для жанру Non Fiction: 105\n",
      "Мінімальна ціна для жанру Non Fiction: 0\n"
     ]
    }
   ],
   "source": [
    "\n",
    "genre_prices = df.groupby('genre').agg({'price': ['max', 'min']})\n",
    "print(genre_prices)\n",
    "\n",
    "max_price_fiction = genre_prices.loc['Fiction', ('price', 'max')]\n",
    "min_price_fiction = genre_prices.loc['Fiction', ('price', 'min')]\n",
    "max_price_non_fiction = genre_prices.loc['Non Fiction', ('price', 'max')]\n",
    "min_price_non_fiction = genre_prices.loc['Non Fiction', ('price', 'min')]\n",
    "\n",
    "print(f\"Максимальна ціна для жанру Fiction: {max_price_fiction}\")\n",
    "print(f\"Мінімальна ціна для жанру Fiction: {min_price_fiction}\")\n",
    "print(f\"Максимальна ціна для жанру Non Fiction: {max_price_non_fiction}\")\n",
    "print(f\"Мінімальна ціна для жанру Non Fiction: {min_price_non_fiction}\")"
   ],
   "metadata": {
    "collapsed": false,
    "ExecuteTime": {
     "end_time": "2023-11-11T21:11:15.002931370Z",
     "start_time": "2023-11-11T21:11:14.565596597Z"
    }
   },
   "id": "4d10f4571a0a7356"
  },
  {
   "cell_type": "markdown",
   "source": [
    "-   Тепер створіть новий датафрейм, який вміщатиме кількість книг для кожного з авторів (використовуйте функції groupby та agg, для підрахунку кількості використовуйте count). Не беріть усі стовпці, виберете тільки потрібні"
   ],
   "metadata": {
    "collapsed": false
   },
   "id": "7aa3436c9564ea70"
  },
  {
   "cell_type": "code",
   "execution_count": 94,
   "outputs": [
    {
     "name": "stdout",
     "output_type": "stream",
     "text": [
      "Розмірність таблиці: (248, 2)\n",
      "Автор з найбільшою кількістю книг: Jeff Kinney\n",
      "Кількість книг цього автора: 12\n"
     ]
    }
   ],
   "source": [
    "author_books_count = df.groupby('author').agg({'name': 'count'}).reset_index()\n",
    "author_books_count.columns = ['author', 'book_count']\n",
    "\n",
    "table_shape = author_books_count.shape\n",
    "author_most_books = author_books_count.loc[author_books_count['book_count'].idxmax(), 'author']\n",
    "most_books_count = author_books_count['book_count'].max()\n",
    "\n",
    "print(f\"Розмірність таблиці: {table_shape}\")\n",
    "print(f\"Автор з найбільшою кількістю книг: {author_most_books}\")\n",
    "print(f\"Кількість книг цього автора: {most_books_count}\")"
   ],
   "metadata": {
    "collapsed": false,
    "ExecuteTime": {
     "end_time": "2023-11-11T21:11:15.113446486Z",
     "start_time": "2023-11-11T21:11:15.004436165Z"
    }
   },
   "id": "6767eff718eba627"
  },
  {
   "cell_type": "markdown",
   "source": [
    "-   Тепер створіть другий датафрейм, який буде вміщати середній рейтинг для кожного автора (використовуйте функції groupby та agg, для підрахунку середнього значення використовуйте mean). Не беріть усі стовпці, виберете тільки потрібні"
   ],
   "metadata": {
    "collapsed": false
   },
   "id": "319f822ca967a64f"
  },
  {
   "cell_type": "code",
   "execution_count": 95,
   "outputs": [
    {
     "name": "stdout",
     "output_type": "stream",
     "text": [
      "Автор з мінімальним середнім рейтингом: Donna Tartt\n",
      "Середній рейтинг для цього автора: 3.9\n"
     ]
    }
   ],
   "source": [
    "author_avg_rating = df.groupby('author').agg({'user_rating': 'mean'}).reset_index()\n",
    "author_avg_rating.columns = ['author', 'avg_rating']\n",
    "\n",
    "# Відповіді на запитання\n",
    "min_avg_author = author_avg_rating.loc[author_avg_rating['avg_rating'].idxmin(), 'author']\n",
    "min_avg_rating = author_avg_rating['avg_rating'].min()\n",
    "\n",
    "print(f\"Автор з мінімальним середнім рейтингом: {min_avg_author}\")\n",
    "print(f\"Середній рейтинг для цього автора: {min_avg_rating}\")"
   ],
   "metadata": {
    "collapsed": false,
    "ExecuteTime": {
     "end_time": "2023-11-11T21:11:15.215133328Z",
     "start_time": "2023-11-11T21:11:15.041112746Z"
    }
   },
   "id": "961211eae4124950"
  },
  {
   "cell_type": "markdown",
   "source": [
    "-   З'єднайте останні два датафрейми так, щоб для кожного автора було видно кількість книг та середній рейтинг (Використовуйте функцію concat з параметром axis=1). Збережіть результат у змінну"
   ],
   "metadata": {
    "collapsed": false
   },
   "id": "908be92e3a4d3678"
  },
  {
   "cell_type": "code",
   "execution_count": 96,
   "outputs": [
    {
     "name": "stdout",
     "output_type": "stream",
     "text": [
      "                       author  book_count  avg_rating\n",
      "0            Abraham Verghese           2         4.6\n",
      "1              Adam Gasiewski           1         4.4\n",
      "2               Adam Mansbach           1         4.8\n",
      "3                   Adir Levy           1         4.8\n",
      "4  Admiral William H. McRaven           1         4.7\n"
     ]
    }
   ],
   "source": [
    "author_count_books = df.groupby('author')['name'].count().reset_index()\n",
    "author_count_books.columns = ['author', 'book_count']\n",
    "\n",
    "merged_df = pd.concat([author_count_books, author_avg_rating['avg_rating']], axis=1)\n",
    "merged_df.head()"
   ],
   "metadata": {
    "collapsed": false,
    "ExecuteTime": {
     "end_time": "2023-11-11T21:11:15.346824883Z",
     "start_time": "2023-11-11T21:11:15.165550172Z"
    }
   },
   "id": "a01be0c83d064245"
  },
  {
   "cell_type": "markdown",
   "source": [
    "Відсортуйте датафрейм за зростаючою кількістю книг та зростаючим рейтингом (використовуйте функцію sort_values)\n",
    "\n",
    "Відповідь: Який автор перший у списку?"
   ],
   "metadata": {
    "collapsed": false
   },
   "id": "dd1304a1c324e5b4"
  },
  {
   "cell_type": "code",
   "execution_count": 101,
   "outputs": [
    {
     "name": "stdout",
     "output_type": "stream",
     "text": [
      "Muriel Barbery\n"
     ]
    }
   ],
   "source": [
    "sorted_df = merged_df.sort_values(by=['book_count', 'avg_rating'], ascending=[True, True])\n",
    "\n",
    "first_author = sorted_df.iloc[0]['author']\n",
    "first_author"
   ],
   "metadata": {
    "collapsed": false,
    "ExecuteTime": {
     "end_time": "2023-11-11T21:13:22.881946916Z",
     "start_time": "2023-11-11T21:13:22.739325839Z"
    }
   },
   "id": "27da3fbf7478286d"
  },
  {
   "cell_type": "markdown",
   "source": [
    "    Графік розподілу цін на книги       "
   ],
   "metadata": {
    "collapsed": false
   },
   "id": "8bd8c38ede42af47"
  },
  {
   "cell_type": "code",
   "execution_count": 109,
   "outputs": [
    {
     "data": {
      "text/plain": "<Figure size 1000x600 with 1 Axes>",
      "image/png": "[encoded data removed]"
     },
     "metadata": {},
     "output_type": "display_data"
    }
   ],
   "source": [
    "plt.rcParams['font.family'] = 'DejaVu Sans'\n",
    "plt.figure(figsize=(10, 6))\n",
    "df['price'].plot(kind='hist', bins=20, edgecolor='black', grid=True)\n",
    "plt.title('Розподіл цін на книги')\n",
    "plt.xlabel('Ціна')\n",
    "plt.ylabel('Частота')\n",
    "plt.show()"
   ],
   "metadata": {
    "collapsed": false,
    "ExecuteTime": {
     "end_time": "2023-11-11T21:46:48.372634926Z",
     "start_time": "2023-11-11T21:46:47.935293591Z"
    }
   },
   "id": "673b66dd5ffd57c"
  },
  {
   "cell_type": "markdown",
   "source": [
    "    Графік розподілу жанрів книг:"
   ],
   "metadata": {
    "collapsed": false
   },
   "id": "1766fe5ff76288d9"
  },
  {
   "cell_type": "code",
   "execution_count": 117,
   "outputs": [
    {
     "data": {
      "text/plain": "<Figure size 1000x600 with 1 Axes>",
      "image/png": "[encoded data removed]"
     },
     "metadata": {},
     "output_type": "display_data"
    }
   ],
   "source": [
    "genre_counts = df['genre'].value_counts()\n",
    "plt.figure(figsize=(10, 6))\n",
    "genre_counts.plot(kind='bar', edgecolor='black', grid=True)\n",
    "plt.title('Розподіл жанрів книг')\n",
    "plt.xlabel('Жанр')\n",
    "plt.ylabel('Кількість книг')\n",
    "plt.show()"
   ],
   "metadata": {
    "collapsed": false,
    "ExecuteTime": {
     "end_time": "2023-11-11T21:56:54.777998573Z",
     "start_time": "2023-11-11T21:56:54.464267566Z"
    }
   },
   "id": "ac2a49bb4b5a3e85"
  },
  {
   "cell_type": "markdown",
   "source": [
    "    Графік середньго рейтингу за авторами "
   ],
   "metadata": {
    "collapsed": false
   },
   "id": "3d71c35b6ff86639"
  },
  {
   "cell_type": "code",
   "execution_count": 116,
   "outputs": [
    {
     "data": {
      "text/plain": "<Figure size 1000x600 with 1 Axes>",
      "image/png": "[encoded data removed]"
     },
     "metadata": {},
     "output_type": "display_data"
    }
   ],
   "source": [
    "plt.rcParams['font.family'] = 'DejaVu Sans'\n",
    "plt.figure(figsize=(10, 6))\n",
    "df['user_rating'].hist(bins=10, edgecolor='black', grid=True)\n",
    "plt.title('Розподіл рейтингів книг')\n",
    "plt.xlabel('Рейтинг')\n",
    "plt.ylabel('Частота')\n",
    "plt.show()"
   ],
   "metadata": {
    "collapsed": false,
    "ExecuteTime": {
     "end_time": "2023-11-11T21:56:33.689230867Z",
     "start_time": "2023-11-11T21:56:33.244683668Z"
    }
   },
   "id": "82afab69b0d8560c"
  },
  {
   "cell_type": "markdown",
   "source": [
    "        Графік зв'язок між рейтингом та ціною книг:"
   ],
   "metadata": {
    "collapsed": false
   },
   "id": "5a37a0b7377d4f50"
  },
  {
   "cell_type": "code",
   "execution_count": 118,
   "outputs": [
    {
     "data": {
      "text/plain": "<Figure size 1000x600 with 1 Axes>",
      "image/png": "[encoded data removed]"
     },
     "metadata": {},
     "output_type": "display_data"
    }
   ],
   "source": [
    "plt.rcParams['font.family'] = 'DejaVu Sans'\n",
    "plt.figure(figsize=(10, 6))\n",
    "plt.scatter(df['user_rating'], df['price'])\n",
    "plt.title('Зв\"язок між рейтингом та ціною книг')\n",
    "plt.xlabel('Рейтинг')\n",
    "plt.ylabel('Ціна')\n",
    "plt.show()"
   ],
   "metadata": {
    "collapsed": false,
    "ExecuteTime": {
     "end_time": "2023-11-11T21:58:35.346403399Z",
     "start_time": "2023-11-11T21:58:34.925522244Z"
    }
   },
   "id": "55505d287825ec28"
  },
  {
   "cell_type": "markdown",
   "source": [
    "    Графік зв'язок між жанром та ціною книг"
   ],
   "metadata": {
    "collapsed": false
   },
   "id": "6fdc57058f9fc27a"
  },
  {
   "cell_type": "code",
   "execution_count": 119,
   "outputs": [
    {
     "data": {
      "text/plain": "<Figure size 1000x600 with 1 Axes>",
      "image/png": "[encoded data removed]"
     },
     "metadata": {},
     "output_type": "display_data"
    }
   ],
   "source": [
    "plt.rcParams['font.family'] = 'DejaVu Sans'\n",
    "plt.figure(figsize=(10, 6))\n",
    "for genre in df['genre'].unique():\n",
    "    df_filtered = df[df['genre'] == genre]\n",
    "    plt.scatter(df_filtered['user_rating'], df_filtered['price'], label=genre)\n",
    "plt.title('Зв\"язок між жанром та ціною книг')\n",
    "plt.xlabel('Рейтинг')\n",
    "plt.ylabel('Ціна')\n",
    "plt.legend()\n",
    "plt.show()"
   ],
   "metadata": {
    "collapsed": false,
    "ExecuteTime": {
     "end_time": "2023-11-11T21:59:29.533377226Z",
     "start_time": "2023-11-11T21:59:28.799588445Z"
    }
   },
   "id": "fd1b2ccf8acedc4"
  }
 ],
 "metadata": {
  "kernelspec": {
   "display_name": "Python 3",
   "language": "python",
   "name": "python3"
  },
  "language_info": {
   "codemirror_mode": {
    "name": "ipython",
    "version": 2
   },
   "file_extension": ".py",
   "mimetype": "text/x-python",
   "name": "python",
   "nbconvert_exporter": "python",
   "pygments_lexer": "ipython2",
   "version": "2.7.6"
  }
 },
 "nbformat": 4,
 "nbformat_minor": 5
}
