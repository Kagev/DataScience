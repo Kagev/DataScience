{
 "nbformat": 4,
 "nbformat_minor": 0,
 "metadata": {
  "colab": {
   "provenance": []
  },
  "kernelspec": {
   "name": "python3",
   "language": "python",
   "display_name": "Python 3 (ipykernel)"
  },
  "language_info": {
   "name": "python"
  }
 },
 "cells": [
  {
   "cell_type": "code",
   "execution_count": 80,
   "outputs": [],
   "source": [
    "import matplotlib.pyplot as plt\n",
    "import pandas as pd\n",
    "import seaborn as sns"
   ],
   "metadata": {
    "collapsed": false,
    "ExecuteTime": {
     "end_time": "2023-11-12T11:15:23.496714029Z",
     "start_time": "2023-11-12T11:15:23.285139445Z"
    }
   }
  },
  {
   "cell_type": "markdown",
   "source": [
    "Прочитайте дані за допомогою методу read_html з таблиці \"Коефіцієнт народжуваності в регіонах України (1950—2019)\" посилання"
   ],
   "metadata": {
    "id": "FV4ZNsIhoCF1"
   }
  },
  {
   "cell_type": "code",
   "execution_count": 81,
   "metadata": {
    "colab": {
     "base_uri": "https://localhost:8080/"
    },
    "id": "4PXwFq9mfnvT",
    "outputId": "d723d507-d996-4f49-bf10-a7d029cc5c15",
    "ExecuteTime": {
     "end_time": "2023-11-12T11:15:24.065827439Z",
     "start_time": "2023-11-12T11:15:23.308631585Z"
    }
   },
   "outputs": [
    {
     "data": {
      "text/plain": "               Регіон   1950   1960   1970  1990  2000  2012 2014 2019\n0                Крим  230.0  206.0  160.0   130    73   126    —    —\n1           Вінницька  224.0  192.0  142.0   124    84   112  109   76\n2           Волинська  247.0  250.0  179.0   153   112   148  141  101\n3    Дніпропетровська  204.0  204.0  151.0   123    71   112  111   71\n4            Донецька  271.0  214.0  140.0   109    61    98   82    —\n5         Житомирська  261.0  223.0  159.0   129    89   122  120   79\n6        Закарпатська  314.0  273.0  207.0   168   115   151  146  104\n7          Запорізька  219.0  197.0  150.0   124    71   106  106   68\n8   Івано-Франківська  243.0  248.0  182.0   155   103   124  122   88\n9            Київська  204.0  189.0  156.0   123    73   122  121   80\n10     Кіровоградська  216.0  171.0  145.0   126    79   110  108   68\n11          Луганська  262.0  235.0  144.0   116    62    96   51    —\n12          Львівська  234.0  240.0  171.0   140    91   119  119   87\n13       Миколаївська  211.0  194.0  155.0   137    80   115  112   71\n14            Одеська  241.0  192.0  148.0   126    80   127  123   88\n15         Полтавська  186.0  163.0  131.0   118    70    99  100   65\n16         Рівненська  269.0  267.0  193.0   158   118   159  148  107\n17            Сумська  216.0  184.0  132.0   115    70    97   92   60\n18      Тернопільська  213.0  216.0  157.0   142    92   113  109   76\n19         Харківська  197.0  173.0  140.0   114    68    99  101   68\n20         Херсонська  208.0  214.0  166.0   143    85   117  115   81\n21        Хмельницька  234.0  198.0  148.0   129    85   113  112   79\n22          Черкаська  205.0  179.0  144.0   123    75   100   98   64\n23        Чернівецька  247.0  218.0  170.0   148   101   128  129   92\n24       Чернігівська  220.0  183.0  127.0   108    69    94   90   61\n25               Київ    NaN  174.0  159.0   120    73   120  121  110\n26        Севастополь    NaN    NaN    NaN   125    70   120    —    —\n27            Україна  228.0  205.0  152.0   126    78   114  111   81",
      "text/html": "<div>\n<style scoped>\n    .dataframe tbody tr th:only-of-type {\n        vertical-align: middle;\n    }\n\n    .dataframe tbody tr th {\n        vertical-align: top;\n    }\n\n    .dataframe thead th {\n        text-align: right;\n    }\n</style>\n<table border=\"1\" class=\"dataframe\">\n  <thead>\n    <tr style=\"text-align: right;\">\n      <th></th>\n      <th>Регіон</th>\n      <th>1950</th>\n      <th>1960</th>\n      <th>1970</th>\n      <th>1990</th>\n      <th>2000</th>\n      <th>2012</th>\n      <th>2014</th>\n      <th>2019</th>\n    </tr>\n  </thead>\n  <tbody>\n    <tr>\n      <th>0</th>\n      <td>Крим</td>\n      <td>230.0</td>\n      <td>206.0</td>\n      <td>160.0</td>\n      <td>130</td>\n      <td>73</td>\n      <td>126</td>\n      <td>—</td>\n      <td>—</td>\n    </tr>\n    <tr>\n      <th>1</th>\n      <td>Вінницька</td>\n      <td>224.0</td>\n      <td>192.0</td>\n      <td>142.0</td>\n      <td>124</td>\n      <td>84</td>\n      <td>112</td>\n      <td>109</td>\n      <td>76</td>\n    </tr>\n    <tr>\n      <th>2</th>\n      <td>Волинська</td>\n      <td>247.0</td>\n      <td>250.0</td>\n      <td>179.0</td>\n      <td>153</td>\n      <td>112</td>\n      <td>148</td>\n      <td>141</td>\n      <td>101</td>\n    </tr>\n    <tr>\n      <th>3</th>\n      <td>Дніпропетровська</td>\n      <td>204.0</td>\n      <td>204.0</td>\n      <td>151.0</td>\n      <td>123</td>\n      <td>71</td>\n      <td>112</td>\n      <td>111</td>\n      <td>71</td>\n    </tr>\n    <tr>\n      <th>4</th>\n      <td>Донецька</td>\n      <td>271.0</td>\n      <td>214.0</td>\n      <td>140.0</td>\n      <td>109</td>\n      <td>61</td>\n      <td>98</td>\n      <td>82</td>\n      <td>—</td>\n    </tr>\n    <tr>\n      <th>5</th>\n      <td>Житомирська</td>\n      <td>261.0</td>\n      <td>223.0</td>\n      <td>159.0</td>\n      <td>129</td>\n      <td>89</td>\n      <td>122</td>\n      <td>120</td>\n      <td>79</td>\n    </tr>\n    <tr>\n      <th>6</th>\n      <td>Закарпатська</td>\n      <td>314.0</td>\n      <td>273.0</td>\n      <td>207.0</td>\n      <td>168</td>\n      <td>115</td>\n      <td>151</td>\n      <td>146</td>\n      <td>104</td>\n    </tr>\n    <tr>\n      <th>7</th>\n      <td>Запорізька</td>\n      <td>219.0</td>\n      <td>197.0</td>\n      <td>150.0</td>\n      <td>124</td>\n      <td>71</td>\n      <td>106</td>\n      <td>106</td>\n      <td>68</td>\n    </tr>\n    <tr>\n      <th>8</th>\n      <td>Івано-Франківська</td>\n      <td>243.0</td>\n      <td>248.0</td>\n      <td>182.0</td>\n      <td>155</td>\n      <td>103</td>\n      <td>124</td>\n      <td>122</td>\n      <td>88</td>\n    </tr>\n    <tr>\n      <th>9</th>\n      <td>Київська</td>\n      <td>204.0</td>\n      <td>189.0</td>\n      <td>156.0</td>\n      <td>123</td>\n      <td>73</td>\n      <td>122</td>\n      <td>121</td>\n      <td>80</td>\n    </tr>\n    <tr>\n      <th>10</th>\n      <td>Кіровоградська</td>\n      <td>216.0</td>\n      <td>171.0</td>\n      <td>145.0</td>\n      <td>126</td>\n      <td>79</td>\n      <td>110</td>\n      <td>108</td>\n      <td>68</td>\n    </tr>\n    <tr>\n      <th>11</th>\n      <td>Луганська</td>\n      <td>262.0</td>\n      <td>235.0</td>\n      <td>144.0</td>\n      <td>116</td>\n      <td>62</td>\n      <td>96</td>\n      <td>51</td>\n      <td>—</td>\n    </tr>\n    <tr>\n      <th>12</th>\n      <td>Львівська</td>\n      <td>234.0</td>\n      <td>240.0</td>\n      <td>171.0</td>\n      <td>140</td>\n      <td>91</td>\n      <td>119</td>\n      <td>119</td>\n      <td>87</td>\n    </tr>\n    <tr>\n      <th>13</th>\n      <td>Миколаївська</td>\n      <td>211.0</td>\n      <td>194.0</td>\n      <td>155.0</td>\n      <td>137</td>\n      <td>80</td>\n      <td>115</td>\n      <td>112</td>\n      <td>71</td>\n    </tr>\n    <tr>\n      <th>14</th>\n      <td>Одеська</td>\n      <td>241.0</td>\n      <td>192.0</td>\n      <td>148.0</td>\n      <td>126</td>\n      <td>80</td>\n      <td>127</td>\n      <td>123</td>\n      <td>88</td>\n    </tr>\n    <tr>\n      <th>15</th>\n      <td>Полтавська</td>\n      <td>186.0</td>\n      <td>163.0</td>\n      <td>131.0</td>\n      <td>118</td>\n      <td>70</td>\n      <td>99</td>\n      <td>100</td>\n      <td>65</td>\n    </tr>\n    <tr>\n      <th>16</th>\n      <td>Рівненська</td>\n      <td>269.0</td>\n      <td>267.0</td>\n      <td>193.0</td>\n      <td>158</td>\n      <td>118</td>\n      <td>159</td>\n      <td>148</td>\n      <td>107</td>\n    </tr>\n    <tr>\n      <th>17</th>\n      <td>Сумська</td>\n      <td>216.0</td>\n      <td>184.0</td>\n      <td>132.0</td>\n      <td>115</td>\n      <td>70</td>\n      <td>97</td>\n      <td>92</td>\n      <td>60</td>\n    </tr>\n    <tr>\n      <th>18</th>\n      <td>Тернопільська</td>\n      <td>213.0</td>\n      <td>216.0</td>\n      <td>157.0</td>\n      <td>142</td>\n      <td>92</td>\n      <td>113</td>\n      <td>109</td>\n      <td>76</td>\n    </tr>\n    <tr>\n      <th>19</th>\n      <td>Харківська</td>\n      <td>197.0</td>\n      <td>173.0</td>\n      <td>140.0</td>\n      <td>114</td>\n      <td>68</td>\n      <td>99</td>\n      <td>101</td>\n      <td>68</td>\n    </tr>\n    <tr>\n      <th>20</th>\n      <td>Херсонська</td>\n      <td>208.0</td>\n      <td>214.0</td>\n      <td>166.0</td>\n      <td>143</td>\n      <td>85</td>\n      <td>117</td>\n      <td>115</td>\n      <td>81</td>\n    </tr>\n    <tr>\n      <th>21</th>\n      <td>Хмельницька</td>\n      <td>234.0</td>\n      <td>198.0</td>\n      <td>148.0</td>\n      <td>129</td>\n      <td>85</td>\n      <td>113</td>\n      <td>112</td>\n      <td>79</td>\n    </tr>\n    <tr>\n      <th>22</th>\n      <td>Черкаська</td>\n      <td>205.0</td>\n      <td>179.0</td>\n      <td>144.0</td>\n      <td>123</td>\n      <td>75</td>\n      <td>100</td>\n      <td>98</td>\n      <td>64</td>\n    </tr>\n    <tr>\n      <th>23</th>\n      <td>Чернівецька</td>\n      <td>247.0</td>\n      <td>218.0</td>\n      <td>170.0</td>\n      <td>148</td>\n      <td>101</td>\n      <td>128</td>\n      <td>129</td>\n      <td>92</td>\n    </tr>\n    <tr>\n      <th>24</th>\n      <td>Чернігівська</td>\n      <td>220.0</td>\n      <td>183.0</td>\n      <td>127.0</td>\n      <td>108</td>\n      <td>69</td>\n      <td>94</td>\n      <td>90</td>\n      <td>61</td>\n    </tr>\n    <tr>\n      <th>25</th>\n      <td>Київ</td>\n      <td>NaN</td>\n      <td>174.0</td>\n      <td>159.0</td>\n      <td>120</td>\n      <td>73</td>\n      <td>120</td>\n      <td>121</td>\n      <td>110</td>\n    </tr>\n    <tr>\n      <th>26</th>\n      <td>Севастополь</td>\n      <td>NaN</td>\n      <td>NaN</td>\n      <td>NaN</td>\n      <td>125</td>\n      <td>70</td>\n      <td>120</td>\n      <td>—</td>\n      <td>—</td>\n    </tr>\n    <tr>\n      <th>27</th>\n      <td>Україна</td>\n      <td>228.0</td>\n      <td>205.0</td>\n      <td>152.0</td>\n      <td>126</td>\n      <td>78</td>\n      <td>114</td>\n      <td>111</td>\n      <td>81</td>\n    </tr>\n  </tbody>\n</table>\n</div>"
     },
     "execution_count": 81,
     "metadata": {},
     "output_type": "execute_result"
    }
   ],
   "source": [
    "data = sns.load_dataset(\"mpg\")\n",
    "url = 'https://uk.wikipedia.org/wiki/%D0%9D%D0%B0%D1%81%D0%B5%D0%BB%D0%B5%D0%BD%D0%BD%D1%8F_%D0%A3%D0%BA%D1%80%D0%B0%D1%97%D0%BD%D0%B8'\n",
    "\n",
    "table = pd.read_html(url, match='Коефіцієнт народжуваності в регіонах України')[0]\n",
    "table"
   ]
  },
  {
   "cell_type": "markdown",
   "source": [
    "\n",
    "\n",
    "*   Вивести перші рядки таблиці за допомогою методу head\n",
    "\n"
   ],
   "metadata": {
    "id": "fLPHLSHHoJ9l"
   }
  },
  {
   "cell_type": "code",
   "source": [
    "table.head()"
   ],
   "metadata": {
    "colab": {
     "base_uri": "https://localhost:8080/"
    },
    "id": "UEyOuaTLoA7k",
    "outputId": "5be79452-9a70-43d1-b6a2-9c92bf8ab44c",
    "ExecuteTime": {
     "end_time": "2023-11-12T11:15:24.067039340Z",
     "start_time": "2023-11-12T11:15:24.059395275Z"
    }
   },
   "execution_count": 82,
   "outputs": [
    {
     "data": {
      "text/plain": "             Регіон   1950   1960   1970  1990  2000  2012 2014 2019\n0              Крим  230.0  206.0  160.0   130    73   126    —    —\n1         Вінницька  224.0  192.0  142.0   124    84   112  109   76\n2         Волинська  247.0  250.0  179.0   153   112   148  141  101\n3  Дніпропетровська  204.0  204.0  151.0   123    71   112  111   71\n4          Донецька  271.0  214.0  140.0   109    61    98   82    —",
      "text/html": "<div>\n<style scoped>\n    .dataframe tbody tr th:only-of-type {\n        vertical-align: middle;\n    }\n\n    .dataframe tbody tr th {\n        vertical-align: top;\n    }\n\n    .dataframe thead th {\n        text-align: right;\n    }\n</style>\n<table border=\"1\" class=\"dataframe\">\n  <thead>\n    <tr style=\"text-align: right;\">\n      <th></th>\n      <th>Регіон</th>\n      <th>1950</th>\n      <th>1960</th>\n      <th>1970</th>\n      <th>1990</th>\n      <th>2000</th>\n      <th>2012</th>\n      <th>2014</th>\n      <th>2019</th>\n    </tr>\n  </thead>\n  <tbody>\n    <tr>\n      <th>0</th>\n      <td>Крим</td>\n      <td>230.0</td>\n      <td>206.0</td>\n      <td>160.0</td>\n      <td>130</td>\n      <td>73</td>\n      <td>126</td>\n      <td>—</td>\n      <td>—</td>\n    </tr>\n    <tr>\n      <th>1</th>\n      <td>Вінницька</td>\n      <td>224.0</td>\n      <td>192.0</td>\n      <td>142.0</td>\n      <td>124</td>\n      <td>84</td>\n      <td>112</td>\n      <td>109</td>\n      <td>76</td>\n    </tr>\n    <tr>\n      <th>2</th>\n      <td>Волинська</td>\n      <td>247.0</td>\n      <td>250.0</td>\n      <td>179.0</td>\n      <td>153</td>\n      <td>112</td>\n      <td>148</td>\n      <td>141</td>\n      <td>101</td>\n    </tr>\n    <tr>\n      <th>3</th>\n      <td>Дніпропетровська</td>\n      <td>204.0</td>\n      <td>204.0</td>\n      <td>151.0</td>\n      <td>123</td>\n      <td>71</td>\n      <td>112</td>\n      <td>111</td>\n      <td>71</td>\n    </tr>\n    <tr>\n      <th>4</th>\n      <td>Донецька</td>\n      <td>271.0</td>\n      <td>214.0</td>\n      <td>140.0</td>\n      <td>109</td>\n      <td>61</td>\n      <td>98</td>\n      <td>82</td>\n      <td>—</td>\n    </tr>\n  </tbody>\n</table>\n</div>"
     },
     "execution_count": 82,
     "metadata": {},
     "output_type": "execute_result"
    }
   ]
  },
  {
   "cell_type": "markdown",
   "source": [
    "\n",
    "\n",
    "*   Визначте кількість рядків та стовпців у датафреймі (атрибут shape)\n",
    "\n"
   ],
   "metadata": {
    "id": "EXKG2OIHoR0D"
   }
  },
  {
   "cell_type": "code",
   "source": [
    "table.shape"
   ],
   "metadata": {
    "colab": {
     "base_uri": "https://localhost:8080/"
    },
    "id": "WQ4KvuTan0kh",
    "outputId": "a8be4c33-125c-479a-ec34-2e8f781923ba",
    "ExecuteTime": {
     "end_time": "2023-11-12T11:15:24.220148751Z",
     "start_time": "2023-11-12T11:15:24.059673779Z"
    }
   },
   "execution_count": 83,
   "outputs": [
    {
     "data": {
      "text/plain": "(28, 9)"
     },
     "execution_count": 83,
     "metadata": {},
     "output_type": "execute_result"
    }
   ]
  },
  {
   "cell_type": "markdown",
   "source": [
    "*   Замініть у таблиці значення \"—\" на значення NaN"
   ],
   "metadata": {
    "id": "qK80FbKhoags"
   }
  },
  {
   "cell_type": "code",
   "source": [
    "table.replace('—', pd.NA, inplace=True)\n",
    "table"
   ],
   "metadata": {
    "colab": {
     "base_uri": "https://localhost:8080/"
    },
    "id": "j895ejtGofQz",
    "outputId": "4674c490-1bfc-440f-9881-f406b61ee744",
    "ExecuteTime": {
     "end_time": "2023-11-12T11:15:24.381123911Z",
     "start_time": "2023-11-12T11:15:24.135752898Z"
    }
   },
   "execution_count": 84,
   "outputs": [
    {
     "data": {
      "text/plain": "               Регіон   1950   1960   1970  1990  2000  2012  2014  2019\n0                Крим  230.0  206.0  160.0   130    73   126  <NA>  <NA>\n1           Вінницька  224.0  192.0  142.0   124    84   112   109    76\n2           Волинська  247.0  250.0  179.0   153   112   148   141   101\n3    Дніпропетровська  204.0  204.0  151.0   123    71   112   111    71\n4            Донецька  271.0  214.0  140.0   109    61    98    82  <NA>\n5         Житомирська  261.0  223.0  159.0   129    89   122   120    79\n6        Закарпатська  314.0  273.0  207.0   168   115   151   146   104\n7          Запорізька  219.0  197.0  150.0   124    71   106   106    68\n8   Івано-Франківська  243.0  248.0  182.0   155   103   124   122    88\n9            Київська  204.0  189.0  156.0   123    73   122   121    80\n10     Кіровоградська  216.0  171.0  145.0   126    79   110   108    68\n11          Луганська  262.0  235.0  144.0   116    62    96    51  <NA>\n12          Львівська  234.0  240.0  171.0   140    91   119   119    87\n13       Миколаївська  211.0  194.0  155.0   137    80   115   112    71\n14            Одеська  241.0  192.0  148.0   126    80   127   123    88\n15         Полтавська  186.0  163.0  131.0   118    70    99   100    65\n16         Рівненська  269.0  267.0  193.0   158   118   159   148   107\n17            Сумська  216.0  184.0  132.0   115    70    97    92    60\n18      Тернопільська  213.0  216.0  157.0   142    92   113   109    76\n19         Харківська  197.0  173.0  140.0   114    68    99   101    68\n20         Херсонська  208.0  214.0  166.0   143    85   117   115    81\n21        Хмельницька  234.0  198.0  148.0   129    85   113   112    79\n22          Черкаська  205.0  179.0  144.0   123    75   100    98    64\n23        Чернівецька  247.0  218.0  170.0   148   101   128   129    92\n24       Чернігівська  220.0  183.0  127.0   108    69    94    90    61\n25               Київ    NaN  174.0  159.0   120    73   120   121   110\n26        Севастополь    NaN    NaN    NaN   125    70   120  <NA>  <NA>\n27            Україна  228.0  205.0  152.0   126    78   114   111    81",
      "text/html": "<div>\n<style scoped>\n    .dataframe tbody tr th:only-of-type {\n        vertical-align: middle;\n    }\n\n    .dataframe tbody tr th {\n        vertical-align: top;\n    }\n\n    .dataframe thead th {\n        text-align: right;\n    }\n</style>\n<table border=\"1\" class=\"dataframe\">\n  <thead>\n    <tr style=\"text-align: right;\">\n      <th></th>\n      <th>Регіон</th>\n      <th>1950</th>\n      <th>1960</th>\n      <th>1970</th>\n      <th>1990</th>\n      <th>2000</th>\n      <th>2012</th>\n      <th>2014</th>\n      <th>2019</th>\n    </tr>\n  </thead>\n  <tbody>\n    <tr>\n      <th>0</th>\n      <td>Крим</td>\n      <td>230.0</td>\n      <td>206.0</td>\n      <td>160.0</td>\n      <td>130</td>\n      <td>73</td>\n      <td>126</td>\n      <td>&lt;NA&gt;</td>\n      <td>&lt;NA&gt;</td>\n    </tr>\n    <tr>\n      <th>1</th>\n      <td>Вінницька</td>\n      <td>224.0</td>\n      <td>192.0</td>\n      <td>142.0</td>\n      <td>124</td>\n      <td>84</td>\n      <td>112</td>\n      <td>109</td>\n      <td>76</td>\n    </tr>\n    <tr>\n      <th>2</th>\n      <td>Волинська</td>\n      <td>247.0</td>\n      <td>250.0</td>\n      <td>179.0</td>\n      <td>153</td>\n      <td>112</td>\n      <td>148</td>\n      <td>141</td>\n      <td>101</td>\n    </tr>\n    <tr>\n      <th>3</th>\n      <td>Дніпропетровська</td>\n      <td>204.0</td>\n      <td>204.0</td>\n      <td>151.0</td>\n      <td>123</td>\n      <td>71</td>\n      <td>112</td>\n      <td>111</td>\n      <td>71</td>\n    </tr>\n    <tr>\n      <th>4</th>\n      <td>Донецька</td>\n      <td>271.0</td>\n      <td>214.0</td>\n      <td>140.0</td>\n      <td>109</td>\n      <td>61</td>\n      <td>98</td>\n      <td>82</td>\n      <td>&lt;NA&gt;</td>\n    </tr>\n    <tr>\n      <th>5</th>\n      <td>Житомирська</td>\n      <td>261.0</td>\n      <td>223.0</td>\n      <td>159.0</td>\n      <td>129</td>\n      <td>89</td>\n      <td>122</td>\n      <td>120</td>\n      <td>79</td>\n    </tr>\n    <tr>\n      <th>6</th>\n      <td>Закарпатська</td>\n      <td>314.0</td>\n      <td>273.0</td>\n      <td>207.0</td>\n      <td>168</td>\n      <td>115</td>\n      <td>151</td>\n      <td>146</td>\n      <td>104</td>\n    </tr>\n    <tr>\n      <th>7</th>\n      <td>Запорізька</td>\n      <td>219.0</td>\n      <td>197.0</td>\n      <td>150.0</td>\n      <td>124</td>\n      <td>71</td>\n      <td>106</td>\n      <td>106</td>\n      <td>68</td>\n    </tr>\n    <tr>\n      <th>8</th>\n      <td>Івано-Франківська</td>\n      <td>243.0</td>\n      <td>248.0</td>\n      <td>182.0</td>\n      <td>155</td>\n      <td>103</td>\n      <td>124</td>\n      <td>122</td>\n      <td>88</td>\n    </tr>\n    <tr>\n      <th>9</th>\n      <td>Київська</td>\n      <td>204.0</td>\n      <td>189.0</td>\n      <td>156.0</td>\n      <td>123</td>\n      <td>73</td>\n      <td>122</td>\n      <td>121</td>\n      <td>80</td>\n    </tr>\n    <tr>\n      <th>10</th>\n      <td>Кіровоградська</td>\n      <td>216.0</td>\n      <td>171.0</td>\n      <td>145.0</td>\n      <td>126</td>\n      <td>79</td>\n      <td>110</td>\n      <td>108</td>\n      <td>68</td>\n    </tr>\n    <tr>\n      <th>11</th>\n      <td>Луганська</td>\n      <td>262.0</td>\n      <td>235.0</td>\n      <td>144.0</td>\n      <td>116</td>\n      <td>62</td>\n      <td>96</td>\n      <td>51</td>\n      <td>&lt;NA&gt;</td>\n    </tr>\n    <tr>\n      <th>12</th>\n      <td>Львівська</td>\n      <td>234.0</td>\n      <td>240.0</td>\n      <td>171.0</td>\n      <td>140</td>\n      <td>91</td>\n      <td>119</td>\n      <td>119</td>\n      <td>87</td>\n    </tr>\n    <tr>\n      <th>13</th>\n      <td>Миколаївська</td>\n      <td>211.0</td>\n      <td>194.0</td>\n      <td>155.0</td>\n      <td>137</td>\n      <td>80</td>\n      <td>115</td>\n      <td>112</td>\n      <td>71</td>\n    </tr>\n    <tr>\n      <th>14</th>\n      <td>Одеська</td>\n      <td>241.0</td>\n      <td>192.0</td>\n      <td>148.0</td>\n      <td>126</td>\n      <td>80</td>\n      <td>127</td>\n      <td>123</td>\n      <td>88</td>\n    </tr>\n    <tr>\n      <th>15</th>\n      <td>Полтавська</td>\n      <td>186.0</td>\n      <td>163.0</td>\n      <td>131.0</td>\n      <td>118</td>\n      <td>70</td>\n      <td>99</td>\n      <td>100</td>\n      <td>65</td>\n    </tr>\n    <tr>\n      <th>16</th>\n      <td>Рівненська</td>\n      <td>269.0</td>\n      <td>267.0</td>\n      <td>193.0</td>\n      <td>158</td>\n      <td>118</td>\n      <td>159</td>\n      <td>148</td>\n      <td>107</td>\n    </tr>\n    <tr>\n      <th>17</th>\n      <td>Сумська</td>\n      <td>216.0</td>\n      <td>184.0</td>\n      <td>132.0</td>\n      <td>115</td>\n      <td>70</td>\n      <td>97</td>\n      <td>92</td>\n      <td>60</td>\n    </tr>\n    <tr>\n      <th>18</th>\n      <td>Тернопільська</td>\n      <td>213.0</td>\n      <td>216.0</td>\n      <td>157.0</td>\n      <td>142</td>\n      <td>92</td>\n      <td>113</td>\n      <td>109</td>\n      <td>76</td>\n    </tr>\n    <tr>\n      <th>19</th>\n      <td>Харківська</td>\n      <td>197.0</td>\n      <td>173.0</td>\n      <td>140.0</td>\n      <td>114</td>\n      <td>68</td>\n      <td>99</td>\n      <td>101</td>\n      <td>68</td>\n    </tr>\n    <tr>\n      <th>20</th>\n      <td>Херсонська</td>\n      <td>208.0</td>\n      <td>214.0</td>\n      <td>166.0</td>\n      <td>143</td>\n      <td>85</td>\n      <td>117</td>\n      <td>115</td>\n      <td>81</td>\n    </tr>\n    <tr>\n      <th>21</th>\n      <td>Хмельницька</td>\n      <td>234.0</td>\n      <td>198.0</td>\n      <td>148.0</td>\n      <td>129</td>\n      <td>85</td>\n      <td>113</td>\n      <td>112</td>\n      <td>79</td>\n    </tr>\n    <tr>\n      <th>22</th>\n      <td>Черкаська</td>\n      <td>205.0</td>\n      <td>179.0</td>\n      <td>144.0</td>\n      <td>123</td>\n      <td>75</td>\n      <td>100</td>\n      <td>98</td>\n      <td>64</td>\n    </tr>\n    <tr>\n      <th>23</th>\n      <td>Чернівецька</td>\n      <td>247.0</td>\n      <td>218.0</td>\n      <td>170.0</td>\n      <td>148</td>\n      <td>101</td>\n      <td>128</td>\n      <td>129</td>\n      <td>92</td>\n    </tr>\n    <tr>\n      <th>24</th>\n      <td>Чернігівська</td>\n      <td>220.0</td>\n      <td>183.0</td>\n      <td>127.0</td>\n      <td>108</td>\n      <td>69</td>\n      <td>94</td>\n      <td>90</td>\n      <td>61</td>\n    </tr>\n    <tr>\n      <th>25</th>\n      <td>Київ</td>\n      <td>NaN</td>\n      <td>174.0</td>\n      <td>159.0</td>\n      <td>120</td>\n      <td>73</td>\n      <td>120</td>\n      <td>121</td>\n      <td>110</td>\n    </tr>\n    <tr>\n      <th>26</th>\n      <td>Севастополь</td>\n      <td>NaN</td>\n      <td>NaN</td>\n      <td>NaN</td>\n      <td>125</td>\n      <td>70</td>\n      <td>120</td>\n      <td>&lt;NA&gt;</td>\n      <td>&lt;NA&gt;</td>\n    </tr>\n    <tr>\n      <th>27</th>\n      <td>Україна</td>\n      <td>228.0</td>\n      <td>205.0</td>\n      <td>152.0</td>\n      <td>126</td>\n      <td>78</td>\n      <td>114</td>\n      <td>111</td>\n      <td>81</td>\n    </tr>\n  </tbody>\n</table>\n</div>"
     },
     "execution_count": 84,
     "metadata": {},
     "output_type": "execute_result"
    }
   ]
  },
  {
   "cell_type": "markdown",
   "source": [
    "*   Визначте типи всіх стовпців за допомогою dataframe.dtypes"
   ],
   "metadata": {
    "id": "UcorNG8tpKFr"
   }
  },
  {
   "cell_type": "code",
   "source": [
    "table.dtypes"
   ],
   "metadata": {
    "colab": {
     "base_uri": "https://localhost:8080/"
    },
    "id": "JDOuz5NgpfLU",
    "outputId": "8221396a-8689-4af7-ad93-362ec734aa25",
    "ExecuteTime": {
     "end_time": "2023-11-12T11:15:24.392140403Z",
     "start_time": "2023-11-12T11:15:24.248338655Z"
    }
   },
   "execution_count": 85,
   "outputs": [
    {
     "data": {
      "text/plain": "Регіон     object\n1950      float64\n1960      float64\n1970      float64\n1990        int64\n2000        int64\n2012        int64\n2014       object\n2019       object\ndtype: object"
     },
     "execution_count": 85,
     "metadata": {},
     "output_type": "execute_result"
    }
   ]
  },
  {
   "cell_type": "markdown",
   "source": [
    "*   Замініть типи нечислових колонок на числові. Підказка - це колонки, де знаходився символ \"—\""
   ],
   "metadata": {
    "id": "20-X9n5HptCj"
   }
  },
  {
   "cell_type": "code",
   "source": [
    "# for column in table.columns[1:]:\n",
    "#     table[column] = pd.to_numeric(table[column], errors='coerce')\n",
    "\n",
    "table.replace(pd.NA, 0, inplace=True)\n",
    "\n",
    "table"
   ],
   "metadata": {
    "colab": {
     "base_uri": "https://localhost:8080/"
    },
    "id": "P0uS2EGKpw9j",
    "outputId": "ae804368-62d4-4f4f-89b4-2e28a08c4185",
    "ExecuteTime": {
     "end_time": "2023-11-12T11:15:24.559605481Z",
     "start_time": "2023-11-12T11:15:24.343158416Z"
    }
   },
   "execution_count": 86,
   "outputs": [
    {
     "data": {
      "text/plain": "               Регіон   1950   1960   1970  1990  2000  2012 2014 2019\n0                Крим  230.0  206.0  160.0   130    73   126    0    0\n1           Вінницька  224.0  192.0  142.0   124    84   112  109   76\n2           Волинська  247.0  250.0  179.0   153   112   148  141  101\n3    Дніпропетровська  204.0  204.0  151.0   123    71   112  111   71\n4            Донецька  271.0  214.0  140.0   109    61    98   82    0\n5         Житомирська  261.0  223.0  159.0   129    89   122  120   79\n6        Закарпатська  314.0  273.0  207.0   168   115   151  146  104\n7          Запорізька  219.0  197.0  150.0   124    71   106  106   68\n8   Івано-Франківська  243.0  248.0  182.0   155   103   124  122   88\n9            Київська  204.0  189.0  156.0   123    73   122  121   80\n10     Кіровоградська  216.0  171.0  145.0   126    79   110  108   68\n11          Луганська  262.0  235.0  144.0   116    62    96   51    0\n12          Львівська  234.0  240.0  171.0   140    91   119  119   87\n13       Миколаївська  211.0  194.0  155.0   137    80   115  112   71\n14            Одеська  241.0  192.0  148.0   126    80   127  123   88\n15         Полтавська  186.0  163.0  131.0   118    70    99  100   65\n16         Рівненська  269.0  267.0  193.0   158   118   159  148  107\n17            Сумська  216.0  184.0  132.0   115    70    97   92   60\n18      Тернопільська  213.0  216.0  157.0   142    92   113  109   76\n19         Харківська  197.0  173.0  140.0   114    68    99  101   68\n20         Херсонська  208.0  214.0  166.0   143    85   117  115   81\n21        Хмельницька  234.0  198.0  148.0   129    85   113  112   79\n22          Черкаська  205.0  179.0  144.0   123    75   100   98   64\n23        Чернівецька  247.0  218.0  170.0   148   101   128  129   92\n24       Чернігівська  220.0  183.0  127.0   108    69    94   90   61\n25               Київ    NaN  174.0  159.0   120    73   120  121  110\n26        Севастополь    NaN    NaN    NaN   125    70   120    0    0\n27            Україна  228.0  205.0  152.0   126    78   114  111   81",
      "text/html": "<div>\n<style scoped>\n    .dataframe tbody tr th:only-of-type {\n        vertical-align: middle;\n    }\n\n    .dataframe tbody tr th {\n        vertical-align: top;\n    }\n\n    .dataframe thead th {\n        text-align: right;\n    }\n</style>\n<table border=\"1\" class=\"dataframe\">\n  <thead>\n    <tr style=\"text-align: right;\">\n      <th></th>\n      <th>Регіон</th>\n      <th>1950</th>\n      <th>1960</th>\n      <th>1970</th>\n      <th>1990</th>\n      <th>2000</th>\n      <th>2012</th>\n      <th>2014</th>\n      <th>2019</th>\n    </tr>\n  </thead>\n  <tbody>\n    <tr>\n      <th>0</th>\n      <td>Крим</td>\n      <td>230.0</td>\n      <td>206.0</td>\n      <td>160.0</td>\n      <td>130</td>\n      <td>73</td>\n      <td>126</td>\n      <td>0</td>\n      <td>0</td>\n    </tr>\n    <tr>\n      <th>1</th>\n      <td>Вінницька</td>\n      <td>224.0</td>\n      <td>192.0</td>\n      <td>142.0</td>\n      <td>124</td>\n      <td>84</td>\n      <td>112</td>\n      <td>109</td>\n      <td>76</td>\n    </tr>\n    <tr>\n      <th>2</th>\n      <td>Волинська</td>\n      <td>247.0</td>\n      <td>250.0</td>\n      <td>179.0</td>\n      <td>153</td>\n      <td>112</td>\n      <td>148</td>\n      <td>141</td>\n      <td>101</td>\n    </tr>\n    <tr>\n      <th>3</th>\n      <td>Дніпропетровська</td>\n      <td>204.0</td>\n      <td>204.0</td>\n      <td>151.0</td>\n      <td>123</td>\n      <td>71</td>\n      <td>112</td>\n      <td>111</td>\n      <td>71</td>\n    </tr>\n    <tr>\n      <th>4</th>\n      <td>Донецька</td>\n      <td>271.0</td>\n      <td>214.0</td>\n      <td>140.0</td>\n      <td>109</td>\n      <td>61</td>\n      <td>98</td>\n      <td>82</td>\n      <td>0</td>\n    </tr>\n    <tr>\n      <th>5</th>\n      <td>Житомирська</td>\n      <td>261.0</td>\n      <td>223.0</td>\n      <td>159.0</td>\n      <td>129</td>\n      <td>89</td>\n      <td>122</td>\n      <td>120</td>\n      <td>79</td>\n    </tr>\n    <tr>\n      <th>6</th>\n      <td>Закарпатська</td>\n      <td>314.0</td>\n      <td>273.0</td>\n      <td>207.0</td>\n      <td>168</td>\n      <td>115</td>\n      <td>151</td>\n      <td>146</td>\n      <td>104</td>\n    </tr>\n    <tr>\n      <th>7</th>\n      <td>Запорізька</td>\n      <td>219.0</td>\n      <td>197.0</td>\n      <td>150.0</td>\n      <td>124</td>\n      <td>71</td>\n      <td>106</td>\n      <td>106</td>\n      <td>68</td>\n    </tr>\n    <tr>\n      <th>8</th>\n      <td>Івано-Франківська</td>\n      <td>243.0</td>\n      <td>248.0</td>\n      <td>182.0</td>\n      <td>155</td>\n      <td>103</td>\n      <td>124</td>\n      <td>122</td>\n      <td>88</td>\n    </tr>\n    <tr>\n      <th>9</th>\n      <td>Київська</td>\n      <td>204.0</td>\n      <td>189.0</td>\n      <td>156.0</td>\n      <td>123</td>\n      <td>73</td>\n      <td>122</td>\n      <td>121</td>\n      <td>80</td>\n    </tr>\n    <tr>\n      <th>10</th>\n      <td>Кіровоградська</td>\n      <td>216.0</td>\n      <td>171.0</td>\n      <td>145.0</td>\n      <td>126</td>\n      <td>79</td>\n      <td>110</td>\n      <td>108</td>\n      <td>68</td>\n    </tr>\n    <tr>\n      <th>11</th>\n      <td>Луганська</td>\n      <td>262.0</td>\n      <td>235.0</td>\n      <td>144.0</td>\n      <td>116</td>\n      <td>62</td>\n      <td>96</td>\n      <td>51</td>\n      <td>0</td>\n    </tr>\n    <tr>\n      <th>12</th>\n      <td>Львівська</td>\n      <td>234.0</td>\n      <td>240.0</td>\n      <td>171.0</td>\n      <td>140</td>\n      <td>91</td>\n      <td>119</td>\n      <td>119</td>\n      <td>87</td>\n    </tr>\n    <tr>\n      <th>13</th>\n      <td>Миколаївська</td>\n      <td>211.0</td>\n      <td>194.0</td>\n      <td>155.0</td>\n      <td>137</td>\n      <td>80</td>\n      <td>115</td>\n      <td>112</td>\n      <td>71</td>\n    </tr>\n    <tr>\n      <th>14</th>\n      <td>Одеська</td>\n      <td>241.0</td>\n      <td>192.0</td>\n      <td>148.0</td>\n      <td>126</td>\n      <td>80</td>\n      <td>127</td>\n      <td>123</td>\n      <td>88</td>\n    </tr>\n    <tr>\n      <th>15</th>\n      <td>Полтавська</td>\n      <td>186.0</td>\n      <td>163.0</td>\n      <td>131.0</td>\n      <td>118</td>\n      <td>70</td>\n      <td>99</td>\n      <td>100</td>\n      <td>65</td>\n    </tr>\n    <tr>\n      <th>16</th>\n      <td>Рівненська</td>\n      <td>269.0</td>\n      <td>267.0</td>\n      <td>193.0</td>\n      <td>158</td>\n      <td>118</td>\n      <td>159</td>\n      <td>148</td>\n      <td>107</td>\n    </tr>\n    <tr>\n      <th>17</th>\n      <td>Сумська</td>\n      <td>216.0</td>\n      <td>184.0</td>\n      <td>132.0</td>\n      <td>115</td>\n      <td>70</td>\n      <td>97</td>\n      <td>92</td>\n      <td>60</td>\n    </tr>\n    <tr>\n      <th>18</th>\n      <td>Тернопільська</td>\n      <td>213.0</td>\n      <td>216.0</td>\n      <td>157.0</td>\n      <td>142</td>\n      <td>92</td>\n      <td>113</td>\n      <td>109</td>\n      <td>76</td>\n    </tr>\n    <tr>\n      <th>19</th>\n      <td>Харківська</td>\n      <td>197.0</td>\n      <td>173.0</td>\n      <td>140.0</td>\n      <td>114</td>\n      <td>68</td>\n      <td>99</td>\n      <td>101</td>\n      <td>68</td>\n    </tr>\n    <tr>\n      <th>20</th>\n      <td>Херсонська</td>\n      <td>208.0</td>\n      <td>214.0</td>\n      <td>166.0</td>\n      <td>143</td>\n      <td>85</td>\n      <td>117</td>\n      <td>115</td>\n      <td>81</td>\n    </tr>\n    <tr>\n      <th>21</th>\n      <td>Хмельницька</td>\n      <td>234.0</td>\n      <td>198.0</td>\n      <td>148.0</td>\n      <td>129</td>\n      <td>85</td>\n      <td>113</td>\n      <td>112</td>\n      <td>79</td>\n    </tr>\n    <tr>\n      <th>22</th>\n      <td>Черкаська</td>\n      <td>205.0</td>\n      <td>179.0</td>\n      <td>144.0</td>\n      <td>123</td>\n      <td>75</td>\n      <td>100</td>\n      <td>98</td>\n      <td>64</td>\n    </tr>\n    <tr>\n      <th>23</th>\n      <td>Чернівецька</td>\n      <td>247.0</td>\n      <td>218.0</td>\n      <td>170.0</td>\n      <td>148</td>\n      <td>101</td>\n      <td>128</td>\n      <td>129</td>\n      <td>92</td>\n    </tr>\n    <tr>\n      <th>24</th>\n      <td>Чернігівська</td>\n      <td>220.0</td>\n      <td>183.0</td>\n      <td>127.0</td>\n      <td>108</td>\n      <td>69</td>\n      <td>94</td>\n      <td>90</td>\n      <td>61</td>\n    </tr>\n    <tr>\n      <th>25</th>\n      <td>Київ</td>\n      <td>NaN</td>\n      <td>174.0</td>\n      <td>159.0</td>\n      <td>120</td>\n      <td>73</td>\n      <td>120</td>\n      <td>121</td>\n      <td>110</td>\n    </tr>\n    <tr>\n      <th>26</th>\n      <td>Севастополь</td>\n      <td>NaN</td>\n      <td>NaN</td>\n      <td>NaN</td>\n      <td>125</td>\n      <td>70</td>\n      <td>120</td>\n      <td>0</td>\n      <td>0</td>\n    </tr>\n    <tr>\n      <th>27</th>\n      <td>Україна</td>\n      <td>228.0</td>\n      <td>205.0</td>\n      <td>152.0</td>\n      <td>126</td>\n      <td>78</td>\n      <td>114</td>\n      <td>111</td>\n      <td>81</td>\n    </tr>\n  </tbody>\n</table>\n</div>"
     },
     "execution_count": 86,
     "metadata": {},
     "output_type": "execute_result"
    }
   ]
  },
  {
   "cell_type": "code",
   "source": [
    "# # Заміна типів нечислових колонок на числові\n",
    "# non_numeric_columns = [col for col in table.columns if table[col].dtype == object]\n",
    "# table[non_numeric_columns] = table[non_numeric_columns].apply(pd.to_numeric, errors='coerce')\n",
    "# print(table[non_numeric_columns])"
   ],
   "metadata": {
    "id": "eFhv1QetseJQ",
    "ExecuteTime": {
     "end_time": "2023-11-12T11:15:24.578864606Z",
     "start_time": "2023-11-12T11:15:24.503404652Z"
    }
   },
   "execution_count": 87,
   "outputs": []
  },
  {
   "cell_type": "markdown",
   "source": [
    "\n",
    "\n",
    "*   Порахуйте, яка частка пропусків міститься в кожній колонці (використовуйте методи isnull та sum)\n",
    "\n"
   ],
   "metadata": {
    "id": "VwXh2AChtJEm"
   }
  },
  {
   "cell_type": "code",
   "source": [
    "table.isnull().sum()"
   ],
   "metadata": {
    "colab": {
     "base_uri": "https://localhost:8080/"
    },
    "id": "aQevGmyVs6AD",
    "outputId": "ed0cca4c-f983-47d8-c0a6-4b5b67c0a53d",
    "ExecuteTime": {
     "end_time": "2023-11-12T11:15:24.726973060Z",
     "start_time": "2023-11-12T11:15:24.562238989Z"
    }
   },
   "execution_count": 88,
   "outputs": [
    {
     "data": {
      "text/plain": "Регіон    0\n1950      2\n1960      1\n1970      1\n1990      0\n2000      0\n2012      0\n2014      0\n2019      0\ndtype: int64"
     },
     "execution_count": 88,
     "metadata": {},
     "output_type": "execute_result"
    }
   ]
  },
  {
   "cell_type": "markdown",
   "source": [
    "\n",
    "\n",
    "*   Видаліть з таблиці дані по всій країні, останній рядок таблиці\n",
    "\n"
   ],
   "metadata": {
    "id": "ZnvDounrtYww"
   }
  },
  {
   "cell_type": "code",
   "source": [
    "table = table.iloc[:-1]\n",
    "table"
   ],
   "metadata": {
    "colab": {
     "base_uri": "https://localhost:8080/"
    },
    "id": "oOMMeFz9tbg1",
    "outputId": "d50bd899-2433-4231-a8c9-3ec6583bff68",
    "ExecuteTime": {
     "end_time": "2023-11-12T11:15:24.898978043Z",
     "start_time": "2023-11-12T11:15:24.691576990Z"
    }
   },
   "execution_count": 89,
   "outputs": [
    {
     "data": {
      "text/plain": "               Регіон   1950   1960   1970  1990  2000  2012 2014 2019\n0                Крим  230.0  206.0  160.0   130    73   126    0    0\n1           Вінницька  224.0  192.0  142.0   124    84   112  109   76\n2           Волинська  247.0  250.0  179.0   153   112   148  141  101\n3    Дніпропетровська  204.0  204.0  151.0   123    71   112  111   71\n4            Донецька  271.0  214.0  140.0   109    61    98   82    0\n5         Житомирська  261.0  223.0  159.0   129    89   122  120   79\n6        Закарпатська  314.0  273.0  207.0   168   115   151  146  104\n7          Запорізька  219.0  197.0  150.0   124    71   106  106   68\n8   Івано-Франківська  243.0  248.0  182.0   155   103   124  122   88\n9            Київська  204.0  189.0  156.0   123    73   122  121   80\n10     Кіровоградська  216.0  171.0  145.0   126    79   110  108   68\n11          Луганська  262.0  235.0  144.0   116    62    96   51    0\n12          Львівська  234.0  240.0  171.0   140    91   119  119   87\n13       Миколаївська  211.0  194.0  155.0   137    80   115  112   71\n14            Одеська  241.0  192.0  148.0   126    80   127  123   88\n15         Полтавська  186.0  163.0  131.0   118    70    99  100   65\n16         Рівненська  269.0  267.0  193.0   158   118   159  148  107\n17            Сумська  216.0  184.0  132.0   115    70    97   92   60\n18      Тернопільська  213.0  216.0  157.0   142    92   113  109   76\n19         Харківська  197.0  173.0  140.0   114    68    99  101   68\n20         Херсонська  208.0  214.0  166.0   143    85   117  115   81\n21        Хмельницька  234.0  198.0  148.0   129    85   113  112   79\n22          Черкаська  205.0  179.0  144.0   123    75   100   98   64\n23        Чернівецька  247.0  218.0  170.0   148   101   128  129   92\n24       Чернігівська  220.0  183.0  127.0   108    69    94   90   61\n25               Київ    NaN  174.0  159.0   120    73   120  121  110\n26        Севастополь    NaN    NaN    NaN   125    70   120    0    0",
      "text/html": "<div>\n<style scoped>\n    .dataframe tbody tr th:only-of-type {\n        vertical-align: middle;\n    }\n\n    .dataframe tbody tr th {\n        vertical-align: top;\n    }\n\n    .dataframe thead th {\n        text-align: right;\n    }\n</style>\n<table border=\"1\" class=\"dataframe\">\n  <thead>\n    <tr style=\"text-align: right;\">\n      <th></th>\n      <th>Регіон</th>\n      <th>1950</th>\n      <th>1960</th>\n      <th>1970</th>\n      <th>1990</th>\n      <th>2000</th>\n      <th>2012</th>\n      <th>2014</th>\n      <th>2019</th>\n    </tr>\n  </thead>\n  <tbody>\n    <tr>\n      <th>0</th>\n      <td>Крим</td>\n      <td>230.0</td>\n      <td>206.0</td>\n      <td>160.0</td>\n      <td>130</td>\n      <td>73</td>\n      <td>126</td>\n      <td>0</td>\n      <td>0</td>\n    </tr>\n    <tr>\n      <th>1</th>\n      <td>Вінницька</td>\n      <td>224.0</td>\n      <td>192.0</td>\n      <td>142.0</td>\n      <td>124</td>\n      <td>84</td>\n      <td>112</td>\n      <td>109</td>\n      <td>76</td>\n    </tr>\n    <tr>\n      <th>2</th>\n      <td>Волинська</td>\n      <td>247.0</td>\n      <td>250.0</td>\n      <td>179.0</td>\n      <td>153</td>\n      <td>112</td>\n      <td>148</td>\n      <td>141</td>\n      <td>101</td>\n    </tr>\n    <tr>\n      <th>3</th>\n      <td>Дніпропетровська</td>\n      <td>204.0</td>\n      <td>204.0</td>\n      <td>151.0</td>\n      <td>123</td>\n      <td>71</td>\n      <td>112</td>\n      <td>111</td>\n      <td>71</td>\n    </tr>\n    <tr>\n      <th>4</th>\n      <td>Донецька</td>\n      <td>271.0</td>\n      <td>214.0</td>\n      <td>140.0</td>\n      <td>109</td>\n      <td>61</td>\n      <td>98</td>\n      <td>82</td>\n      <td>0</td>\n    </tr>\n    <tr>\n      <th>5</th>\n      <td>Житомирська</td>\n      <td>261.0</td>\n      <td>223.0</td>\n      <td>159.0</td>\n      <td>129</td>\n      <td>89</td>\n      <td>122</td>\n      <td>120</td>\n      <td>79</td>\n    </tr>\n    <tr>\n      <th>6</th>\n      <td>Закарпатська</td>\n      <td>314.0</td>\n      <td>273.0</td>\n      <td>207.0</td>\n      <td>168</td>\n      <td>115</td>\n      <td>151</td>\n      <td>146</td>\n      <td>104</td>\n    </tr>\n    <tr>\n      <th>7</th>\n      <td>Запорізька</td>\n      <td>219.0</td>\n      <td>197.0</td>\n      <td>150.0</td>\n      <td>124</td>\n      <td>71</td>\n      <td>106</td>\n      <td>106</td>\n      <td>68</td>\n    </tr>\n    <tr>\n      <th>8</th>\n      <td>Івано-Франківська</td>\n      <td>243.0</td>\n      <td>248.0</td>\n      <td>182.0</td>\n      <td>155</td>\n      <td>103</td>\n      <td>124</td>\n      <td>122</td>\n      <td>88</td>\n    </tr>\n    <tr>\n      <th>9</th>\n      <td>Київська</td>\n      <td>204.0</td>\n      <td>189.0</td>\n      <td>156.0</td>\n      <td>123</td>\n      <td>73</td>\n      <td>122</td>\n      <td>121</td>\n      <td>80</td>\n    </tr>\n    <tr>\n      <th>10</th>\n      <td>Кіровоградська</td>\n      <td>216.0</td>\n      <td>171.0</td>\n      <td>145.0</td>\n      <td>126</td>\n      <td>79</td>\n      <td>110</td>\n      <td>108</td>\n      <td>68</td>\n    </tr>\n    <tr>\n      <th>11</th>\n      <td>Луганська</td>\n      <td>262.0</td>\n      <td>235.0</td>\n      <td>144.0</td>\n      <td>116</td>\n      <td>62</td>\n      <td>96</td>\n      <td>51</td>\n      <td>0</td>\n    </tr>\n    <tr>\n      <th>12</th>\n      <td>Львівська</td>\n      <td>234.0</td>\n      <td>240.0</td>\n      <td>171.0</td>\n      <td>140</td>\n      <td>91</td>\n      <td>119</td>\n      <td>119</td>\n      <td>87</td>\n    </tr>\n    <tr>\n      <th>13</th>\n      <td>Миколаївська</td>\n      <td>211.0</td>\n      <td>194.0</td>\n      <td>155.0</td>\n      <td>137</td>\n      <td>80</td>\n      <td>115</td>\n      <td>112</td>\n      <td>71</td>\n    </tr>\n    <tr>\n      <th>14</th>\n      <td>Одеська</td>\n      <td>241.0</td>\n      <td>192.0</td>\n      <td>148.0</td>\n      <td>126</td>\n      <td>80</td>\n      <td>127</td>\n      <td>123</td>\n      <td>88</td>\n    </tr>\n    <tr>\n      <th>15</th>\n      <td>Полтавська</td>\n      <td>186.0</td>\n      <td>163.0</td>\n      <td>131.0</td>\n      <td>118</td>\n      <td>70</td>\n      <td>99</td>\n      <td>100</td>\n      <td>65</td>\n    </tr>\n    <tr>\n      <th>16</th>\n      <td>Рівненська</td>\n      <td>269.0</td>\n      <td>267.0</td>\n      <td>193.0</td>\n      <td>158</td>\n      <td>118</td>\n      <td>159</td>\n      <td>148</td>\n      <td>107</td>\n    </tr>\n    <tr>\n      <th>17</th>\n      <td>Сумська</td>\n      <td>216.0</td>\n      <td>184.0</td>\n      <td>132.0</td>\n      <td>115</td>\n      <td>70</td>\n      <td>97</td>\n      <td>92</td>\n      <td>60</td>\n    </tr>\n    <tr>\n      <th>18</th>\n      <td>Тернопільська</td>\n      <td>213.0</td>\n      <td>216.0</td>\n      <td>157.0</td>\n      <td>142</td>\n      <td>92</td>\n      <td>113</td>\n      <td>109</td>\n      <td>76</td>\n    </tr>\n    <tr>\n      <th>19</th>\n      <td>Харківська</td>\n      <td>197.0</td>\n      <td>173.0</td>\n      <td>140.0</td>\n      <td>114</td>\n      <td>68</td>\n      <td>99</td>\n      <td>101</td>\n      <td>68</td>\n    </tr>\n    <tr>\n      <th>20</th>\n      <td>Херсонська</td>\n      <td>208.0</td>\n      <td>214.0</td>\n      <td>166.0</td>\n      <td>143</td>\n      <td>85</td>\n      <td>117</td>\n      <td>115</td>\n      <td>81</td>\n    </tr>\n    <tr>\n      <th>21</th>\n      <td>Хмельницька</td>\n      <td>234.0</td>\n      <td>198.0</td>\n      <td>148.0</td>\n      <td>129</td>\n      <td>85</td>\n      <td>113</td>\n      <td>112</td>\n      <td>79</td>\n    </tr>\n    <tr>\n      <th>22</th>\n      <td>Черкаська</td>\n      <td>205.0</td>\n      <td>179.0</td>\n      <td>144.0</td>\n      <td>123</td>\n      <td>75</td>\n      <td>100</td>\n      <td>98</td>\n      <td>64</td>\n    </tr>\n    <tr>\n      <th>23</th>\n      <td>Чернівецька</td>\n      <td>247.0</td>\n      <td>218.0</td>\n      <td>170.0</td>\n      <td>148</td>\n      <td>101</td>\n      <td>128</td>\n      <td>129</td>\n      <td>92</td>\n    </tr>\n    <tr>\n      <th>24</th>\n      <td>Чернігівська</td>\n      <td>220.0</td>\n      <td>183.0</td>\n      <td>127.0</td>\n      <td>108</td>\n      <td>69</td>\n      <td>94</td>\n      <td>90</td>\n      <td>61</td>\n    </tr>\n    <tr>\n      <th>25</th>\n      <td>Київ</td>\n      <td>NaN</td>\n      <td>174.0</td>\n      <td>159.0</td>\n      <td>120</td>\n      <td>73</td>\n      <td>120</td>\n      <td>121</td>\n      <td>110</td>\n    </tr>\n    <tr>\n      <th>26</th>\n      <td>Севастополь</td>\n      <td>NaN</td>\n      <td>NaN</td>\n      <td>NaN</td>\n      <td>125</td>\n      <td>70</td>\n      <td>120</td>\n      <td>0</td>\n      <td>0</td>\n    </tr>\n  </tbody>\n</table>\n</div>"
     },
     "execution_count": 89,
     "metadata": {},
     "output_type": "execute_result"
    }
   ]
  },
  {
   "cell_type": "markdown",
   "source": [
    "\n",
    "\n",
    "*   Замініть відсутні дані в стовпцях середніми значеннями цих стовпців (метод fillna)"
   ],
   "metadata": {
    "id": "0xVNL8d0t03f"
   }
  },
  {
   "cell_type": "code",
   "source": [
    "table = table.fillna(table.mean(numeric_only=True))\n",
    "table"
   ],
   "metadata": {
    "colab": {
     "base_uri": "https://localhost:8080/"
    },
    "id": "CxizxbQYt6vb",
    "outputId": "4c33f856-eccc-4bde-97c5-63fdb77022bd",
    "ExecuteTime": {
     "end_time": "2023-11-12T11:15:24.997980102Z",
     "start_time": "2023-11-12T11:15:24.859404642Z"
    }
   },
   "execution_count": 90,
   "outputs": [
    {
     "data": {
      "text/plain": "               Регіон    1950        1960   1970  1990  2000  2012 2014 2019\n0                Крим  230.00  206.000000  160.0   130    73   126    0    0\n1           Вінницька  224.00  192.000000  142.0   124    84   112  109   76\n2           Волинська  247.00  250.000000  179.0   153   112   148  141  101\n3    Дніпропетровська  204.00  204.000000  151.0   123    71   112  111   71\n4            Донецька  271.00  214.000000  140.0   109    61    98   82    0\n5         Житомирська  261.00  223.000000  159.0   129    89   122  120   79\n6        Закарпатська  314.00  273.000000  207.0   168   115   151  146  104\n7          Запорізька  219.00  197.000000  150.0   124    71   106  106   68\n8   Івано-Франківська  243.00  248.000000  182.0   155   103   124  122   88\n9            Київська  204.00  189.000000  156.0   123    73   122  121   80\n10     Кіровоградська  216.00  171.000000  145.0   126    79   110  108   68\n11          Луганська  262.00  235.000000  144.0   116    62    96   51    0\n12          Львівська  234.00  240.000000  171.0   140    91   119  119   87\n13       Миколаївська  211.00  194.000000  155.0   137    80   115  112   71\n14            Одеська  241.00  192.000000  148.0   126    80   127  123   88\n15         Полтавська  186.00  163.000000  131.0   118    70    99  100   65\n16         Рівненська  269.00  267.000000  193.0   158   118   159  148  107\n17            Сумська  216.00  184.000000  132.0   115    70    97   92   60\n18      Тернопільська  213.00  216.000000  157.0   142    92   113  109   76\n19         Харківська  197.00  173.000000  140.0   114    68    99  101   68\n20         Херсонська  208.00  214.000000  166.0   143    85   117  115   81\n21        Хмельницька  234.00  198.000000  148.0   129    85   113  112   79\n22          Черкаська  205.00  179.000000  144.0   123    75   100   98   64\n23        Чернівецька  247.00  218.000000  170.0   148   101   128  129   92\n24       Чернігівська  220.00  183.000000  127.0   108    69    94   90   61\n25               Київ  231.04  174.000000  159.0   120    73   120  121  110\n26        Севастополь  231.04  207.576923  156.0   125    70   120    0    0",
      "text/html": "<div>\n<style scoped>\n    .dataframe tbody tr th:only-of-type {\n        vertical-align: middle;\n    }\n\n    .dataframe tbody tr th {\n        vertical-align: top;\n    }\n\n    .dataframe thead th {\n        text-align: right;\n    }\n</style>\n<table border=\"1\" class=\"dataframe\">\n  <thead>\n    <tr style=\"text-align: right;\">\n      <th></th>\n      <th>Регіон</th>\n      <th>1950</th>\n      <th>1960</th>\n      <th>1970</th>\n      <th>1990</th>\n      <th>2000</th>\n      <th>2012</th>\n      <th>2014</th>\n      <th>2019</th>\n    </tr>\n  </thead>\n  <tbody>\n    <tr>\n      <th>0</th>\n      <td>Крим</td>\n      <td>230.00</td>\n      <td>206.000000</td>\n      <td>160.0</td>\n      <td>130</td>\n      <td>73</td>\n      <td>126</td>\n      <td>0</td>\n      <td>0</td>\n    </tr>\n    <tr>\n      <th>1</th>\n      <td>Вінницька</td>\n      <td>224.00</td>\n      <td>192.000000</td>\n      <td>142.0</td>\n      <td>124</td>\n      <td>84</td>\n      <td>112</td>\n      <td>109</td>\n      <td>76</td>\n    </tr>\n    <tr>\n      <th>2</th>\n      <td>Волинська</td>\n      <td>247.00</td>\n      <td>250.000000</td>\n      <td>179.0</td>\n      <td>153</td>\n      <td>112</td>\n      <td>148</td>\n      <td>141</td>\n      <td>101</td>\n    </tr>\n    <tr>\n      <th>3</th>\n      <td>Дніпропетровська</td>\n      <td>204.00</td>\n      <td>204.000000</td>\n      <td>151.0</td>\n      <td>123</td>\n      <td>71</td>\n      <td>112</td>\n      <td>111</td>\n      <td>71</td>\n    </tr>\n    <tr>\n      <th>4</th>\n      <td>Донецька</td>\n      <td>271.00</td>\n      <td>214.000000</td>\n      <td>140.0</td>\n      <td>109</td>\n      <td>61</td>\n      <td>98</td>\n      <td>82</td>\n      <td>0</td>\n    </tr>\n    <tr>\n      <th>5</th>\n      <td>Житомирська</td>\n      <td>261.00</td>\n      <td>223.000000</td>\n      <td>159.0</td>\n      <td>129</td>\n      <td>89</td>\n      <td>122</td>\n      <td>120</td>\n      <td>79</td>\n    </tr>\n    <tr>\n      <th>6</th>\n      <td>Закарпатська</td>\n      <td>314.00</td>\n      <td>273.000000</td>\n      <td>207.0</td>\n      <td>168</td>\n      <td>115</td>\n      <td>151</td>\n      <td>146</td>\n      <td>104</td>\n    </tr>\n    <tr>\n      <th>7</th>\n      <td>Запорізька</td>\n      <td>219.00</td>\n      <td>197.000000</td>\n      <td>150.0</td>\n      <td>124</td>\n      <td>71</td>\n      <td>106</td>\n      <td>106</td>\n      <td>68</td>\n    </tr>\n    <tr>\n      <th>8</th>\n      <td>Івано-Франківська</td>\n      <td>243.00</td>\n      <td>248.000000</td>\n      <td>182.0</td>\n      <td>155</td>\n      <td>103</td>\n      <td>124</td>\n      <td>122</td>\n      <td>88</td>\n    </tr>\n    <tr>\n      <th>9</th>\n      <td>Київська</td>\n      <td>204.00</td>\n      <td>189.000000</td>\n      <td>156.0</td>\n      <td>123</td>\n      <td>73</td>\n      <td>122</td>\n      <td>121</td>\n      <td>80</td>\n    </tr>\n    <tr>\n      <th>10</th>\n      <td>Кіровоградська</td>\n      <td>216.00</td>\n      <td>171.000000</td>\n      <td>145.0</td>\n      <td>126</td>\n      <td>79</td>\n      <td>110</td>\n      <td>108</td>\n      <td>68</td>\n    </tr>\n    <tr>\n      <th>11</th>\n      <td>Луганська</td>\n      <td>262.00</td>\n      <td>235.000000</td>\n      <td>144.0</td>\n      <td>116</td>\n      <td>62</td>\n      <td>96</td>\n      <td>51</td>\n      <td>0</td>\n    </tr>\n    <tr>\n      <th>12</th>\n      <td>Львівська</td>\n      <td>234.00</td>\n      <td>240.000000</td>\n      <td>171.0</td>\n      <td>140</td>\n      <td>91</td>\n      <td>119</td>\n      <td>119</td>\n      <td>87</td>\n    </tr>\n    <tr>\n      <th>13</th>\n      <td>Миколаївська</td>\n      <td>211.00</td>\n      <td>194.000000</td>\n      <td>155.0</td>\n      <td>137</td>\n      <td>80</td>\n      <td>115</td>\n      <td>112</td>\n      <td>71</td>\n    </tr>\n    <tr>\n      <th>14</th>\n      <td>Одеська</td>\n      <td>241.00</td>\n      <td>192.000000</td>\n      <td>148.0</td>\n      <td>126</td>\n      <td>80</td>\n      <td>127</td>\n      <td>123</td>\n      <td>88</td>\n    </tr>\n    <tr>\n      <th>15</th>\n      <td>Полтавська</td>\n      <td>186.00</td>\n      <td>163.000000</td>\n      <td>131.0</td>\n      <td>118</td>\n      <td>70</td>\n      <td>99</td>\n      <td>100</td>\n      <td>65</td>\n    </tr>\n    <tr>\n      <th>16</th>\n      <td>Рівненська</td>\n      <td>269.00</td>\n      <td>267.000000</td>\n      <td>193.0</td>\n      <td>158</td>\n      <td>118</td>\n      <td>159</td>\n      <td>148</td>\n      <td>107</td>\n    </tr>\n    <tr>\n      <th>17</th>\n      <td>Сумська</td>\n      <td>216.00</td>\n      <td>184.000000</td>\n      <td>132.0</td>\n      <td>115</td>\n      <td>70</td>\n      <td>97</td>\n      <td>92</td>\n      <td>60</td>\n    </tr>\n    <tr>\n      <th>18</th>\n      <td>Тернопільська</td>\n      <td>213.00</td>\n      <td>216.000000</td>\n      <td>157.0</td>\n      <td>142</td>\n      <td>92</td>\n      <td>113</td>\n      <td>109</td>\n      <td>76</td>\n    </tr>\n    <tr>\n      <th>19</th>\n      <td>Харківська</td>\n      <td>197.00</td>\n      <td>173.000000</td>\n      <td>140.0</td>\n      <td>114</td>\n      <td>68</td>\n      <td>99</td>\n      <td>101</td>\n      <td>68</td>\n    </tr>\n    <tr>\n      <th>20</th>\n      <td>Херсонська</td>\n      <td>208.00</td>\n      <td>214.000000</td>\n      <td>166.0</td>\n      <td>143</td>\n      <td>85</td>\n      <td>117</td>\n      <td>115</td>\n      <td>81</td>\n    </tr>\n    <tr>\n      <th>21</th>\n      <td>Хмельницька</td>\n      <td>234.00</td>\n      <td>198.000000</td>\n      <td>148.0</td>\n      <td>129</td>\n      <td>85</td>\n      <td>113</td>\n      <td>112</td>\n      <td>79</td>\n    </tr>\n    <tr>\n      <th>22</th>\n      <td>Черкаська</td>\n      <td>205.00</td>\n      <td>179.000000</td>\n      <td>144.0</td>\n      <td>123</td>\n      <td>75</td>\n      <td>100</td>\n      <td>98</td>\n      <td>64</td>\n    </tr>\n    <tr>\n      <th>23</th>\n      <td>Чернівецька</td>\n      <td>247.00</td>\n      <td>218.000000</td>\n      <td>170.0</td>\n      <td>148</td>\n      <td>101</td>\n      <td>128</td>\n      <td>129</td>\n      <td>92</td>\n    </tr>\n    <tr>\n      <th>24</th>\n      <td>Чернігівська</td>\n      <td>220.00</td>\n      <td>183.000000</td>\n      <td>127.0</td>\n      <td>108</td>\n      <td>69</td>\n      <td>94</td>\n      <td>90</td>\n      <td>61</td>\n    </tr>\n    <tr>\n      <th>25</th>\n      <td>Київ</td>\n      <td>231.04</td>\n      <td>174.000000</td>\n      <td>159.0</td>\n      <td>120</td>\n      <td>73</td>\n      <td>120</td>\n      <td>121</td>\n      <td>110</td>\n    </tr>\n    <tr>\n      <th>26</th>\n      <td>Севастополь</td>\n      <td>231.04</td>\n      <td>207.576923</td>\n      <td>156.0</td>\n      <td>125</td>\n      <td>70</td>\n      <td>120</td>\n      <td>0</td>\n      <td>0</td>\n    </tr>\n  </tbody>\n</table>\n</div>"
     },
     "execution_count": 90,
     "metadata": {},
     "output_type": "execute_result"
    }
   ]
  },
  {
   "cell_type": "markdown",
   "source": [
    "\n",
    "\n",
    "*   Отримайте список регіонів, де рівень народжуваності у 2019 році був вищим за середній по Україні\n",
    "\n"
   ],
   "metadata": {
    "id": "GwR7D4MKu-uu"
   }
  },
  {
   "cell_type": "code",
   "source": [
    "if '2019' in table.columns:\n",
    "    higher_than_avg = table[table['2019'] > table['2019'].mean()]\n",
    "    if 'Регіон' in higher_than_avg.columns:\n",
    "        print(higher_than_avg['Регіон'])\n",
    "    else:\n",
    "        print(\"Стовпець 'Регіон' відсутній у вашому датафреймі.\")\n",
    "else:\n",
    "    print(\"Стовпець '2019' відсутній у вашому датафреймі.\")"
   ],
   "metadata": {
    "colab": {
     "base_uri": "https://localhost:8080/"
    },
    "id": "E7JjgNcrvLDE",
    "outputId": "2d099683-f374-4f92-da93-6c67ad54d8c8",
    "ExecuteTime": {
     "end_time": "2023-11-12T11:15:25.251273632Z",
     "start_time": "2023-11-12T11:15:24.967399767Z"
    }
   },
   "execution_count": 91,
   "outputs": [
    {
     "ename": "TypeError",
     "evalue": "unsupported operand type(s) for +: 'int' and 'str'",
     "output_type": "error",
     "traceback": [
      "\u001B[0;31m---------------------------------------------------------------------------\u001B[0m",
      "\u001B[0;31mTypeError\u001B[0m                                 Traceback (most recent call last)",
      "Cell \u001B[0;32mIn[91], line 2\u001B[0m\n\u001B[1;32m      1\u001B[0m \u001B[38;5;28;01mif\u001B[39;00m \u001B[38;5;124m'\u001B[39m\u001B[38;5;124m2019\u001B[39m\u001B[38;5;124m'\u001B[39m \u001B[38;5;129;01min\u001B[39;00m table\u001B[38;5;241m.\u001B[39mcolumns:\n\u001B[0;32m----> 2\u001B[0m     higher_than_avg \u001B[38;5;241m=\u001B[39m table[table[\u001B[38;5;124m'\u001B[39m\u001B[38;5;124m2019\u001B[39m\u001B[38;5;124m'\u001B[39m] \u001B[38;5;241m>\u001B[39m \u001B[43mtable\u001B[49m\u001B[43m[\u001B[49m\u001B[38;5;124;43m'\u001B[39;49m\u001B[38;5;124;43m2019\u001B[39;49m\u001B[38;5;124;43m'\u001B[39;49m\u001B[43m]\u001B[49m\u001B[38;5;241;43m.\u001B[39;49m\u001B[43mmean\u001B[49m\u001B[43m(\u001B[49m\u001B[43m)\u001B[49m]\n\u001B[1;32m      3\u001B[0m     \u001B[38;5;28;01mif\u001B[39;00m \u001B[38;5;124m'\u001B[39m\u001B[38;5;124mРегіон\u001B[39m\u001B[38;5;124m'\u001B[39m \u001B[38;5;129;01min\u001B[39;00m higher_than_avg\u001B[38;5;241m.\u001B[39mcolumns:\n\u001B[1;32m      4\u001B[0m         \u001B[38;5;28mprint\u001B[39m(higher_than_avg[\u001B[38;5;124m'\u001B[39m\u001B[38;5;124mРегіон\u001B[39m\u001B[38;5;124m'\u001B[39m])\n",
      "File \u001B[0;32m~/PycharmProjects/GoIT/PythonData/.venv/lib/python3.11/site-packages/pandas/core/series.py:6221\u001B[0m, in \u001B[0;36mSeries.mean\u001B[0;34m(self, axis, skipna, numeric_only, **kwargs)\u001B[0m\n\u001B[1;32m   6213\u001B[0m \u001B[38;5;129m@doc\u001B[39m(make_doc(\u001B[38;5;124m\"\u001B[39m\u001B[38;5;124mmean\u001B[39m\u001B[38;5;124m\"\u001B[39m, ndim\u001B[38;5;241m=\u001B[39m\u001B[38;5;241m1\u001B[39m))\n\u001B[1;32m   6214\u001B[0m \u001B[38;5;28;01mdef\u001B[39;00m \u001B[38;5;21mmean\u001B[39m(\n\u001B[1;32m   6215\u001B[0m     \u001B[38;5;28mself\u001B[39m,\n\u001B[0;32m   (...)\u001B[0m\n\u001B[1;32m   6219\u001B[0m     \u001B[38;5;241m*\u001B[39m\u001B[38;5;241m*\u001B[39mkwargs,\n\u001B[1;32m   6220\u001B[0m ):\n\u001B[0;32m-> 6221\u001B[0m     \u001B[38;5;28;01mreturn\u001B[39;00m \u001B[43mNDFrame\u001B[49m\u001B[38;5;241;43m.\u001B[39;49m\u001B[43mmean\u001B[49m\u001B[43m(\u001B[49m\u001B[38;5;28;43mself\u001B[39;49m\u001B[43m,\u001B[49m\u001B[43m \u001B[49m\u001B[43maxis\u001B[49m\u001B[43m,\u001B[49m\u001B[43m \u001B[49m\u001B[43mskipna\u001B[49m\u001B[43m,\u001B[49m\u001B[43m \u001B[49m\u001B[43mnumeric_only\u001B[49m\u001B[43m,\u001B[49m\u001B[43m \u001B[49m\u001B[38;5;241;43m*\u001B[39;49m\u001B[38;5;241;43m*\u001B[39;49m\u001B[43mkwargs\u001B[49m\u001B[43m)\u001B[49m\n",
      "File \u001B[0;32m~/PycharmProjects/GoIT/PythonData/.venv/lib/python3.11/site-packages/pandas/core/generic.py:11984\u001B[0m, in \u001B[0;36mNDFrame.mean\u001B[0;34m(self, axis, skipna, numeric_only, **kwargs)\u001B[0m\n\u001B[1;32m  11977\u001B[0m \u001B[38;5;28;01mdef\u001B[39;00m \u001B[38;5;21mmean\u001B[39m(\n\u001B[1;32m  11978\u001B[0m     \u001B[38;5;28mself\u001B[39m,\n\u001B[1;32m  11979\u001B[0m     axis: Axis \u001B[38;5;241m|\u001B[39m \u001B[38;5;28;01mNone\u001B[39;00m \u001B[38;5;241m=\u001B[39m \u001B[38;5;241m0\u001B[39m,\n\u001B[0;32m   (...)\u001B[0m\n\u001B[1;32m  11982\u001B[0m     \u001B[38;5;241m*\u001B[39m\u001B[38;5;241m*\u001B[39mkwargs,\n\u001B[1;32m  11983\u001B[0m ) \u001B[38;5;241m-\u001B[39m\u001B[38;5;241m>\u001B[39m Series \u001B[38;5;241m|\u001B[39m \u001B[38;5;28mfloat\u001B[39m:\n\u001B[0;32m> 11984\u001B[0m     \u001B[38;5;28;01mreturn\u001B[39;00m \u001B[38;5;28;43mself\u001B[39;49m\u001B[38;5;241;43m.\u001B[39;49m\u001B[43m_stat_function\u001B[49m\u001B[43m(\u001B[49m\n\u001B[1;32m  11985\u001B[0m \u001B[43m        \u001B[49m\u001B[38;5;124;43m\"\u001B[39;49m\u001B[38;5;124;43mmean\u001B[39;49m\u001B[38;5;124;43m\"\u001B[39;49m\u001B[43m,\u001B[49m\u001B[43m \u001B[49m\u001B[43mnanops\u001B[49m\u001B[38;5;241;43m.\u001B[39;49m\u001B[43mnanmean\u001B[49m\u001B[43m,\u001B[49m\u001B[43m \u001B[49m\u001B[43maxis\u001B[49m\u001B[43m,\u001B[49m\u001B[43m \u001B[49m\u001B[43mskipna\u001B[49m\u001B[43m,\u001B[49m\u001B[43m \u001B[49m\u001B[43mnumeric_only\u001B[49m\u001B[43m,\u001B[49m\u001B[43m \u001B[49m\u001B[38;5;241;43m*\u001B[39;49m\u001B[38;5;241;43m*\u001B[39;49m\u001B[43mkwargs\u001B[49m\n\u001B[1;32m  11986\u001B[0m \u001B[43m    \u001B[49m\u001B[43m)\u001B[49m\n",
      "File \u001B[0;32m~/PycharmProjects/GoIT/PythonData/.venv/lib/python3.11/site-packages/pandas/core/generic.py:11941\u001B[0m, in \u001B[0;36mNDFrame._stat_function\u001B[0;34m(self, name, func, axis, skipna, numeric_only, **kwargs)\u001B[0m\n\u001B[1;32m  11937\u001B[0m nv\u001B[38;5;241m.\u001B[39mvalidate_func(name, (), kwargs)\n\u001B[1;32m  11939\u001B[0m validate_bool_kwarg(skipna, \u001B[38;5;124m\"\u001B[39m\u001B[38;5;124mskipna\u001B[39m\u001B[38;5;124m\"\u001B[39m, none_allowed\u001B[38;5;241m=\u001B[39m\u001B[38;5;28;01mFalse\u001B[39;00m)\n\u001B[0;32m> 11941\u001B[0m \u001B[38;5;28;01mreturn\u001B[39;00m \u001B[38;5;28;43mself\u001B[39;49m\u001B[38;5;241;43m.\u001B[39;49m\u001B[43m_reduce\u001B[49m\u001B[43m(\u001B[49m\n\u001B[1;32m  11942\u001B[0m \u001B[43m    \u001B[49m\u001B[43mfunc\u001B[49m\u001B[43m,\u001B[49m\u001B[43m \u001B[49m\u001B[43mname\u001B[49m\u001B[38;5;241;43m=\u001B[39;49m\u001B[43mname\u001B[49m\u001B[43m,\u001B[49m\u001B[43m \u001B[49m\u001B[43maxis\u001B[49m\u001B[38;5;241;43m=\u001B[39;49m\u001B[43maxis\u001B[49m\u001B[43m,\u001B[49m\u001B[43m \u001B[49m\u001B[43mskipna\u001B[49m\u001B[38;5;241;43m=\u001B[39;49m\u001B[43mskipna\u001B[49m\u001B[43m,\u001B[49m\u001B[43m \u001B[49m\u001B[43mnumeric_only\u001B[49m\u001B[38;5;241;43m=\u001B[39;49m\u001B[43mnumeric_only\u001B[49m\n\u001B[1;32m  11943\u001B[0m \u001B[43m\u001B[49m\u001B[43m)\u001B[49m\n",
      "File \u001B[0;32m~/PycharmProjects/GoIT/PythonData/.venv/lib/python3.11/site-packages/pandas/core/series.py:6129\u001B[0m, in \u001B[0;36mSeries._reduce\u001B[0;34m(self, op, name, axis, skipna, numeric_only, filter_type, **kwds)\u001B[0m\n\u001B[1;32m   6124\u001B[0m     \u001B[38;5;66;03m# GH#47500 - change to TypeError to match other methods\u001B[39;00m\n\u001B[1;32m   6125\u001B[0m     \u001B[38;5;28;01mraise\u001B[39;00m \u001B[38;5;167;01mTypeError\u001B[39;00m(\n\u001B[1;32m   6126\u001B[0m         \u001B[38;5;124mf\u001B[39m\u001B[38;5;124m\"\u001B[39m\u001B[38;5;124mSeries.\u001B[39m\u001B[38;5;132;01m{\u001B[39;00mname\u001B[38;5;132;01m}\u001B[39;00m\u001B[38;5;124m does not allow \u001B[39m\u001B[38;5;132;01m{\u001B[39;00mkwd_name\u001B[38;5;132;01m}\u001B[39;00m\u001B[38;5;124m=\u001B[39m\u001B[38;5;132;01m{\u001B[39;00mnumeric_only\u001B[38;5;132;01m}\u001B[39;00m\u001B[38;5;124m \u001B[39m\u001B[38;5;124m\"\u001B[39m\n\u001B[1;32m   6127\u001B[0m         \u001B[38;5;124m\"\u001B[39m\u001B[38;5;124mwith non-numeric dtypes.\u001B[39m\u001B[38;5;124m\"\u001B[39m\n\u001B[1;32m   6128\u001B[0m     )\n\u001B[0;32m-> 6129\u001B[0m \u001B[38;5;28;01mreturn\u001B[39;00m \u001B[43mop\u001B[49m\u001B[43m(\u001B[49m\u001B[43mdelegate\u001B[49m\u001B[43m,\u001B[49m\u001B[43m \u001B[49m\u001B[43mskipna\u001B[49m\u001B[38;5;241;43m=\u001B[39;49m\u001B[43mskipna\u001B[49m\u001B[43m,\u001B[49m\u001B[43m \u001B[49m\u001B[38;5;241;43m*\u001B[39;49m\u001B[38;5;241;43m*\u001B[39;49m\u001B[43mkwds\u001B[49m\u001B[43m)\u001B[49m\n",
      "File \u001B[0;32m~/PycharmProjects/GoIT/PythonData/.venv/lib/python3.11/site-packages/pandas/core/nanops.py:147\u001B[0m, in \u001B[0;36mbottleneck_switch.__call__.<locals>.f\u001B[0;34m(values, axis, skipna, **kwds)\u001B[0m\n\u001B[1;32m    145\u001B[0m         result \u001B[38;5;241m=\u001B[39m alt(values, axis\u001B[38;5;241m=\u001B[39maxis, skipna\u001B[38;5;241m=\u001B[39mskipna, \u001B[38;5;241m*\u001B[39m\u001B[38;5;241m*\u001B[39mkwds)\n\u001B[1;32m    146\u001B[0m \u001B[38;5;28;01melse\u001B[39;00m:\n\u001B[0;32m--> 147\u001B[0m     result \u001B[38;5;241m=\u001B[39m \u001B[43malt\u001B[49m\u001B[43m(\u001B[49m\u001B[43mvalues\u001B[49m\u001B[43m,\u001B[49m\u001B[43m \u001B[49m\u001B[43maxis\u001B[49m\u001B[38;5;241;43m=\u001B[39;49m\u001B[43maxis\u001B[49m\u001B[43m,\u001B[49m\u001B[43m \u001B[49m\u001B[43mskipna\u001B[49m\u001B[38;5;241;43m=\u001B[39;49m\u001B[43mskipna\u001B[49m\u001B[43m,\u001B[49m\u001B[43m \u001B[49m\u001B[38;5;241;43m*\u001B[39;49m\u001B[38;5;241;43m*\u001B[39;49m\u001B[43mkwds\u001B[49m\u001B[43m)\u001B[49m\n\u001B[1;32m    149\u001B[0m \u001B[38;5;28;01mreturn\u001B[39;00m result\n",
      "File \u001B[0;32m~/PycharmProjects/GoIT/PythonData/.venv/lib/python3.11/site-packages/pandas/core/nanops.py:404\u001B[0m, in \u001B[0;36m_datetimelike_compat.<locals>.new_func\u001B[0;34m(values, axis, skipna, mask, **kwargs)\u001B[0m\n\u001B[1;32m    401\u001B[0m \u001B[38;5;28;01mif\u001B[39;00m datetimelike \u001B[38;5;129;01mand\u001B[39;00m mask \u001B[38;5;129;01mis\u001B[39;00m \u001B[38;5;28;01mNone\u001B[39;00m:\n\u001B[1;32m    402\u001B[0m     mask \u001B[38;5;241m=\u001B[39m isna(values)\n\u001B[0;32m--> 404\u001B[0m result \u001B[38;5;241m=\u001B[39m \u001B[43mfunc\u001B[49m\u001B[43m(\u001B[49m\u001B[43mvalues\u001B[49m\u001B[43m,\u001B[49m\u001B[43m \u001B[49m\u001B[43maxis\u001B[49m\u001B[38;5;241;43m=\u001B[39;49m\u001B[43maxis\u001B[49m\u001B[43m,\u001B[49m\u001B[43m \u001B[49m\u001B[43mskipna\u001B[49m\u001B[38;5;241;43m=\u001B[39;49m\u001B[43mskipna\u001B[49m\u001B[43m,\u001B[49m\u001B[43m \u001B[49m\u001B[43mmask\u001B[49m\u001B[38;5;241;43m=\u001B[39;49m\u001B[43mmask\u001B[49m\u001B[43m,\u001B[49m\u001B[43m \u001B[49m\u001B[38;5;241;43m*\u001B[39;49m\u001B[38;5;241;43m*\u001B[39;49m\u001B[43mkwargs\u001B[49m\u001B[43m)\u001B[49m\n\u001B[1;32m    406\u001B[0m \u001B[38;5;28;01mif\u001B[39;00m datetimelike:\n\u001B[1;32m    407\u001B[0m     result \u001B[38;5;241m=\u001B[39m _wrap_results(result, orig_values\u001B[38;5;241m.\u001B[39mdtype, fill_value\u001B[38;5;241m=\u001B[39miNaT)\n",
      "File \u001B[0;32m~/PycharmProjects/GoIT/PythonData/.venv/lib/python3.11/site-packages/pandas/core/nanops.py:719\u001B[0m, in \u001B[0;36mnanmean\u001B[0;34m(values, axis, skipna, mask)\u001B[0m\n\u001B[1;32m    716\u001B[0m     dtype_count \u001B[38;5;241m=\u001B[39m dtype\n\u001B[1;32m    718\u001B[0m count \u001B[38;5;241m=\u001B[39m _get_counts(values\u001B[38;5;241m.\u001B[39mshape, mask, axis, dtype\u001B[38;5;241m=\u001B[39mdtype_count)\n\u001B[0;32m--> 719\u001B[0m the_sum \u001B[38;5;241m=\u001B[39m \u001B[43mvalues\u001B[49m\u001B[38;5;241;43m.\u001B[39;49m\u001B[43msum\u001B[49m\u001B[43m(\u001B[49m\u001B[43maxis\u001B[49m\u001B[43m,\u001B[49m\u001B[43m \u001B[49m\u001B[43mdtype\u001B[49m\u001B[38;5;241;43m=\u001B[39;49m\u001B[43mdtype_sum\u001B[49m\u001B[43m)\u001B[49m\n\u001B[1;32m    720\u001B[0m the_sum \u001B[38;5;241m=\u001B[39m _ensure_numeric(the_sum)\n\u001B[1;32m    722\u001B[0m \u001B[38;5;28;01mif\u001B[39;00m axis \u001B[38;5;129;01mis\u001B[39;00m \u001B[38;5;129;01mnot\u001B[39;00m \u001B[38;5;28;01mNone\u001B[39;00m \u001B[38;5;129;01mand\u001B[39;00m \u001B[38;5;28mgetattr\u001B[39m(the_sum, \u001B[38;5;124m\"\u001B[39m\u001B[38;5;124mndim\u001B[39m\u001B[38;5;124m\"\u001B[39m, \u001B[38;5;28;01mFalse\u001B[39;00m):\n",
      "File \u001B[0;32m~/PycharmProjects/GoIT/PythonData/.venv/lib/python3.11/site-packages/numpy/core/_methods.py:49\u001B[0m, in \u001B[0;36m_sum\u001B[0;34m(a, axis, dtype, out, keepdims, initial, where)\u001B[0m\n\u001B[1;32m     47\u001B[0m \u001B[38;5;28;01mdef\u001B[39;00m \u001B[38;5;21m_sum\u001B[39m(a, axis\u001B[38;5;241m=\u001B[39m\u001B[38;5;28;01mNone\u001B[39;00m, dtype\u001B[38;5;241m=\u001B[39m\u001B[38;5;28;01mNone\u001B[39;00m, out\u001B[38;5;241m=\u001B[39m\u001B[38;5;28;01mNone\u001B[39;00m, keepdims\u001B[38;5;241m=\u001B[39m\u001B[38;5;28;01mFalse\u001B[39;00m,\n\u001B[1;32m     48\u001B[0m          initial\u001B[38;5;241m=\u001B[39m_NoValue, where\u001B[38;5;241m=\u001B[39m\u001B[38;5;28;01mTrue\u001B[39;00m):\n\u001B[0;32m---> 49\u001B[0m     \u001B[38;5;28;01mreturn\u001B[39;00m umr_sum(a, axis, dtype, out, keepdims, initial, where)\n",
      "\u001B[0;31mTypeError\u001B[0m: unsupported operand type(s) for +: 'int' and 'str'"
     ]
    }
   ]
  },
  {
   "cell_type": "markdown",
   "source": [
    "\n",
    "\n",
    "*   У якому регіоні була найвища народжуваність у 2014 році?\n",
    "\n"
   ],
   "metadata": {
    "id": "OlxwVYr-vB0i"
   }
  },
  {
   "cell_type": "code",
   "source": [
    "max_birth_2014 = table['Регіон'].iloc[table['2014'].idxmax()]\n",
    "max_birth_2014"
   ],
   "metadata": {
    "colab": {
     "base_uri": "https://localhost:8080/"
    },
    "id": "OjSWwlNuvL0U",
    "outputId": "dffaf002-49fd-49ba-b9f2-6322eb399494",
    "ExecuteTime": {
     "end_time": "2023-11-12T11:15:25.256241513Z",
     "start_time": "2023-11-12T11:15:25.251763760Z"
    }
   },
   "execution_count": null,
   "outputs": []
  },
  {
   "cell_type": "markdown",
   "source": [
    "\n",
    "\n",
    "*   Побудуйте стовпчикову діаграму народжуваності по регіонах у 2019 році\n",
    "\n"
   ],
   "metadata": {
    "id": "Er1Yt6MMvFqe"
   }
  },
  {
   "cell_type": "code",
   "source": [
    "table.plot(x='Регіон', y='2019', kind='bar', legend=False)"
   ],
   "metadata": {
    "colab": {
     "base_uri": "https://localhost:8080/",
     "height": 588
    },
    "id": "v20-mDmlvMaC",
    "outputId": "909142cd-506e-4880-cd76-c7866e6ed96d",
    "ExecuteTime": {
     "start_time": "2023-11-12T11:15:25.255781570Z"
    }
   },
   "execution_count": null,
   "outputs": []
  },
  {
   "cell_type": "markdown",
   "source": [
    "діаграму народжуваності по регіонах у 2019 році"
   ],
   "metadata": {
    "collapsed": false
   }
  },
  {
   "cell_type": "code",
   "execution_count": null,
   "outputs": [],
   "source": [
    "plt.figure(figsize=(12, 6))\n",
    "sns.barplot(x='Регіон', y='2019', data=table, hue='Регіон')\n",
    "plt.title('Народжуваність по регіонах в 2019 році')\n",
    "plt.xlabel('Регіон')\n",
    "plt.ylabel('Коефіцієнт народжуваності')\n",
    "plt.xticks(rotation=45, ha='right')\n",
    "plt.tight_layout()\n",
    "plt.show()"
   ],
   "metadata": {
    "collapsed": false,
    "ExecuteTime": {
     "end_time": "2023-11-12T11:15:25.268219480Z",
     "start_time": "2023-11-12T11:15:25.258905805Z"
    }
   }
  }
 ]
}
