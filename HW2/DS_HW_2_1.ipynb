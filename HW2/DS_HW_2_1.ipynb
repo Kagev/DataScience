{
 "nbformat": 4,
 "nbformat_minor": 0,
 "metadata": {
  "colab": {
   "provenance": []
  },
  "kernelspec": {
   "name": "python3",
   "display_name": "Python 3"
  },
  "language_info": {
   "name": "python"
  }
 },
 "cells": [
  {
   "cell_type": "code",
   "execution_count": null,
   "outputs": [],
   "source": [
    "import matplotlib.pyplot as plt\n",
    "import pandas as pd\n",
    "import seaborn as sns"
   ],
   "metadata": {
    "collapsed": false
   }
  },
  {
   "cell_type": "markdown",
   "source": [
    "Прочитайте дані за допомогою методу read_html з таблиці \"Коефіцієнт народжуваності в регіонах України (1950—2019)\" посилання"
   ],
   "metadata": {
    "id": "FV4ZNsIhoCF1"
   }
  },
  {
   "cell_type": "code",
   "execution_count": 85,
   "metadata": {
    "colab": {
     "base_uri": "https://localhost:8080/"
    },
    "id": "4PXwFq9mfnvT",
    "outputId": "d723d507-d996-4f49-bf10-a7d029cc5c15"
   },
   "outputs": [
    {
     "output_type": "stream",
     "name": "stdout",
     "text": [
      "[               Регіон   1950   1960   1970  1990  2000  2012 2014 2019\n",
      "0                Крим  230.0  206.0  160.0   130    73   126    —    —\n",
      "1           Вінницька  224.0  192.0  142.0   124    84   112  109   76\n",
      "2           Волинська  247.0  250.0  179.0   153   112   148  141  101\n",
      "3    Дніпропетровська  204.0  204.0  151.0   123    71   112  111   71\n",
      "4            Донецька  271.0  214.0  140.0   109    61    98   82    —\n",
      "5         Житомирська  261.0  223.0  159.0   129    89   122  120   79\n",
      "6        Закарпатська  314.0  273.0  207.0   168   115   151  146  104\n",
      "7          Запорізька  219.0  197.0  150.0   124    71   106  106   68\n",
      "8   Івано-Франківська  243.0  248.0  182.0   155   103   124  122   88\n",
      "9            Київська  204.0  189.0  156.0   123    73   122  121   80\n",
      "10     Кіровоградська  216.0  171.0  145.0   126    79   110  108   68\n",
      "11          Луганська  262.0  235.0  144.0   116    62    96   51    —\n",
      "12          Львівська  234.0  240.0  171.0   140    91   119  119   87\n",
      "13       Миколаївська  211.0  194.0  155.0   137    80   115  112   71\n",
      "14            Одеська  241.0  192.0  148.0   126    80   127  123   88\n",
      "15         Полтавська  186.0  163.0  131.0   118    70    99  100   65\n",
      "16         Рівненська  269.0  267.0  193.0   158   118   159  148  107\n",
      "17            Сумська  216.0  184.0  132.0   115    70    97   92   60\n",
      "18      Тернопільська  213.0  216.0  157.0   142    92   113  109   76\n",
      "19         Харківська  197.0  173.0  140.0   114    68    99  101   68\n",
      "20         Херсонська  208.0  214.0  166.0   143    85   117  115   81\n",
      "21        Хмельницька  234.0  198.0  148.0   129    85   113  112   79\n",
      "22          Черкаська  205.0  179.0  144.0   123    75   100   98   64\n",
      "23        Чернівецька  247.0  218.0  170.0   148   101   128  129   92\n",
      "24       Чернігівська  220.0  183.0  127.0   108    69    94   90   61\n",
      "25               Київ    NaN  174.0  159.0   120    73   120  121  110\n",
      "26        Севастополь    NaN    NaN    NaN   125    70   120    —    —\n",
      "27            Україна  228.0  205.0  152.0   126    78   114  111   81]\n"
     ]
    }
   ],
   "source": [
    "# data = sns.load_dataset(\"mpg\")\n",
    "url = 'https://uk.wikipedia.org/wiki/%D0%9D%D0%B0%D1%81%D0%B5%D0%BB%D0%B5%D0%BD%D0%BD%D1%8F_%D0%A3%D0%BA%D1%80%D0%B0%D1%97%D0%BD%D0%B8'\n",
    "\n",
    "tables = pd.read_html(url, match='Коефіцієнт народжуваності в регіонах України')\n",
    "print(tables)\n",
    "\n",
    "\n",
    "\n",
    "\n"
   ]
  },
  {
   "cell_type": "markdown",
   "source": [
    "\n",
    "\n",
    "*   Вивести перші рядки таблиці за допомогою методу head\n",
    "\n"
   ],
   "metadata": {
    "id": "fLPHLSHHoJ9l"
   }
  },
  {
   "cell_type": "code",
   "source": [
    "print(table.head())"
   ],
   "metadata": {
    "colab": {
     "base_uri": "https://localhost:8080/"
    },
    "id": "UEyOuaTLoA7k",
    "outputId": "5be79452-9a70-43d1-b6a2-9c92bf8ab44c"
   },
   "execution_count": 86,
   "outputs": [
    {
     "output_type": "stream",
     "name": "stdout",
     "text": [
      "             Регіон   1950   1960   1970  1990  2000  2012    2014        2019\n",
      "0              Крим  230.0  206.0  160.0   130    73   126  111.44   80.173913\n",
      "1         Вінницька  224.0  192.0  142.0   124    84   112  109.00   76.000000\n",
      "2         Волинська  247.0  250.0  179.0   153   112   148  141.00  101.000000\n",
      "3  Дніпропетровська  204.0  204.0  151.0   123    71   112  111.00   71.000000\n",
      "4          Донецька  271.0  214.0  140.0   109    61    98   82.00   80.173913\n"
     ]
    }
   ]
  },
  {
   "cell_type": "markdown",
   "source": [
    "\n",
    "\n",
    "*   Визначте кількість рядків та стовпців у датафреймі (атрибут shape)\n",
    "\n"
   ],
   "metadata": {
    "id": "EXKG2OIHoR0D"
   }
  },
  {
   "cell_type": "code",
   "source": [
    "print(table.shape)"
   ],
   "metadata": {
    "colab": {
     "base_uri": "https://localhost:8080/"
    },
    "id": "WQ4KvuTan0kh",
    "outputId": "a8be4c33-125c-479a-ec34-2e8f781923ba"
   },
   "execution_count": 87,
   "outputs": [
    {
     "output_type": "stream",
     "name": "stdout",
     "text": [
      "(27, 9)\n"
     ]
    }
   ]
  },
  {
   "cell_type": "markdown",
   "source": [
    "\n",
    "\n",
    "*   Замініть у таблиці значення \"—\" на значення NaN\n",
    "\n"
   ],
   "metadata": {
    "id": "qK80FbKhoags"
   }
  },
  {
   "cell_type": "code",
   "source": [
    "table.replace('—', pd.NA, inplace=True)\n",
    "print(table)"
   ],
   "metadata": {
    "colab": {
     "base_uri": "https://localhost:8080/"
    },
    "id": "j895ejtGofQz",
    "outputId": "4674c490-1bfc-440f-9881-f406b61ee744"
   },
   "execution_count": 88,
   "outputs": [
    {
     "output_type": "stream",
     "name": "stdout",
     "text": [
      "               Регіон    1950        1960   1970  1990  2000  2012    2014  \\\n",
      "0                Крим  230.00  206.000000  160.0   130    73   126  111.44   \n",
      "1           Вінницька  224.00  192.000000  142.0   124    84   112  109.00   \n",
      "2           Волинська  247.00  250.000000  179.0   153   112   148  141.00   \n",
      "3    Дніпропетровська  204.00  204.000000  151.0   123    71   112  111.00   \n",
      "4            Донецька  271.00  214.000000  140.0   109    61    98   82.00   \n",
      "5         Житомирська  261.00  223.000000  159.0   129    89   122  120.00   \n",
      "6        Закарпатська  314.00  273.000000  207.0   168   115   151  146.00   \n",
      "7          Запорізька  219.00  197.000000  150.0   124    71   106  106.00   \n",
      "8   Івано-Франківська  243.00  248.000000  182.0   155   103   124  122.00   \n",
      "9            Київська  204.00  189.000000  156.0   123    73   122  121.00   \n",
      "10     Кіровоградська  216.00  171.000000  145.0   126    79   110  108.00   \n",
      "11          Луганська  262.00  235.000000  144.0   116    62    96   51.00   \n",
      "12          Львівська  234.00  240.000000  171.0   140    91   119  119.00   \n",
      "13       Миколаївська  211.00  194.000000  155.0   137    80   115  112.00   \n",
      "14            Одеська  241.00  192.000000  148.0   126    80   127  123.00   \n",
      "15         Полтавська  186.00  163.000000  131.0   118    70    99  100.00   \n",
      "16         Рівненська  269.00  267.000000  193.0   158   118   159  148.00   \n",
      "17            Сумська  216.00  184.000000  132.0   115    70    97   92.00   \n",
      "18      Тернопільська  213.00  216.000000  157.0   142    92   113  109.00   \n",
      "19         Харківська  197.00  173.000000  140.0   114    68    99  101.00   \n",
      "20         Херсонська  208.00  214.000000  166.0   143    85   117  115.00   \n",
      "21        Хмельницька  234.00  198.000000  148.0   129    85   113  112.00   \n",
      "22          Черкаська  205.00  179.000000  144.0   123    75   100   98.00   \n",
      "23        Чернівецька  247.00  218.000000  170.0   148   101   128  129.00   \n",
      "24       Чернігівська  220.00  183.000000  127.0   108    69    94   90.00   \n",
      "25               Київ  231.04  174.000000  159.0   120    73   120  121.00   \n",
      "26        Севастополь  231.04  207.576923  156.0   125    70   120  111.44   \n",
      "\n",
      "          2019  \n",
      "0    80.173913  \n",
      "1    76.000000  \n",
      "2   101.000000  \n",
      "3    71.000000  \n",
      "4    80.173913  \n",
      "5    79.000000  \n",
      "6   104.000000  \n",
      "7    68.000000  \n",
      "8    88.000000  \n",
      "9    80.000000  \n",
      "10   68.000000  \n",
      "11   80.173913  \n",
      "12   87.000000  \n",
      "13   71.000000  \n",
      "14   88.000000  \n",
      "15   65.000000  \n",
      "16  107.000000  \n",
      "17   60.000000  \n",
      "18   76.000000  \n",
      "19   68.000000  \n",
      "20   81.000000  \n",
      "21   79.000000  \n",
      "22   64.000000  \n",
      "23   92.000000  \n",
      "24   61.000000  \n",
      "25  110.000000  \n",
      "26   80.173913  \n"
     ]
    }
   ]
  },
  {
   "cell_type": "markdown",
   "source": [
    "\n",
    "*   Визначте типи всіх стовпців за допомогою dataframe.dtypes\n"
   ],
   "metadata": {
    "id": "UcorNG8tpKFr"
   }
  },
  {
   "cell_type": "code",
   "source": [
    "print(table.dtypes)"
   ],
   "metadata": {
    "colab": {
     "base_uri": "https://localhost:8080/"
    },
    "id": "JDOuz5NgpfLU",
    "outputId": "8221396a-8689-4af7-ad93-362ec734aa25"
   },
   "execution_count": 89,
   "outputs": [
    {
     "output_type": "stream",
     "name": "stdout",
     "text": [
      "Регіон     object\n",
      "1950      float64\n",
      "1960      float64\n",
      "1970      float64\n",
      "1990        int64\n",
      "2000        int64\n",
      "2012        int64\n",
      "2014      float64\n",
      "2019      float64\n",
      "dtype: object\n"
     ]
    }
   ]
  },
  {
   "cell_type": "markdown",
   "source": [
    "\n",
    "\n",
    "*   Замініть типи нечислових колонок на числові. Підказка - це колонки, де знаходився символ \"—\"\n",
    "\n"
   ],
   "metadata": {
    "id": "20-X9n5HptCj"
   }
  },
  {
   "cell_type": "markdown",
   "source": [],
   "metadata": {
    "id": "_CDvq9b8r_OE"
   }
  },
  {
   "cell_type": "code",
   "source": [
    "for i in range(1, table.shape[1]):\n",
    "    if table.dtypes[i] != 'int64' and table.dtypes[i] != 'float64':\n",
    "        table[table.columns[i]] = pd.to_numeric(table[table.columns[i]], errors='coerce')\n",
    "\n",
    "print(table.dtypes)"
   ],
   "metadata": {
    "colab": {
     "base_uri": "https://localhost:8080/"
    },
    "id": "P0uS2EGKpw9j",
    "outputId": "ae804368-62d4-4f4f-89b4-2e28a08c4185"
   },
   "execution_count": 90,
   "outputs": [
    {
     "output_type": "stream",
     "name": "stdout",
     "text": [
      "Регіон     object\n",
      "1950      float64\n",
      "1960      float64\n",
      "1970      float64\n",
      "1990        int64\n",
      "2000        int64\n",
      "2012        int64\n",
      "2014      float64\n",
      "2019      float64\n",
      "dtype: object\n"
     ]
    }
   ]
  },
  {
   "cell_type": "code",
   "source": [
    "# # Заміна типів нечислових колонок на числові\n",
    "# non_numeric_columns = [col for col in table.columns if table[col].dtype == object]\n",
    "# table[non_numeric_columns] = table[non_numeric_columns].apply(pd.to_numeric, errors='coerce')\n",
    "# print(table[non_numeric_columns])"
   ],
   "metadata": {
    "id": "eFhv1QetseJQ"
   },
   "execution_count": 91,
   "outputs": []
  },
  {
   "cell_type": "markdown",
   "source": [
    "\n",
    "\n",
    "*   Порахуйте, яка частка пропусків міститься в кожній колонці (використовуйте методи isnull та sum)\n",
    "\n"
   ],
   "metadata": {
    "id": "VwXh2AChtJEm"
   }
  },
  {
   "cell_type": "code",
   "source": [
    "print(table.isnull().sum())"
   ],
   "metadata": {
    "colab": {
     "base_uri": "https://localhost:8080/"
    },
    "id": "aQevGmyVs6AD",
    "outputId": "ed0cca4c-f983-47d8-c0a6-4b5b67c0a53d"
   },
   "execution_count": 92,
   "outputs": [
    {
     "output_type": "stream",
     "name": "stdout",
     "text": [
      "Регіон    0\n",
      "1950      0\n",
      "1960      0\n",
      "1970      0\n",
      "1990      0\n",
      "2000      0\n",
      "2012      0\n",
      "2014      0\n",
      "2019      0\n",
      "dtype: int64\n"
     ]
    }
   ]
  },
  {
   "cell_type": "markdown",
   "source": [
    "\n",
    "\n",
    "*   Видаліть з таблиці дані по всій країні, останній рядок таблиці\n",
    "\n"
   ],
   "metadata": {
    "id": "ZnvDounrtYww"
   }
  },
  {
   "cell_type": "code",
   "source": [
    "table = table.iloc[:-1]\n",
    "print(table)"
   ],
   "metadata": {
    "colab": {
     "base_uri": "https://localhost:8080/"
    },
    "id": "oOMMeFz9tbg1",
    "outputId": "d50bd899-2433-4231-a8c9-3ec6583bff68"
   },
   "execution_count": 93,
   "outputs": [
    {
     "output_type": "stream",
     "name": "stdout",
     "text": [
      "               Регіон    1950   1960   1970  1990  2000  2012    2014  \\\n",
      "0                Крим  230.00  206.0  160.0   130    73   126  111.44   \n",
      "1           Вінницька  224.00  192.0  142.0   124    84   112  109.00   \n",
      "2           Волинська  247.00  250.0  179.0   153   112   148  141.00   \n",
      "3    Дніпропетровська  204.00  204.0  151.0   123    71   112  111.00   \n",
      "4            Донецька  271.00  214.0  140.0   109    61    98   82.00   \n",
      "5         Житомирська  261.00  223.0  159.0   129    89   122  120.00   \n",
      "6        Закарпатська  314.00  273.0  207.0   168   115   151  146.00   \n",
      "7          Запорізька  219.00  197.0  150.0   124    71   106  106.00   \n",
      "8   Івано-Франківська  243.00  248.0  182.0   155   103   124  122.00   \n",
      "9            Київська  204.00  189.0  156.0   123    73   122  121.00   \n",
      "10     Кіровоградська  216.00  171.0  145.0   126    79   110  108.00   \n",
      "11          Луганська  262.00  235.0  144.0   116    62    96   51.00   \n",
      "12          Львівська  234.00  240.0  171.0   140    91   119  119.00   \n",
      "13       Миколаївська  211.00  194.0  155.0   137    80   115  112.00   \n",
      "14            Одеська  241.00  192.0  148.0   126    80   127  123.00   \n",
      "15         Полтавська  186.00  163.0  131.0   118    70    99  100.00   \n",
      "16         Рівненська  269.00  267.0  193.0   158   118   159  148.00   \n",
      "17            Сумська  216.00  184.0  132.0   115    70    97   92.00   \n",
      "18      Тернопільська  213.00  216.0  157.0   142    92   113  109.00   \n",
      "19         Харківська  197.00  173.0  140.0   114    68    99  101.00   \n",
      "20         Херсонська  208.00  214.0  166.0   143    85   117  115.00   \n",
      "21        Хмельницька  234.00  198.0  148.0   129    85   113  112.00   \n",
      "22          Черкаська  205.00  179.0  144.0   123    75   100   98.00   \n",
      "23        Чернівецька  247.00  218.0  170.0   148   101   128  129.00   \n",
      "24       Чернігівська  220.00  183.0  127.0   108    69    94   90.00   \n",
      "25               Київ  231.04  174.0  159.0   120    73   120  121.00   \n",
      "\n",
      "          2019  \n",
      "0    80.173913  \n",
      "1    76.000000  \n",
      "2   101.000000  \n",
      "3    71.000000  \n",
      "4    80.173913  \n",
      "5    79.000000  \n",
      "6   104.000000  \n",
      "7    68.000000  \n",
      "8    88.000000  \n",
      "9    80.000000  \n",
      "10   68.000000  \n",
      "11   80.173913  \n",
      "12   87.000000  \n",
      "13   71.000000  \n",
      "14   88.000000  \n",
      "15   65.000000  \n",
      "16  107.000000  \n",
      "17   60.000000  \n",
      "18   76.000000  \n",
      "19   68.000000  \n",
      "20   81.000000  \n",
      "21   79.000000  \n",
      "22   64.000000  \n",
      "23   92.000000  \n",
      "24   61.000000  \n",
      "25  110.000000  \n"
     ]
    }
   ]
  },
  {
   "cell_type": "markdown",
   "source": [
    "\n",
    "\n",
    "*   Замініть відсутні дані в стовпцях середніми значеннями цих стовпців (метод fillna)"
   ],
   "metadata": {
    "id": "0xVNL8d0t03f"
   }
  },
  {
   "cell_type": "code",
   "source": [
    "table = table.fillna(table.mean(numeric_only=True))\n",
    "print(table)"
   ],
   "metadata": {
    "colab": {
     "base_uri": "https://localhost:8080/"
    },
    "id": "CxizxbQYt6vb",
    "outputId": "4c33f856-eccc-4bde-97c5-63fdb77022bd"
   },
   "execution_count": 94,
   "outputs": [
    {
     "output_type": "stream",
     "name": "stdout",
     "text": [
      "               Регіон    1950   1960   1970  1990  2000  2012    2014  \\\n",
      "0                Крим  230.00  206.0  160.0   130    73   126  111.44   \n",
      "1           Вінницька  224.00  192.0  142.0   124    84   112  109.00   \n",
      "2           Волинська  247.00  250.0  179.0   153   112   148  141.00   \n",
      "3    Дніпропетровська  204.00  204.0  151.0   123    71   112  111.00   \n",
      "4            Донецька  271.00  214.0  140.0   109    61    98   82.00   \n",
      "5         Житомирська  261.00  223.0  159.0   129    89   122  120.00   \n",
      "6        Закарпатська  314.00  273.0  207.0   168   115   151  146.00   \n",
      "7          Запорізька  219.00  197.0  150.0   124    71   106  106.00   \n",
      "8   Івано-Франківська  243.00  248.0  182.0   155   103   124  122.00   \n",
      "9            Київська  204.00  189.0  156.0   123    73   122  121.00   \n",
      "10     Кіровоградська  216.00  171.0  145.0   126    79   110  108.00   \n",
      "11          Луганська  262.00  235.0  144.0   116    62    96   51.00   \n",
      "12          Львівська  234.00  240.0  171.0   140    91   119  119.00   \n",
      "13       Миколаївська  211.00  194.0  155.0   137    80   115  112.00   \n",
      "14            Одеська  241.00  192.0  148.0   126    80   127  123.00   \n",
      "15         Полтавська  186.00  163.0  131.0   118    70    99  100.00   \n",
      "16         Рівненська  269.00  267.0  193.0   158   118   159  148.00   \n",
      "17            Сумська  216.00  184.0  132.0   115    70    97   92.00   \n",
      "18      Тернопільська  213.00  216.0  157.0   142    92   113  109.00   \n",
      "19         Харківська  197.00  173.0  140.0   114    68    99  101.00   \n",
      "20         Херсонська  208.00  214.0  166.0   143    85   117  115.00   \n",
      "21        Хмельницька  234.00  198.0  148.0   129    85   113  112.00   \n",
      "22          Черкаська  205.00  179.0  144.0   123    75   100   98.00   \n",
      "23        Чернівецька  247.00  218.0  170.0   148   101   128  129.00   \n",
      "24       Чернігівська  220.00  183.0  127.0   108    69    94   90.00   \n",
      "25               Київ  231.04  174.0  159.0   120    73   120  121.00   \n",
      "\n",
      "          2019  \n",
      "0    80.173913  \n",
      "1    76.000000  \n",
      "2   101.000000  \n",
      "3    71.000000  \n",
      "4    80.173913  \n",
      "5    79.000000  \n",
      "6   104.000000  \n",
      "7    68.000000  \n",
      "8    88.000000  \n",
      "9    80.000000  \n",
      "10   68.000000  \n",
      "11   80.173913  \n",
      "12   87.000000  \n",
      "13   71.000000  \n",
      "14   88.000000  \n",
      "15   65.000000  \n",
      "16  107.000000  \n",
      "17   60.000000  \n",
      "18   76.000000  \n",
      "19   68.000000  \n",
      "20   81.000000  \n",
      "21   79.000000  \n",
      "22   64.000000  \n",
      "23   92.000000  \n",
      "24   61.000000  \n",
      "25  110.000000  \n"
     ]
    }
   ]
  },
  {
   "cell_type": "markdown",
   "source": [
    "\n",
    "\n",
    "*   Отримайте список регіонів, де рівень народжуваності у 2019 році був вищим за середній по Україні\n",
    "\n"
   ],
   "metadata": {
    "id": "GwR7D4MKu-uu"
   }
  },
  {
   "cell_type": "code",
   "source": [
    "if '2019' in table.columns:\n",
    "    higher_than_avg = table[table['2019'] > table['2019'].mean()]\n",
    "    if 'Регіон' in higher_than_avg.columns:\n",
    "        print(higher_than_avg['Регіон'])\n",
    "    else:\n",
    "        print(\"Стовпець 'Регіон' відсутній у вашому датафреймі.\")\n",
    "else:\n",
    "    print(\"Стовпець '2019' відсутній у вашому датафреймі.\")"
   ],
   "metadata": {
    "colab": {
     "base_uri": "https://localhost:8080/"
    },
    "id": "E7JjgNcrvLDE",
    "outputId": "2d099683-f374-4f92-da93-6c67ad54d8c8"
   },
   "execution_count": 95,
   "outputs": [
    {
     "output_type": "stream",
     "name": "stdout",
     "text": [
      "2             Волинська\n",
      "6          Закарпатська\n",
      "8     Івано-Франківська\n",
      "12            Львівська\n",
      "14              Одеська\n",
      "16           Рівненська\n",
      "20           Херсонська\n",
      "23          Чернівецька\n",
      "25                 Київ\n",
      "Name: Регіон, dtype: object\n"
     ]
    }
   ]
  },
  {
   "cell_type": "markdown",
   "source": [
    "\n",
    "\n",
    "*   У якому регіоні була найвища народжуваність у 2014 році?\n",
    "\n"
   ],
   "metadata": {
    "id": "OlxwVYr-vB0i"
   }
  },
  {
   "cell_type": "code",
   "source": [
    "max_birth_2014 = table['Регіон'].iloc[table['2014'].idxmax()]\n",
    "print(max_birth_2014)"
   ],
   "metadata": {
    "colab": {
     "base_uri": "https://localhost:8080/"
    },
    "id": "OjSWwlNuvL0U",
    "outputId": "dffaf002-49fd-49ba-b9f2-6322eb399494"
   },
   "execution_count": 96,
   "outputs": [
    {
     "output_type": "stream",
     "name": "stdout",
     "text": [
      "Рівненська\n"
     ]
    }
   ]
  },
  {
   "cell_type": "markdown",
   "source": [
    "\n",
    "\n",
    "*   Побудуйте стовпчикову діаграму народжуваності по регіонах у 2019 році\n",
    "\n"
   ],
   "metadata": {
    "id": "Er1Yt6MMvFqe"
   }
  },
  {
   "cell_type": "code",
   "source": [
    "table.plot(x='Регіон', y='2019', kind='bar')"
   ],
   "metadata": {
    "colab": {
     "base_uri": "https://localhost:8080/",
     "height": 588
    },
    "id": "v20-mDmlvMaC",
    "outputId": "909142cd-506e-4880-cd76-c7866e6ed96d"
   },
   "execution_count": 97,
   "outputs": [
    {
     "output_type": "execute_result",
     "data": {
      "text/plain": [
       "<Axes: xlabel='Регіон'>"
      ]
     },
     "metadata": {},
     "execution_count": 97
    },
    {
     "output_type": "display_data",
     "data": {
      "text/plain": [
       "<Figure size 640x480 with 1 Axes>"
      ],
      "image/png": "[encoded data removed]"
     },
     "metadata": {}
    }
   ]
  }
 ]
}
